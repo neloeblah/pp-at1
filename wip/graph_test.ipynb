{
 "cells": [
  {
   "cell_type": "code",
   "execution_count": 58,
   "metadata": {},
   "outputs": [],
   "source": [
    "import plotly.express as px\n",
    "import pandas as pd\n",
    "from newsapi import News, TopHeadlines, Sources\n",
    "\n",
    "api_key = \"3b8c7e9d0e2c43a7bc2083b63ec7b313\""
   ]
  },
  {
   "cell_type": "code",
   "execution_count": 59,
   "metadata": {},
   "outputs": [
    {
     "data": {
      "text/plain": [
       "{'status': 'ok',\n",
       " 'totalResults': 12476,\n",
       " 'articles': [{'source': {'id': 'business-insider',\n",
       "    'name': 'Business Insider'},\n",
       "   'author': 'Peter Kafka',\n",
       "   'title': \"Why the NBA doesn't hate the Jontay Porter sports betting scandal\",\n",
       "   'description': 'The NBA is happy to make an example of Jontay Porter. It really wants sports betting to thrive, so a lifetime ban is an easy call.',\n",
       "   'url': 'https://www.businessinsider.com/nba-ban-jontay-porter-toronto-raptors-easy-call-why-2024-4',\n",
       "   'urlToImage': 'https://i.insider.com/6620305710c6b0cde5f07db8?width=1200&format=jpeg',\n",
       "   'publishedAt': '2024-04-17T20:36:26Z',\n",
       "   'content': \"Jontay Porter (center) has been banned by the NBA for life after a betting scandal.Photo by Zou Zheng/Xinhua via Getty Images\\r\\n<ul><li>The Toronto Raptors' Jontay Porter received a lifetime ban from … [+3713 chars]\"},\n",
       "  {'source': {'id': None, 'name': 'NPR'},\n",
       "   'author': None,\n",
       "   'title': 'NBA bans Jontay Porter after gambling probe shows he shared information, bet on games',\n",
       "   'description': 'The Toronto Raptors player has been banned for life from the NBA after a league probe found he disclosed confidential information to sports bettors and bet on games.',\n",
       "   'url': 'https://www.npr.org/2024/04/17/1245301982/nba-bans-jontay-porter-gambling',\n",
       "   'urlToImage': 'https://media.npr.org/assets/img/2024/04/17/ap24108596882358_wide-a40a53ea5a554fd7c90488751617c5e285b9ad9e-s1400-c100.jpg',\n",
       "   'publishedAt': '2024-04-17T16:52:45Z',\n",
       "   'content': 'Toronto Raptors center Jontay Porter (right) pulls in a rebound as Denver Nuggets center Nikola Jokic defends in an NBA game on March 11 in Denver. On Wednesday, the NBA banned Porter after a league … [+2773 chars]'},\n",
       "  {'source': {'id': None, 'name': '[Removed]'},\n",
       "   'author': None,\n",
       "   'title': '[Removed]',\n",
       "   'description': '[Removed]',\n",
       "   'url': 'https://removed.com',\n",
       "   'urlToImage': None,\n",
       "   'publishedAt': '1970-01-01T00:00:00Z',\n",
       "   'content': '[Removed]'},\n",
       "  {'source': {'id': None, 'name': '[Removed]'},\n",
       "   'author': None,\n",
       "   'title': '[Removed]',\n",
       "   'description': '[Removed]',\n",
       "   'url': 'https://removed.com',\n",
       "   'urlToImage': None,\n",
       "   'publishedAt': '1970-01-01T00:00:00Z',\n",
       "   'content': '[Removed]'},\n",
       "  {'source': {'id': 'espn', 'name': 'ESPN'},\n",
       "   'author': 'Adrian Wojnarowski',\n",
       "   'title': 'Lottery prospect Buzelis enters 2024 NBA draft',\n",
       "   'description': \"Matas Buzelis, the No. 6 prospect in ESPN's Top 100 prospect list, averaged 14.1 points and 6.6 rebounds per game for the G League Ignite this season after choosing the NBA's feeder program over several top college basketball programs.\",\n",
       "   'url': 'https://www.espn.com/nba/story/_/id/39927961/matas-buzelis-enters-draft-g-league-ignite-season',\n",
       "   'urlToImage': 'https://a3.espncdn.com/combiner/i?img=%2Fphoto%2F2024%2F0219%2Fr1293085_1296x729_16%2D9.jpg',\n",
       "   'publishedAt': '2024-04-12T16:05:13Z',\n",
       "   'content': \"The G League Ignite's Matas Buzelis -- the No. 6 prospect in ESPN's Top 100 prospect list -- will enter the 2024 NBA draft, he told ESPN.\\r\\nBuzelis, a 6-foot-10 forward out of Chicago, averaged 14.1 p… [+652 chars]\"},\n",
       "  {'source': {'id': 'espn', 'name': 'ESPN'},\n",
       "   'author': 'Jonathan Givony',\n",
       "   'title': 'Miami freshman guard George entering NBA draft',\n",
       "   'description': 'Miami freshman Kyshawn George, the No. 24 prospect according to ESPN, is preparing to enter the NBA draft.',\n",
       "   'url': 'https://www.espn.com/nba/story/_/id/40024731/miami-freshman-guard-kyshawn-george-entering-nba-draft',\n",
       "   'urlToImage': 'https://a4.espncdn.com/combiner/i?img=%2Fphoto%2F2024%2F0213%2Fr1290652_1296x729_16%2D9.jpg',\n",
       "   'publishedAt': '2024-04-25T21:05:42Z',\n",
       "   'content': 'Miami freshman Kyshawn George, a projected first-round pick, told ESPN he is forgoing his remaining college eligibility, hiring an agent and submitting paperwork to become eligible for the 2024 NBA d… [+1347 chars]'},\n",
       "  {'source': {'id': 'espn', 'name': 'ESPN'},\n",
       "   'author': 'NBA Insiders',\n",
       "   'title': 'Biggest takeaways from every Game 1 of the NBA playoffs',\n",
       "   'description': 'Our experts give their biggest takeaways from every Game 1 of the 2024 NBA playoffs.',\n",
       "   'url': 'https://www.espn.com/nba/story/_/id/39991668/biggest-takeaways-first-weekend-2024-nba-playoffs',\n",
       "   'urlToImage': 'https://a1.espncdn.com/combiner/i?img=%2Fphoto%2F2024%2F0422%2Fr1322336_1296x729_16%2D9.jpg',\n",
       "   'publishedAt': '2024-04-22T12:42:10Z',\n",
       "   'content': \"The NBA playoffs tipped off this weekend, as the Denver Nuggets look to become the NBA's first repeat champions since the 2017 and 2018 Golden State Warriors. They picked up right where they left off… [+14698 chars]\"},\n",
       "  {'source': {'id': 'ars-technica', 'name': 'Ars Technica'},\n",
       "   'author': 'Ashley Belanger',\n",
       "   'title': 'Elon Musk’s Grok keeps making up fake news based on X users’ jokes',\n",
       "   'description': 'X likely hopes to avoid liability with disclaimer that Grok \"can make mistakes.\"',\n",
       "   'url': 'https://arstechnica.com/tech-policy/2024/04/elon-musks-grok-keeps-making-up-fake-news-based-on-x-users-jokes/',\n",
       "   'urlToImage': 'https://cdn.arstechnica.net/wp-content/uploads/2024/04/GettyImages-1794263843-760x380.jpg',\n",
       "   'publishedAt': '2024-04-18T21:47:53Z',\n",
       "   'content': \"10\\r\\nX's chatbot Grok is supposed to be an AI engine crunching the platform's posts to surface and summarize breaking news, but this week, Grok's flaws were once again exposed when the chatbot got con… [+5247 chars]\"},\n",
       "  {'source': {'id': 'time', 'name': 'Time'},\n",
       "   'author': 'Sean Gregory',\n",
       "   'title': 'In Defense of the Ad Stirring Outrage Among NBA Fans',\n",
       "   'description': 'Why are fans so upset about the AT&T ad with Oklahoma City Thunder stars Shai Gilgeous-Alexander and Chet Holmgren singing a version of the Christina Aguilera hit?',\n",
       "   'url': 'https://time.com/6973341/what-a-pro-wants-nba-att-ad/',\n",
       "   'urlToImage': 'https://api.time.com/wp-content/uploads/2024/05/What-A-Pro-Wants.png?w=1200&h=628&crop=1',\n",
       "   'publishedAt': '2024-05-02T17:54:56Z',\n",
       "   'content': 'Perhaps the ad, which has run on an endless loop since the start of March Madness, just irks you. Maybe at this point its haunting your dreams, your soul, every freaking fiber of your DNA.\\r\\nIf youve … [+7253 chars]'},\n",
       "  {'source': {'id': 'espn', 'name': 'ESPN'},\n",
       "   'author': 'Bobby Marks',\n",
       "   'title': 'What the Warriors need to do this offseason',\n",
       "   'description': 'We break down what the summer priorities and needs are for the NBA teams who have already been sent home.',\n",
       "   'url': 'https://www.espn.com/nba/insider/story/_/id/39854732/nba-offseason-2024-draft-trade-free-agency-guides-every-eliminated-nba-team',\n",
       "   'urlToImage': 'https://a4.espncdn.com/combiner/i?img=%2Fphoto%2F2024%2F0412%2Fnba_offseason_guide_1296x729.png',\n",
       "   'publishedAt': '2024-04-17T04:41:48Z',\n",
       "   'content': \"Now that the 2023-24 NBA regular season is over, we're turning our attention to how each team should approach the offseason, including the draft and free agency. It starts with the 10 teams that have… [+1475 chars]\"},\n",
       "  {'source': {'id': 'espn', 'name': 'ESPN'},\n",
       "   'author': None,\n",
       "   'title': 'Follow live: Bucks, Pacers continue playoff battle in Game 4',\n",
       "   'description': 'Live coverage of the Milwaukee Bucks vs. Indiana Pacers NBA game on ESPN, including live score, highlights and updated stats.',\n",
       "   'url': 'https://www.espn.com/nba/game?gameId=401655114',\n",
       "   'urlToImage': 'http://s.espncdn.com/stitcher/sports/basketball/nba/events/401655114.png?templateId=espn.com.share.1',\n",
       "   'publishedAt': '2024-04-28T23:20:02Z',\n",
       "   'content': ''},\n",
       "  {'source': {'id': None, 'name': 'NPR'},\n",
       "   'author': None,\n",
       "   'title': \"Iowa-UConn women's Final Four game is the most-watched hoops game in ESPN history\",\n",
       "   'description': \"Friday's semifinal averaged 14.2 million viewers, making it the most-viewed women's basketball game on record and the largest audience for an ESPN basketball broadcast.\",\n",
       "   'url': 'https://www.npr.org/2024/04/06/1243281647/iowa-uconn-womens-final-four-game-is-the-most-watched-hoops-game-in-espn-history',\n",
       "   'urlToImage': 'https://media.npr.org/assets/img/2024/04/06/ap24097106820665_wide-abe2eefe4f848bf63403cb426ea695d6e42b71ef-s1400-c100.jpg',\n",
       "   'publishedAt': '2024-04-07T00:39:44Z',\n",
       "   'content': \"Iowa guard Caitlin Clark (22) with head coach Lisa Bluder during a Final Four college basketball game against UConn in the women's NCAA Tournament, Friday, April 5, 2024, in Cleveland.\\r\\nMorry Gash/AP… [+1774 chars]\"},\n",
       "  {'source': {'id': None, 'name': 'The Athletic'},\n",
       "   'author': 'John Gruber',\n",
       "   'title': 'NBA Bars Jontay Porter for Betting',\n",
       "   'description': 'The league said Porter removed himself from a game to control prop bets on his own play, and placed his own wagers on NBA games.',\n",
       "   'url': 'https://theathletic.com/5423208/2024/04/17/jontay-porter-banned-nba-betting/',\n",
       "   'urlToImage': 'https://cdn.theathletic.com/app/uploads/2024/04/10153115/GettyImages-2072135387-scaled.jpg',\n",
       "   'publishedAt': '2024-04-18T00:15:45Z',\n",
       "   'content': 'NBA commissioner Adam Silver delivered the leagues most severe punishment in decades for gambling on Wednesday, banning Toronto Raptors forward Jontay Porter from the league for what he termed a card… [+7014 chars]'},\n",
       "  {'source': {'id': 'espn', 'name': 'ESPN'},\n",
       "   'author': None,\n",
       "   'title': 'Follow live: No. 8 Lakers visit No. 7 Pelicans looking to secure a spot in the playoffs',\n",
       "   'description': 'Live coverage of the Los Angeles Lakers vs. New Orleans Pelicans NBA game on ESPN, including live score, highlights and updated stats.',\n",
       "   'url': 'https://www.espn.com/nba/game/_/gameId/401654655',\n",
       "   'urlToImage': 'http://s.espncdn.com/stitcher/sports/basketball/nba/events/401654655.png?templateId=espn.com.share.1',\n",
       "   'publishedAt': '2024-04-16T23:37:09Z',\n",
       "   'content': ''},\n",
       "  {'source': {'id': 'espn', 'name': 'ESPN'},\n",
       "   'author': None,\n",
       "   'title': \"Follow live: It's win or go home for the No. 10 Warriors and No. 9 Kings\",\n",
       "   'description': 'Live coverage of the Golden State Warriors vs. Sacramento Kings NBA game on ESPN, including live score, highlights and updated stats.',\n",
       "   'url': 'https://www.espn.com/nba/game/_/gameId/401654656',\n",
       "   'urlToImage': 'http://s.espncdn.com/stitcher/sports/basketball/nba/events/401654656.png?templateId=espn.com.share.1',\n",
       "   'publishedAt': '2024-04-17T02:20:03Z',\n",
       "   'content': ''},\n",
       "  {'source': {'id': 'espn', 'name': 'ESPN'},\n",
       "   'author': None,\n",
       "   'title': 'Follow live: Thunder seeking commanding 3-0 lead as they visit the Pelicans',\n",
       "   'description': 'Live coverage of the Oklahoma City Thunder vs. New Orleans Pelicans NBA game on ESPN, including live score, highlights and updated stats.',\n",
       "   'url': 'https://www.espn.com/nba/game?gameId=401655077',\n",
       "   'urlToImage': 'http://s.espncdn.com/stitcher/sports/basketball/nba/events/401655077.png?templateId=espn.com.share.1',\n",
       "   'publishedAt': '2024-04-27T19:37:11Z',\n",
       "   'content': ''},\n",
       "  {'source': {'id': 'espn', 'name': 'ESPN'},\n",
       "   'author': 'ESPN Insiders',\n",
       "   'title': \"Jokic the inevitable MVP?: NBA experts' picks for regular-season awards\",\n",
       "   'description': 'From MVP to ROY, our NBA insiders give their takes on which players are set to take home some regular-season hardware.',\n",
       "   'url': 'https://www.espn.com/nba/story/_/id/39916984/nba-roundtable-expert-picks-nba-regular-season-awards',\n",
       "   'urlToImage': 'https://a.espncdn.com/combiner/i?img=%2Fphoto%2F2024%2F0412%2Fr1317648_1296x729_16%2D9.jpg',\n",
       "   'publishedAt': '2024-04-12T12:07:26Z',\n",
       "   'content': 'Apr 12, 2024, 08:00 AM ET\\r\\nThe 2023-24 NBA regular season officially wraps up on Sunday, with teams looking toward the play-in tournament next week to shape the playoff picture.\\r\\nBut NBA awards seaso… [+16130 chars]'},\n",
       "  {'source': {'id': 'espn', 'name': 'ESPN'},\n",
       "   'author': 'David Purdum',\n",
       "   'title': 'Celtics title faves, but Boston-Denver close',\n",
       "   'description': 'The Celtics are favorites to win the NBA title, but if they meet the Nuggets in the Finals, it could be a tossup.',\n",
       "   'url': 'https://www.espn.com/nba/story/_/id/39975589/celtics-title-faves-boston-denver-tossup',\n",
       "   'urlToImage': 'https://a3.espncdn.com/combiner/i?img=%2Fphoto%2F2024%2F0418%2Fr1320790_2_1296x729_16%2D9.jpg',\n",
       "   'publishedAt': '2024-04-19T16:35:07Z',\n",
       "   'content': 'The Boston Celtics, with home-court advantage throughout playoffs and a perceived easier path to the Finals, are the consensus betting favorites to win the NBA title at sportsbooks around the nation.… [+1867 chars]'},\n",
       "  {'source': {'id': None, 'name': 'CNET'},\n",
       "   'author': 'Matt Elliott',\n",
       "   'title': 'NHL Playoffs 2024: Schedule, Matchups, TV Times, How to Watch Without Cable - CNET',\n",
       "   'description': 'Discover the best ways to stream March Madness 2024 on TBS without cable. Your ultimate guide for how to watch March Madness and more.',\n",
       "   'url': 'https://www.cnet.com/tech/services-and-software/nhl-playoffs-2024-schedule-matchups-tv-times-how-to-watch-without-cable/',\n",
       "   'urlToImage': 'https://www.cnet.com/a/img/resize/6b28fbbd5f257658577703e44543cc4cba5345f0/hub/2024/04/19/a1b9f29a-abfe-4665-a725-81ac833b61cd/gettyimages-2147889623.jpg?auto=webp&fit=crop&height=675&width=1200',\n",
       "   'publishedAt': '2024-04-20T19:45:05Z',\n",
       "   'content': 'The NBA play-in and playoffs may have already begun, but for hockey fans, the fun starts on Saturday. This weekend brings the first batch of action for the NHL playoffs, with 16 teams fighting for th… [+1955 chars]'},\n",
       "  {'source': {'id': 'espn', 'name': 'ESPN'},\n",
       "   'author': None,\n",
       "   'title': 'Celtics wrap up top seed in NBA with rout of OKC',\n",
       "   'description': 'The Celtics powered past Oklahoma City 135-100 to secure the best record in the NBA and home-court advantage throughout the playoffs.',\n",
       "   'url': 'https://www.espn.com/nba/story/_/id/39871028/celtics-clinch-nba-best-record-runaway-win-okc',\n",
       "   'urlToImage': 'https://a4.espncdn.com/combiner/i?img=%2Fphoto%2F2024%2F0404%2Fr1313929_1296x729_16%2D9.jpg',\n",
       "   'publishedAt': '2024-04-04T02:50:15Z',\n",
       "   'content': 'BOSTON -- Kristaps Porzingis had 27 points, 12 rebounds and five blocks, helping the Boston Celtics power past the Oklahoma City Thunder135-100 on Wednesday night to secure the best record in the NBA… [+1102 chars]'},\n",
       "  {'source': {'id': 'espn', 'name': 'ESPN'},\n",
       "   'author': None,\n",
       "   'title': 'Follow live: Thunder want control of series; Pelicans aim to hit back',\n",
       "   'description': 'Live coverage of the New Orleans Pelicans vs. Oklahoma City Thunder NBA game on ESPN, including live score, highlights and updated stats.',\n",
       "   'url': 'https://www.espn.com/nba/game?gameId=401655076',\n",
       "   'urlToImage': 'http://s.espncdn.com/stitcher/sports/basketball/nba/events/401655076.png?templateId=espn.com.share.1',\n",
       "   'publishedAt': '2024-04-25T01:50:12Z',\n",
       "   'content': ''},\n",
       "  {'source': {'id': 'business-insider', 'name': 'Business Insider'},\n",
       "   'author': 'Cork Gaines',\n",
       "   'title': 'The NFL is starting a new Christmas tradition and it will change how millions of Americans spend the holiday',\n",
       "   'description': 'The NFL announced that it will play two nationally televised games on Christmas this year.',\n",
       "   'url': 'https://www.businessinsider.com/nfl-christmas-day-games-tradition-football-history-thanksgiving-tv-ratings-2024-4',\n",
       "   'urlToImage': 'https://i.insider.com/6616e80c16bde8d4ead7815e?width=1200&format=jpeg',\n",
       "   'publishedAt': '2024-04-12T10:03:01Z',\n",
       "   'content': 'An NFL fan dressed as Santa Claus on Christmas Day.Lachlan Cunningham/Getty Images\\r\\n<ul><li>The NFL will play two nationally televised games on Christmas this year.</li><li>Previously, the NFL avoide… [+4601 chars]'},\n",
       "  {'source': {'id': 'espn', 'name': 'ESPN'},\n",
       "   'author': 'ESPN',\n",
       "   'title': 'NBA Power Rankings: Where all 30 teams stack up with 11 days left in the season',\n",
       "   'description': \"With less than two weeks remaining in the 2023-24 NBA regular season, a multitude of postseason possibilities still exist in both the East and the West. Let's see where all 30 teams land in this final stretch.\",\n",
       "   'url': 'https://www.espn.com/nba/story/_/id/39862755/2023-24-nba-power-rankings-dallas-rises-west-hawks-pacers-battle-east',\n",
       "   'urlToImage': 'https://a3.espncdn.com/combiner/i?img=%2Fphoto%2F2024%2F0401%2Fnba_power24_cr_16x9.jpg',\n",
       "   'publishedAt': '2024-04-03T12:53:29Z',\n",
       "   'content': \"We're less than two weeks away from the conclusion of the 2023-24 NBA regular season, and a myriad of possibilities still remain in the West and East playoff seeding.\\r\\nIn the Western Conference, the … [+22456 chars]\"},\n",
       "  {'source': {'id': 'espn', 'name': 'ESPN'},\n",
       "   'author': 'Adrian Wojnarowski',\n",
       "   'title': 'Taking his talents: Bronny to enter draft, portal',\n",
       "   'description': 'Bronny James will enter the NBA draft as well as the transfer portal. The USC freshman and son of LeBron James averaged 4.8 points, 2.8 rebounds and 2.1 assists.',\n",
       "   'url': 'https://www.espn.com/nba/story/_/id/39879943/usc-bronny-james-entering-nba-draft-transfer-portal',\n",
       "   'urlToImage': 'https://a4.espncdn.com/combiner/i?img=%2Fphoto%2F2024%2F0114%2Fr1277242_1296x729_16%2D9.jpg',\n",
       "   'publishedAt': '2024-04-05T15:06:48Z',\n",
       "   'content': 'USC freshman guard Bronny James will enter the 2024 NBA draft while maintaining his college eligibility and will also enter the transfer portal, he said Friday on Instagram.\\r\\nJames had been expected … [+2384 chars]'},\n",
       "  {'source': {'id': 'abc-news', 'name': 'ABC News'},\n",
       "   'author': 'BETH HARRIS AP sports writer',\n",
       "   'title': \"USC's Bronny James declares for NBA draft and enters transfer portal after 1 season\",\n",
       "   'description': 'Bronny James will enter the NBA draft after one season at Southern California that was shortened by his recovery from cardiac arrest',\n",
       "   'url': 'https://abcnews.go.com/Sports/wireStory/uscs-bronny-james-declares-nba-draft-enters-transfer-108896197',\n",
       "   'urlToImage': 'https://i.abcnewsfe.com/a/022eb67d-e1f8-4989-83aa-f1d548ee6e9d/wirestory_c61a2e0d1834b6f86d27abc941c981bb_16x9.jpg?w=1600',\n",
       "   'publishedAt': '2024-04-05T16:01:28Z',\n",
       "   'content': 'LOS ANGELES -- Bronny James will enter the NBA draft after one season at Southern California that was shortened by his recovery from cardiac arrest.\\r\\nThe 19-year-old son of LeBron James announced Fri… [+1809 chars]'},\n",
       "  {'source': {'id': None, 'name': 'ReadWrite'},\n",
       "   'author': 'Brian-Damien Morgan',\n",
       "   'title': 'Call of Duty: MW3 Season 3 Reloaded’s mid-season content update arrives May 1',\n",
       "   'description': 'Call of Duty: MW3 Season 3 Reloaded will begin May 1, bringing new maps, weapons, and zombies content to fans… Continue reading Call of Duty: MW3 Season 3 Reloaded’s mid-season content update arrives May 1\\nThe post Call of Duty: MW3 Season 3 Reloaded’s mid-se…',\n",
       "   'url': 'https://readwrite.com/call-of-duty-mw3-season-3-reloaded-content-drops-may-1/',\n",
       "   'urlToImage': 'https://readwrite.com/wp-content/uploads/2024/04/Modern-Warfare-3-gets-content-drop.jpg',\n",
       "   'publishedAt': '2024-04-25T16:38:26Z',\n",
       "   'content': 'Call of Duty: MW3 Season 3 Reloaded will begin May 1, bringing new maps, weapons, and zombies content to fans of Activision’s cornerstone shooter. The mid-season drop comes just a month after Season … [+3103 chars]'},\n",
       "  {'source': {'id': 'espn', 'name': 'ESPN'},\n",
       "   'author': 'Jonathan Givony',\n",
       "   'title': 'Recruit Knox joins Arkansas after UK decommit',\n",
       "   'description': 'Karter Knox, the No. 26 recruit in the 2024 ESPN 100 who had previously committed to Kentucky, has recommitted to John Calipari at Arkansas, he told ESPN.',\n",
       "   'url': 'https://www.espn.com/recruiting/basketball/story/_/id/40001328/no-26-recruit-karter-knox-commits-john-calipari-arkansas',\n",
       "   'urlToImage': 'https://a.espncdn.com/combiner/i?img=%2Fphoto%2F2024%2F0308%2Fr1301943_1296x729_16%2D9.jpg',\n",
       "   'publishedAt': '2024-04-22T23:20:15Z',\n",
       "   'content': 'Karter Knox, the No. 26 recruit in the 2024 ESPN 100 who had decommitted from Kentucky, has recommitted to John Calipari at Arkansas, he told ESPN on Monday.\\r\\n\"Throughout my whole recruiting process,… [+2120 chars]'},\n",
       "  {'source': {'id': 'espn', 'name': 'ESPN'},\n",
       "   'author': 'Adrian Wojnarowski',\n",
       "   'title': 'Holiday lands 4-year, $135M extension from Celtics',\n",
       "   'description': 'After arriving in a blockbuster offseason trade, Celtics guard Jrue Holiday has agreed on a four-year, $135 million contract extension, his agent told ESPN on Wednesday.',\n",
       "   'url': 'https://www.espn.com/nba/story/_/id/39916819/jrue-holiday-boston-celtics-agree-4-year-135-million-contract-extension',\n",
       "   'urlToImage': 'https://a2.espncdn.com/combiner/i?img=%2Fphoto%2F2024%2F0410%2Fr1317043_1296x729_16%2D9.jpg',\n",
       "   'publishedAt': '2024-04-10T23:26:06Z',\n",
       "   'content': 'After arriving in a blockbuster offseason trade, Boston Celtics guard Jrue Holiday has agreed on a four-year, $135 million contract extension, his agent Jason Glushon of Glushon Sports Management tol… [+2319 chars]'},\n",
       "  {'source': {'id': None, 'name': 'MacRumors'},\n",
       "   'author': 'Eric Slivka',\n",
       "   'title': 'LeBron James Spotted With Unreleased Beats Pill Speaker',\n",
       "   'description': \"Ahead of tonight's NBA playoff game, the Los Angeles Lakers posted an Instagram reel showing superstar LeBron James arriving at Ball Arena in Denver carrying what appears to be an unreleased version of the Pill speaker from Apple's Beats brand.\\n\\n\\n\\n\\n\\nThe origi…\",\n",
       "   'url': 'https://www.macrumors.com/2024/04/20/lebron-james-unreleased-beats-pill/',\n",
       "   'urlToImage': 'https://images.macrumors.com/t/ujgJlgXlBNJR89AUSulCzjQ3mhM=/1600x/article-new/2024/04/lebron-unreleased-beats-pill.jpg',\n",
       "   'publishedAt': '2024-04-20T23:26:24Z',\n",
       "   'content': \"Ahead of tonight's NBA playoff game, the Los Angeles Lakers posted an Instagram reel showing superstar LeBron James arriving at Ball Arena in Denver carrying what appears to be an unreleased version … [+1093 chars]\"},\n",
       "  {'source': {'id': 'buzzfeed', 'name': 'Buzzfeed'},\n",
       "   'author': 'Alana Valko',\n",
       "   'title': \"I Am 97.33% Sure These Funny Tweets From Last Week Will Have You Crackin' A Big Cheesy Smile\",\n",
       "   'description': '\"The NBA should have jeans night. I wanna see how good they play in jeans.\" —@calebsynanView Entire Post ›',\n",
       "   'url': 'https://www.buzzfeed.com/alanavalko/27-hilarious-tweets-from-the-week',\n",
       "   'urlToImage': 'https://img.buzzfeed.com/buzzfeed-static/static/2024-04/29/17/enhanced/50c8a27b2e4d/original-1352-1714412994-2.jpg?crop=1244:651;0,65%26downsize=1250:*',\n",
       "   'publishedAt': '2024-04-29T17:54:55Z',\n",
       "   'content': 'Hey friends. Im okay but a little shaken up. This morning, my car started spinning in circles before coming to an abrupt stop in the middle of the road. When I got out to see what happened, I found t… [+79 chars]'},\n",
       "  {'source': {'id': 'le-monde', 'name': 'Le Monde'},\n",
       "   'author': 'Le Monde avec AFP',\n",
       "   'title': 'Rudy Gobert n’est plus candidat pour devenir porte-drapeau de la délégation française des JO de Paris 2024',\n",
       "   'description': 'Après avoir manifesté son envie de représenter les athlètes tricolores, le pivot de NBA renonce finalement, en raison du calendrier du tournoi de basket des Jeux olympiques.',\n",
       "   'url': 'https://www.lemonde.fr/sport/article/2024/05/02/rudy-gobert-n-est-plus-candidat-pour-devenir-porte-drapeau-de-la-delegation-francaise-des-jo-de-paris-2024_6231169_3242.html',\n",
       "   'urlToImage': 'https://img.lemde.fr/2024/04/29/0/0/3600/2400/1440/960/60/0/9df18b4_4511bbad5ec547b786da1cbd135941d9-0-54875e515a9c47438fe196f4aca2e69e.jpg',\n",
       "   'publishedAt': '2024-05-02T11:15:44Z',\n",
       "   'content': 'Rudy Gobert, pivot de léquipe des Timberwolves du Minnesota, marque contre les Phoenix Suns, lors dun match des playoffs de NBA, le 28\\xa0avril\\xa02024, à Phoenix (Arizona, Etats-Unis). ROSS D. FRANKLIN / … [+1672 chars]'},\n",
       "  {'source': {'id': 'le-monde', 'name': 'Le Monde'},\n",
       "   'author': 'Théo Quintard',\n",
       "   'title': 'Victor Wembanyama, «\\xa0l’une des voix fortes du vestiaire\\xa0» des Spurs de San Antonio',\n",
       "   'description': 'Auteur d’une première saison en NBA aboutie sur le plan personnel, le Français a\\xa0largement conquis ses coéquipiers, qui ne tarissent pas d’éloges à son égard.',\n",
       "   'url': 'https://www.lemonde.fr/sport/article/2024/04/06/victor-wembanyama-l-une-des-voix-fortes-du-vestiaire-des-spurs-de-san-antonio_6226228_3242.html',\n",
       "   'urlToImage': 'https://img.lemde.fr/2024/03/16/0/0/7549/5033/1440/960/60/0/b6bcd7a_2024-03-16t020059z-1764787172-mt1usatoday22786762-rtrmadp-3-nba-denver-nuggets-at-san-antonio-spurs.JPG',\n",
       "   'publishedAt': '2024-04-06T02:17:53Z',\n",
       "   'content': 'Lintérieur français des Spurs, Victor Wembanyama, lors du match opposant son équipe aux Denver Nuggets, à San Antonio (Texas), le 15 mars 2024. SCOTT WACHTER / USA TODAY SPORTS VIA REUTERS CON\\r\\nIl au… [+2850 chars]'},\n",
       "  {'source': {'id': 'espn', 'name': 'ESPN'},\n",
       "   'author': 'ESPN',\n",
       "   'title': 'NBA playoffs Game 2s: Key factors for the Celtics, Heat, Pelicans and Thunder',\n",
       "   'description': \"Both No. 1 seeds took a 1-0 lead over the weekend. What are the biggest storylines going into Wednesday's Game 2s?\",\n",
       "   'url': 'https://www.espn.com/nba/story/_/id/40012436/the-key-game-2-storylines-celtics-heat-pelicans-thunder',\n",
       "   'urlToImage': 'https://a2.espncdn.com/combiner/i?img=%2Fphoto%2F2024%2F0424%2Fr1323681_1296x729_16%2D9.jpg',\n",
       "   'publishedAt': '2024-04-24T13:22:46Z',\n",
       "   'content': \"Apr 23, 2024, 10:13 PM ET\\r\\nThe Boston Celtics and Oklahoma City Thunder, the two 1-seeds in the 2024 NBA playoffs, both have 1-0 leads in their respective first-round series, but that's just about wh… [+10459 chars]\"},\n",
       "  {'source': {'id': None, 'name': 'NPR'},\n",
       "   'author': 'Rachel Treisman',\n",
       "   'title': 'Caitlin Clark and Fever frenzy hit the WNBA, boosting ticket prices and jersey sales',\n",
       "   'description': 'Demand is skyrocketing to see Caitlin Clark play with the Indiana Fever. Ahead of her WNBA debut, ticket sales are soaring and some teams are relocating their games to larger venues.',\n",
       "   'url': 'https://www.npr.org/2024/04/22/1246308836/caitlin-clark-indiana-fever-wnba-tickets-venues',\n",
       "   'urlToImage': 'https://media.npr.org/assets/img/2024/04/22/ap24106824822318_wide-59cac82f2ff6ef0aec4f314e61a03cb33e69e586-s1400-c100.jpg',\n",
       "   'publishedAt': '2024-04-22T14:56:35Z',\n",
       "   'content': \"Caitlin Clark, pictured autographing sneakers before the WNBA draft last Monday, is helping drive demand for the league's ticket sales and TV coverage.\\r\\nAdam Hunger/AP\\r\\nCaitlin Clark won't make her W… [+5032 chars]\"},\n",
       "  {'source': {'id': None, 'name': 'Digital Trends'},\n",
       "   'author': 'Dan Girolamo',\n",
       "   'title': 'Washington Wizards vs. Boston Celtics live stream: how to watch the NBA online',\n",
       "   'description': 'Find out how to watch a live stream of the NBA regular season game between the Washington Wizards and the Boston Celtics.',\n",
       "   'url': 'https://www.digitaltrends.com/movies/wizards-vs-celtics-watch-live-stream-nba-free-april-2024/',\n",
       "   'urlToImage': 'https://www.digitaltrends.com/wp-content/uploads/2023/10/Jayson_Tatum_51687926198-e1712948495794.jpg?resize=1200%2C630&p=1',\n",
       "   'publishedAt': '2024-04-14T10:30:13Z',\n",
       "   'content': 'All-Pro Reels / Flickr\\r\\nThere is one game left for every NBA team in the regular season. One of those matchups pits Jordan Poole and the Washington Wizards against Jayson Tatum and the Boston Celtics… [+2589 chars]'},\n",
       "  {'source': {'id': None, 'name': 'Digital Trends'},\n",
       "   'author': 'Dan Girolamo',\n",
       "   'title': 'Dallas Mavericks vs. Oklahoma City Thunder live stream: how to watch the NBA online',\n",
       "   'description': 'Find out how to watch a free live stream of the NBA game between the Dallas Mavericks and Oklahoma City Thunder.',\n",
       "   'url': 'https://www.digitaltrends.com/movies/mavericks-vs-thunder-watch-live-stream-nba-free-april-2024/',\n",
       "   'urlToImage': 'https://www.digitaltrends.com/wp-content/uploads/2024/01/Luka-Doncic-Mavericks.jpg?resize=1200%2C630&p=1',\n",
       "   'publishedAt': '2024-04-14T08:30:37Z',\n",
       "   'content': 'Erik Drost / Flickr\\r\\nOne of the more interesting games on the final day of the NBA regular season features Luka Doncic and the Dallas Mavericks taking on Shai Gilgeous-Alexander and the Oklahoma City… [+2675 chars]'},\n",
       "  {'source': {'id': None, 'name': 'Digital Trends'},\n",
       "   'author': 'Dan Girolamo',\n",
       "   'title': 'Brooklyn Nets vs. Philadelphia 76ers live stream: how to watch the NBA online',\n",
       "   'description': 'The Brooklyn Nets and Philadelphia 76ers square off in the final game of the NBA regular season. Find out how to watch a live stream of the game.',\n",
       "   'url': 'https://www.digitaltrends.com/movies/nets-vs-76ers-watch-live-stream-nba-free-april-2024/',\n",
       "   'urlToImage': 'https://www.digitaltrends.com/wp-content/uploads/2024/01/Joel_Embiid_51913841402-e1705033495560.jpg?resize=1200%2C630&p=1',\n",
       "   'publishedAt': '2024-04-14T07:30:53Z',\n",
       "   'content': 'All-Pro Reels / Flickr\\r\\nOn the final day of the NBA regular season, Eastern Conference rivals will square up as the Brooklyn Nets head south to take on the Philadelphia 76ers. The game starts at 1 p.… [+2631 chars]'},\n",
       "  {'source': {'id': 'le-monde', 'name': 'Le Monde'},\n",
       "   'author': 'Le Monde avec AP',\n",
       "   'title': 'Bronny James, fils de LeBron James, participera à la draft NBA 2024',\n",
       "   'description': 'Le fils ainé du meilleur marqueur de l’histoire de la ligue professionnelle nord-américaine de basket a fait cette annonce, moins d’un an après avoir été victime d’un arrêt cardiaque.',\n",
       "   'url': 'https://www.lemonde.fr/sport/article/2024/04/05/bronny-james-fils-de-lebron-james-participera-a-la-draft-nba-2024_6226216_3242.html',\n",
       "   'urlToImage': 'https://img.lemde.fr/2024/04/05/0/0/2380/1586/1440/960/60/0/de5fa8c_eecaa2707bac4efcab04e10fbca5663a-0-80cd8a2c86df4baa96136f8deffdd16e.jpg',\n",
       "   'publishedAt': '2024-04-05T19:09:44Z',\n",
       "   'content': 'Bronny James, sous le maillot de luniversité de Californie du Sud, lors dun match opposant son équipe à celle de luniversité de Washington, à Las Vegas (Nevada, Etats-Unis), le 13\\xa0mars\\xa02024. JOHN LOC… [+1826 chars]'},\n",
       "  {'source': {'id': None, 'name': 'MacRumors'},\n",
       "   'author': 'Juli Clover',\n",
       "   'title': 'Apple Working to Secure Streaming Rights to New FIFA Tournament',\n",
       "   'description': 'Apple is working to secure an exclusive TV deal with soccer governing organization FIFA, reports The New York Times. FIFA is planning a new month-long World Cup-style tournament that will see top teams compete, and Apple wants the TV rights.\\n\\n\\n\\n\\n\\nAn agreement…',\n",
       "   'url': 'https://www.macrumors.com/2024/04/22/apple-fifa-tournament-rights/',\n",
       "   'urlToImage': 'https://images.macrumors.com/t/3oXugAAIUErADRcdlDf4po-r3kU=/1600x/article-new/2024/04/fifa.jpg',\n",
       "   'publishedAt': '2024-04-22T16:58:29Z',\n",
       "   'content': 'Apple is working to secure an exclusive TV deal with soccer governing organization FIFA, reports The New York Times. FIFA is planning a new month-long World Cup-style tournament that will see top tea… [+1312 chars]'},\n",
       "  {'source': {'id': None, 'name': 'Android Police'},\n",
       "   'author': 'Brady Snyder',\n",
       "   'title': \"Google's plan to grow Pixel with pop culture ads and sponsorships is working\",\n",
       "   'description': \"The key to overcoming Pixel's late start is putting them everywhere\",\n",
       "   'url': 'https://www.androidpolice.com/google-grows-pixel-sponsorships-ad-placements/',\n",
       "   'urlToImage': 'https://static1.anpoimages.com/wordpress/wp-content/uploads/wm/2024/01/google-pixel-8-pro-mint-6.jpg',\n",
       "   'publishedAt': '2024-04-24T23:01:12Z',\n",
       "   'content': \"It's no secret that Google was starting at a severe disadvantage when it launched the first Pixel smartphones. The original Pixel and Pixel XL were released in 2016. While that's a long time ago now,… [+6370 chars]\"},\n",
       "  {'source': {'id': 'espn', 'name': 'ESPN'},\n",
       "   'author': None,\n",
       "   'title': 'Thunder clinch No. 1 seed; Nuggets grab No. 2',\n",
       "   'description': 'The Thunder clinched the No. 1 seed in the Western Conference with a win Sunday. The Nuggets will be the No. 2 seed, with the Wolves falling to No. 3.',\n",
       "   'url': 'https://www.espn.com/nba/story/_/id/39943953/thunder-clinch-no-1-seed-western-conference-playoffs',\n",
       "   'urlToImage': 'https://a3.espncdn.com/combiner/i?img=%2Fphoto%2F2024%2F0414%2Fr1318955_1024x576_16%2D9.jpg',\n",
       "   'publishedAt': '2024-04-14T22:26:56Z',\n",
       "   'content': 'Apr 14, 2024, 06:17 PM ET\\r\\nOKLAHOMA CITY -- Shai Gilgeous-Alexander scored 15 points in one half of action, and the Oklahoma City Thunder rolled past the Dallas Mavericks 135-86 on Sunday to clinch t… [+1432 chars]'},\n",
       "  {'source': {'id': 'le-monde', 'name': 'Le Monde'},\n",
       "   'author': 'Clément Martel',\n",
       "   'title': 'Paris 2024\\xa0: avec Rudy Gobert et Victor Wembanyama, l’équipe de France de basket-ball aura une défense de géants',\n",
       "   'description': 'Les deux joueurs français font partie des trois finalistes pour le trophée de meilleur défenseur de la saison en NBA. Avant de se retrouver sous le maillot bleu, en vue des Jeux olympiques.',\n",
       "   'url': 'https://www.lemonde.fr/sport/article/2024/04/24/paris-2024-avec-rudy-gobert-et-victor-wembanyama-l-equipe-de-france-de-basket-ball-aura-une-defense-de-geants_6229610_3242.html',\n",
       "   'urlToImage': 'https://img.lemde.fr/2024/01/28/0/0/4587/3058/1440/960/60/0/d2b4d70_5468790-01-06.jpg',\n",
       "   'publishedAt': '2024-04-24T09:00:06Z',\n",
       "   'content': 'Les Français Victor Wembanyama (à gauche) et Rudy Gobert, lors dun match à San Antonio (Texas), le 27\\xa0janvier 2024. SUZANNE CORDEIRO / AFP\\r\\nCertains y verront un signe. A Minneapolis, sur les rives d… [+3692 chars]'},\n",
       "  {'source': {'id': None, 'name': 'Digital Trends'},\n",
       "   'author': 'Tim Keeney',\n",
       "   'title': 'Warriors vs Rockets live stream: Can you watch for free?',\n",
       "   'description': 'The Warriors take on the Rockets in an important NBA contest tonight, and we have a bunch of different ways you can watch a free live stream of the game.',\n",
       "   'url': 'https://www.digitaltrends.com/movies/warriors-vs-rockets-live-stream-april-2024/',\n",
       "   'urlToImage': 'https://www.digitaltrends.com/wp-content/uploads/2024/01/Stephen_Curry_Shooting.jpg?resize=1200%2C630&p=1',\n",
       "   'publishedAt': '2024-04-04T13:00:49Z',\n",
       "   'content': 'In a crucial matchup that will go a long way in determining the final play-in spot in the West, the Golden State Warriors head to the Toyota Center to take on the Houston Rockets tonight.\\r\\nThe game s… [+2201 chars]'},\n",
       "  {'source': {'id': 'le-monde', 'name': 'Le Monde'},\n",
       "   'author': 'Le Monde avec AFP',\n",
       "   'title': 'Fin de saison pour Victor Wembanyama, préservé pour le dernier match des Spurs en NBA',\n",
       "   'description': 'La franchise texane a choisi de ne pas aligner le Français, souffrant d’une cheville, face à Detroit, dimanche, en clôture de la saison régulière. «\\xa0Wemby\\xa0» a impressionné pour ses débuts dans la grande ligue de basket, mais son équipe est à la peine à l’Oues…',\n",
       "   'url': 'https://www.lemonde.fr/sport/article/2024/04/14/fin-de-saison-pour-victor-wembanyama-preserve-pour-le-dernier-match-des-spurs-en-nba_6227843_3242.html',\n",
       "   'urlToImage': 'https://img.lemde.fr/2024/04/13/0/1/4360/2907/1440/960/60/0/c4e9935_689727fc2b5543c89868c43b31a6bc88-0-c2d5af321ebb400989c3cc2b79f8cb74.jpg',\n",
       "   'publishedAt': '2024-04-14T08:22:08Z',\n",
       "   'content': 'Victor Wembanyama, lors du match de NBA entre les Spurs et les Nuggets, au Frost Bank Center, le 12\\xa0avril. SCOTT WACHTER / USA TODAY SPORTS VIA REUTERS CON\\r\\nIl aura conclu sa première année NBA par u… [+1385 chars]'},\n",
       "  {'source': {'id': 'le-monde', 'name': 'Le Monde'},\n",
       "   'author': 'Théo Quintard',\n",
       "   'title': 'Pour un Victor Wembanyama «\\xa0à 15\\xa0% de ses capacités\\xa0», une première saison NBA très aboutie',\n",
       "   'description': 'Sélectionné en première position de la draft en juin\\xa02023, le Français de 20\\xa0ans n’a pas déçu les attentes pour ses débuts dans la ligue nord-américaine de basket. Même si son équipe, les Spurs de San Antonio, signe encore un exercice décevant.',\n",
       "   'url': 'https://www.lemonde.fr/sport/article/2024/04/15/pour-un-victor-wembanyama-a-15-de-ses-capacites-une-premiere-saison-nba-tres-aboutie_6227981_3242.html',\n",
       "   'urlToImage': 'https://img.lemde.fr/2024/04/13/365/0/4000/2666/1440/960/60/0/84aba78_5181503-01-06.jpg',\n",
       "   'publishedAt': '2024-04-15T10:01:31Z',\n",
       "   'content': 'Victor Wembanyama après la victoire des San Antonio Spurs sur les Denver Nuggets, au Frost Bank Center, le 12 avril 2024. RONALD CORTES / AFP\\r\\nClap de fin pour la saison régulière de NBA, la première… [+2841 chars]'},\n",
       "  {'source': {'id': 'le-monde', 'name': 'Le Monde'},\n",
       "   'author': 'Le Monde avec AFP',\n",
       "   'title': 'NBA\\xa0: les Lakers et LeBron James quittent les playoffs dès le premier tour',\n",
       "   'description': 'Le club de Los Angeles a été éliminé au terme du cinquième match de la série, lundi soir, par le champion en titre, les Denver Nuggets. A 39\\xa0ans, LeBron James possède une option à son contrat pour jouer une année supplémentaire avec la mythique franchise cali…',\n",
       "   'url': 'https://www.lemonde.fr/sport/article/2024/04/30/nba-les-lakers-et-lebron-james-quittent-les-playoffs-des-le-premier-tour_6230722_3242.html',\n",
       "   'urlToImage': 'https://img.lemde.fr/2024/04/30/0/0/4461/2974/1440/960/60/0/b22ea2d_4b132068ace047b38b8f2b9ec3a1e898-0-19a3c66a509b40709127bafc1da3d00f.jpg',\n",
       "   'publishedAt': '2024-04-30T04:58:45Z',\n",
       "   'content': 'LeBron James avec les Los Angeles Lakers, face aux Denver Nuggets, le 29\\xa0avril\\xa02024, à Denver (Colorado). DAVID ZALUBOWSKI / AP\\r\\nLeBron James na pas pour habitude de prendre la porte si tôt. Pour la … [+1800 chars]'},\n",
       "  {'source': {'id': 'le-monde', 'name': 'Le Monde'},\n",
       "   'author': 'Le Monde avec AFP',\n",
       "   'title': 'NBA\\xa0: Victor Wembanyama vainqueur avec les Spurs, les Cavaliers assurent leur place en playoffs',\n",
       "   'description': 'Dans les autres matchs de vendredi, Joel Embiid a offert aux Philadelphia 76ers une victoire précieuse contre Orlando, synonyme d’espoir de ticket pour les phases finales de la Ligue nord-américaine de basket.',\n",
       "   'url': 'https://www.lemonde.fr/sport/article/2024/04/13/nba-victor-wembanyama-vainqueur-avec-les-spurs-les-cavaliers-assurent-leur-place-en-playoffs_6227624_3242.html',\n",
       "   'urlToImage': 'https://img.lemde.fr/2024/04/13/0/1/4324/2883/1440/960/60/0/46cfe1c_2024-04-13t031804z-1215286848-mt1usatoday23012097-rtrmadp-3-nba-denver-nuggets-at-san-antonio-spurs.JPG',\n",
       "   'publishedAt': '2024-04-13T07:59:40Z',\n",
       "   'content': 'Victor Wembanyama des San Antonio Spurs lors du match de NBA face aux Denver Nuggets, au Frost Bank Center (Texas), le 12 avril. SCOTT WACHTER / USA TODAY SPORTS VIA REUTERS CON\\r\\nUne victoire sur le … [+2774 chars]'},\n",
       "  {'source': {'id': 'le-monde', 'name': 'Le Monde'},\n",
       "   'author': 'Grégor Brandy',\n",
       "   'title': 'La NBA touchée par la lame de fond des paris sportifs',\n",
       "   'description': 'Entre\\xa0paris anormaux et invectives dans les salles et sur les réseaux sociaux, la ligue nord-américaine de basket-ball subit les premiers contrecoups de la libéralisation des paris sportifs dans plusieurs Etats.',\n",
       "   'url': 'https://www.lemonde.fr/basket/article/2024/04/08/la-nba-touchee-par-la-lame-de-fond-des-paris-sportifs_6226710_1616663.html',\n",
       "   'urlToImage': 'https://img.lemde.fr/2024/03/14/0/0/2740/1826/1440/960/60/0/c3af72c_2024-03-14t025432z-1519094207-mt1usatoday22766423-rtrmadp-3-nba-toronto-raptors-at-detroit-pistons.JPG',\n",
       "   'publishedAt': '2024-04-08T18:00:14Z',\n",
       "   'content': 'Le joueur de basket Jontay Porter fait face à James Wiseman, lors dun match opposant les Raptors de Toronto aux Pistons de Detroit, le 13\\xa0mars 2024. RICK OSENTOSKI / USA TODAY SPORTS VIA REUTERS CON\\r… [+2810 chars]'},\n",
       "  {'source': {'id': 'le-monde', 'name': 'Le Monde'},\n",
       "   'author': 'Le Monde avec AFP',\n",
       "   'title': 'NBA\\xa0: Oklahoma City finit en tête à l’Ouest où les Lakers doivent passer par les barrages',\n",
       "   'description': 'Malgré la jeunesse de son effectif, le Thunder a réussi la prouesse de devancer dans sa conférence le champion en titre, Denver. La légende LeBron James doit en revanche disputer les «\\xa0play-in\\xa0» avec sa franchise de Los Angeles pour rejoindre les séries élimi…',\n",
       "   'url': 'https://www.lemonde.fr/sport/article/2024/04/15/nba-oklahoma-city-finit-en-tete-a-l-ouest-ou-les-lakers-doivent-passer-par-les-barrages_6227894_3242.html',\n",
       "   'urlToImage': 'https://img.lemde.fr/2024/04/14/0/0/5400/3600/1440/960/60/0/33ff7fd_5198434-01-06.jpg',\n",
       "   'publishedAt': '2024-04-15T02:35:38Z',\n",
       "   'content': 'Le joueur du Thunder Shai Gilgeous-Alexander (maillot noir) à la lutte avec Brandon Williams, des Dallas Mavericks, le 14\\xa0avril\\xa02024, à Oklahoma City. JOSHUA GATELEY / AFP\\r\\nLa surprise a tenu jusquau… [+4330 chars]'},\n",
       "  {'source': {'id': 'espn', 'name': 'ESPN'},\n",
       "   'author': 'Adrian Wojnarowski',\n",
       "   'title': 'Sources: Mediation set for Wolves sale dispute',\n",
       "   'description': \"The Timberwolves' ownership dispute between majority owner Glen Taylor and the Marc Lore and Alex Rodriguez group will advance to a mediation session on May 1 in Minneapolis, sources told ESPN's Adrian Wojnarowski.\",\n",
       "   'url': 'https://www.espn.com/nba/story/_/id/40003085/wolves-ownership-dispute-set-mediation-1-sources-say',\n",
       "   'urlToImage': 'https://a1.espncdn.com/combiner/i?img=%2Fphoto%2F2024%2F0328%2Fr1311130_1296x729_16%2D9.jpg',\n",
       "   'publishedAt': '2024-04-23T02:56:35Z',\n",
       "   'content': \"The Minnesota Timberwolves' ownership dispute between majority owner Glen Taylor and the Marc Lore and Alex Rodriguez group will advance to a mediation session on May 1 in Minneapolis, sources told E… [+2646 chars]\"},\n",
       "  {'source': {'id': 'espn', 'name': 'ESPN'},\n",
       "   'author': None,\n",
       "   'title': 'Calipari hired by Arkansas, signs 5-year contract',\n",
       "   'description': \"Arkansas has officially hired John Calipari as its men's basketball coach.\",\n",
       "   'url': 'https://www.espn.com/mens-college-basketball/story/_/id/39913931/john-calipari-officially-hired-arkansas-men-basketball-coach',\n",
       "   'urlToImage': 'https://a2.espncdn.com/combiner/i?img=%2Fphoto%2F2024%2F0118%2Fr1278899_1296x729_16%2D9.jpg',\n",
       "   'publishedAt': '2024-04-10T14:53:17Z',\n",
       "   'content': 'Apr 10, 2024, 10:35 AM ET\\r\\nJohn Calipari is officially the new head coach of Arkansas Razorbacks\\' men\\'s basketball program, the university announced Wednesday morning.\\r\\n\"By all accounts, John Calipar… [+3801 chars]'},\n",
       "  {'source': {'id': 'espn', 'name': 'ESPN'},\n",
       "   'author': 'NBA Insiders',\n",
       "   'title': 'Lakers-Warriors play-in preview? What to make of this epic final matchup',\n",
       "   'description': \"X-factors? Playoff ceilings? Here's everything we learned from Lakers-Warriors 1.0 -- with 2.0 potentially just days away.\",\n",
       "   'url': 'https://www.espn.com/nba/story/_/id/39910822/four-takeaways-tuesday-lakers-warriors-game',\n",
       "   'urlToImage': 'https://a3.espncdn.com/combiner/i?img=%2Fphoto%2F2024%2F0410%2Fr1316770_1296x729_16%2D9.jpg',\n",
       "   'publishedAt': '2024-04-10T05:21:31Z',\n",
       "   'content': 'Apr 10, 2024, 01:03 AM ET\\r\\nA potential Western Conference play-in tournament preview unfolded Tuesday night as the Golden State Warriors traveled to Crypto.com Arena to take on the Los Angeles Lakers… [+9635 chars]'},\n",
       "  {'source': {'id': None, 'name': 'Digital Trends'},\n",
       "   'author': 'Dan Girolamo',\n",
       "   'title': 'Chicago Bulls vs. New York Knicks live stream: how to watch the NBA online',\n",
       "   'description': 'The Chicago Bulls head to Madison Square Garden to play the New York Knicks. Find out how to watch a live stream of the game.',\n",
       "   'url': 'https://www.digitaltrends.com/movies/bulls-vs-knicks-watch-live-stream-nba-free-april-2024/',\n",
       "   'urlToImage': 'https://www.digitaltrends.com/wp-content/uploads/2024/02/Jalen-Brunson-New-York-Knicks.jpg?resize=1200%2C630&p=1',\n",
       "   'publishedAt': '2024-04-14T09:30:51Z',\n",
       "   'content': 'All-Pro Reels / All-Pro Reels\\r\\nThe Chicago Bulls head to the “World’s Most Famous Arena” to take on the New York Knicks on the final day of the regular season. The action begins at 1 p.m. ET/10 a.m. … [+2757 chars]'},\n",
       "  {'source': {'id': 'le-monde', 'name': 'Le Monde'},\n",
       "   'author': 'Service Sports',\n",
       "   'title': 'Paris 2024\\xa0: de LeBron James à Stephen Curry, une constellation de chercheurs d’or mobilisée par Team USA au basket',\n",
       "   'description': 'Composée de stars expérimentées, l’équipe américaine masculine appelée à disputer les Jeux olympiques de Paris a été annoncée, mercredi. Avec l’or comme unique objectif.',\n",
       "   'url': 'https://www.lemonde.fr/sport/article/2024/04/17/paris-2024-de-lebron-james-a-stephen-curry-une-constellation-de-chercheurs-d-or-mobilisee-par-team-usa-au-basket_6228383_3242.html',\n",
       "   'urlToImage': 'https://img.lemde.fr/2024/04/17/0/3/2994/1996/1440/960/60/0/611762e_1713363824547-063-148452209.jpg',\n",
       "   'publishedAt': '2024-04-17T16:11:43Z',\n",
       "   'content': 'LeBron James et léquipe américaine de basket, en amont des Jeux olympiques de Londres, le 16\\xa0juillet 2012\\xa0à Washington. PATRICK SMITH / GETTY IMAGES VIA AFP\\r\\nCeci nest pas la Dream Team (équipe de rê… [+4120 chars]'},\n",
       "  {'source': {'id': None, 'name': 'NPR'},\n",
       "   'author': 'Becky Sullivan',\n",
       "   'title': \"Ticket prices for the women's Final Four games rival the men's\",\n",
       "   'description': \"Call it the Caitlin Clark effect: The average sales price for a ticket to the women's college basketball semifinal was nearly double that of the men's event, the ticketing company Logitix reported.\",\n",
       "   'url': 'https://www.npr.org/2024/04/05/1243082266/final-four-womens-mens-ticket-prices',\n",
       "   'urlToImage': 'https://media.npr.org/assets/img/2024/04/05/gettyimages-2138639817_wide-fd45e89f09496c324731ba1c2ccb84d2dcc42b1f-s1400-c100.jpg',\n",
       "   'publishedAt': '2024-04-05T21:27:49Z',\n",
       "   'content': \"The price of a seat to watch the Final Four of the women's NCAA Tournament has rivaled the cost of attending the men's event.\\r\\nSteph Chambers/Getty Images\\r\\nThose hoping to see Caitlin Clark win a nat… [+3827 chars]\"},\n",
       "  {'source': {'id': None, 'name': 'NPR'},\n",
       "   'author': 'Russell Lewis',\n",
       "   'title': \"Candace Parker, 3-time WNBA and 2-time Olympic champion, says 'it's time' to retire\",\n",
       "   'description': 'After 16 seasons, two Olympic gold medals and three WNBA championships, Candace Parker announced her retirement from professional basketball on Sunday.',\n",
       "   'url': 'https://www.npr.org/2024/04/28/1247721414/candace-parker-wnba-retires-basketball',\n",
       "   'urlToImage': 'https://media.npr.org/assets/img/2024/04/28/gettyimages-1510385360_wide-dd001837ba4f2212ff67def85d2f4bc092fd833a-s1400-c100.jpg',\n",
       "   'publishedAt': '2024-04-28T20:41:11Z',\n",
       "   'content': 'Candace Parker #3 of the Las Vegas Aces is pictured at Michelob Ultra Arena on July 1, 2023 in Las Vegas. Parker announced her retirement on Sunday.\\r\\nEthan Miller/Getty Images\\r\\nCandace Parker a three… [+2245 chars]'},\n",
       "  {'source': {'id': 'business-insider', 'name': 'Business Insider'},\n",
       "   'author': 'Shubhangi Goel',\n",
       "   'title': 'Jefferies CEO sold $65 million in stock to buy a yacht from a client',\n",
       "   'description': \"He's buying  a Westport 164 from his friend and Jefferies client Tilman Fertitta.\",\n",
       "   'url': 'https://www.businessinsider.com/jefferies-ceo-sold-millions-shares-stock-bought-new-yacht-fertitta-2024-4',\n",
       "   'urlToImage': 'https://i.insider.com/6629da5110dfcda409631e88?width=1200&format=jpeg',\n",
       "   'publishedAt': '2024-04-25T06:18:45Z',\n",
       "   'content': \"CEO of Jefferies Rich Handler (left) and CEO of Mastro's Restaurants Tilman Fertitta (right) attend the Mastro's Steakhouse Grand Opening Celebration on November 11, 2014 in New York City.Rob Kim/Get… [+1955 chars]\"},\n",
       "  {'source': {'id': None, 'name': '9to5Mac'},\n",
       "   'author': 'Chance Miller',\n",
       "   'title': 'Apple nearing billion-dollar streaming TV deal with FIFA; still in the running for NBA rights',\n",
       "   'description': 'Apple is doubling down on soccer as an integral part of its sports strategy for Apple TV. According to a new report from The New York Times, FIFA is nearing a deal with Apple for the worldwide television rights to a new World Cup-style tournament being played…',\n",
       "   'url': 'https://9to5mac.com/2024/04/22/apple-tv-sports-deals-fifa-nba/',\n",
       "   'urlToImage': 'https://i0.wp.com/9to5mac.com/wp-content/uploads/sites/6/2022/10/apple-tv-plus-movies-header.jpg?resize=1200%2C628&quality=82&strip=all&ssl=1',\n",
       "   'publishedAt': '2024-04-22T16:29:17Z',\n",
       "   'content': 'Apple is doubling down on soccer as an integral part of its sports strategy for Apple TV. According to a new report from The New York Times, FIFA is nearing a deal with Apple for the worldwide televi… [+2319 chars]'},\n",
       "  {'source': {'id': None, 'name': 'Digital Trends'},\n",
       "   'author': 'Tim Keeney',\n",
       "   'title': 'Purdue vs UConn live stream: Watch the NCAA Championship for free',\n",
       "   'description': \"It's time for the NCAA Men's Basketball National Championship. Here's how to watch Purdue and UConn, two 1-seed teams, face off in the final game.\",\n",
       "   'url': 'https://www.digitaltrends.com/movies/watch-purdue-vs-uconn-live-stream-april-2024/',\n",
       "   'urlToImage': 'https://www.digitaltrends.com/wp-content/uploads/2024/03/NCAA-Basketball-Lead-Image.png?resize=1200%2C630&p=1',\n",
       "   'publishedAt': '2024-04-08T16:18:05Z',\n",
       "   'content': 'It’s time for the NCAA Men’s Basketball National Championship. Here’s how to watch Purdue and UConn, two 1-seed teams, face off in the final game.\\r\\nThe game starts at 9:20 p.m. ET today, Monday, Apri… [+2902 chars]'},\n",
       "  {'source': {'id': 'espn', 'name': 'ESPN'},\n",
       "   'author': 'Shwetha Surendran',\n",
       "   'title': 'Could your favorite athlete be liable for damages tied to crypto?',\n",
       "   'description': 'Several civil lawsuits targeting prominent athletes following their promotion of crypto companies will likely take months or years more to unwind.',\n",
       "   'url': 'https://www.espn.com/espn/story/_/id/39865981/crypto-lawsuits-targeting-athletes-tom-brady-cristiano-ronaldo',\n",
       "   'urlToImage': 'https://a.espncdn.com/combiner/i?img=%2Fphoto%2F2024%2F0403%2Fespn_crypto_lawsuit_burn_16x9.jpg',\n",
       "   'publishedAt': '2024-04-05T12:05:42Z',\n",
       "   'content': \"The 25-year sentence for FTX founder Sam Bankman-Fried last week ended one criminal chapter in the implosion of one of the world's biggest cryptocurrency exchanges. But several civil lawsuits -- incl… [+14848 chars]\"},\n",
       "  {'source': {'id': None, 'name': 'HYPEBEAST'},\n",
       "   'author': 'info@hypebeast.com (Hypebeast)',\n",
       "   'title': 'Bronny James To Enter 2024 NBA Draft',\n",
       "   'description': 'Bronny James, the eldest child of LeBron James, officially announced his decision to enter the 2024 NBA draft.The 19-year-old, who played college ball for the University of Southern California (USC) Trojans, revealed on social media that he will also maintain…',\n",
       "   'url': 'https://hypebeast.com/2024/4/bronny-james-to-enter-2024-nba-draft',\n",
       "   'urlToImage': 'https://image-cdn.hypb.st/https%3A%2F%2Fhypebeast.com%2Fimage%2F2024%2F04%2F06%2Ftw-bronny-james-to-enter-2024-nba-draft.jpg?w=1080&cbr=1&q=90&fit=max',\n",
       "   'publishedAt': '2024-04-07T03:57:57Z',\n",
       "   'content': 'Bronny James, the eldest child of LeBron James, officially announced his decision to enter the 2024 NBA draft.\\r\\nThe 19-year-old, who played college ball for the University of Southern California (USC… [+955 chars]'},\n",
       "  {'source': {'id': 'le-monde', 'name': 'Le Monde'},\n",
       "   'author': 'Le Monde avec AFP',\n",
       "   'title': 'Les New York Knicks et les Indiana Pacers accèdent à la demi-finale de la Conférence Est des playoffs NBA',\n",
       "   'description': 'Respectivement tombeuses des Milwaukee Bucks et des 76ers de Philadelphie, les deux équipes se retrouveront dès lundi au Madison Square Garden, à New York. Les Pacers n’avaient plus atteint ce stade du tournoi depuis 2014.',\n",
       "   'url': 'https://www.lemonde.fr/sport/article/2024/05/03/les-new-york-knicks-et-les-indiana-pacers-accedent-a-la-demi-finale-de-la-conference-est-des-playoffs-nba_6231331_3242.html',\n",
       "   'urlToImage': 'https://img.lemde.fr/2024/05/03/0/0/2107/1404/1440/960/60/0/97b8006_8f7df1e2df7b4339b5f46cc22d349173-1-036ae9f75279413da7c5f8cd91998504.jpg',\n",
       "   'publishedAt': '2024-05-03T08:55:04Z',\n",
       "   'content': 'OG Anunoby des New York Knicks fait un dunk sur Joel Embiid des Philadelphia 76ers pendant leur match des séries éliminatoires de la NBA, jeudi\\xa02\\xa0mai\\xa02024, à Philadelphie. MATT SLOCUM / AP\\r\\nLes India… [+2671 chars]'},\n",
       "  {'source': {'id': None, 'name': 'Rolling Stone'},\n",
       "   'author': 'Sage Anderson',\n",
       "   'title': 'NBA Livestream: How to Watch the 2023-24 Basketball Season Online',\n",
       "   'description': \"Here's how to live stream NBA games online during the 2023-24 NBA season, plus how to watch NBA live streams for free online.\",\n",
       "   'url': 'http://www.rollingstone.com/trending/search/watch-nba-online-live-stream-2-1235003823/',\n",
       "   'urlToImage': 'https://www.rollingstone.com/wp-content/uploads/2024/04/GettyImages-1749225381_3c5ddc.webp?w=1024&h=682&crop=1',\n",
       "   'publishedAt': '2024-04-12T21:01:18Z',\n",
       "   'content': 'If you purchase an independently reviewed product or service through a link on our website, Rolling Stone may receive an affiliate commission.\\r\\nQuick Answer: Our favorite live TV streaming service fo… [+2893 chars]'},\n",
       "  {'source': {'id': 'espn', 'name': 'ESPN'},\n",
       "   'author': 'Andrew Lopez',\n",
       "   'title': \"Spurs' win leaves 3 teams tied for West's top seed\",\n",
       "   'description': 'The West got a little wilder Friday night with the Spurs beating the Nuggets.',\n",
       "   'url': 'https://www.espn.com/nba/story/_/id/39931949/spurs-win-thunder-wolves-nuggets-3-way-tie-atop-west',\n",
       "   'urlToImage': 'https://a2.espncdn.com/combiner/i?img=%2Fphoto%2F2024%2F0413%2Fr1318206_1296x729_16%2D9.jpg',\n",
       "   'publishedAt': '2024-04-13T06:07:57Z',\n",
       "   'content': \"SAN ANTONIO -- The West got a little wilder on Friday night.\\r\\nWith the Denver Nuggets' 121-120 loss to the San Antonio Spurs, coupled with wins by the Oklahoma City Thunder and Minnesota Timberwolves… [+6670 chars]\"},\n",
       "  {'source': {'id': 'le-monde', 'name': 'Le Monde'},\n",
       "   'author': 'Clément Martel',\n",
       "   'title': 'Rudy Gobert, basketteur\\xa0: «\\xa0Devenir champion olympique à Paris, c’est l’opportunité d’une vie\\xa0»',\n",
       "   'description': '«\\xa0Dessein olympique\\xa0». «\\xa0Le Monde\\xa0» a rencontré le pivot de l’équipe de France de basket et des Minnesota Timberwolves chez\\xa0lui, à Minneapolis. Il se confie sur ses ambitions pour les Jeux olympiques et son envie d’être porte-drapeau de la délégation tricolor…',\n",
       "   'url': 'https://www.lemonde.fr/sport/article/2024/04/23/rudy-gobert-basketteur-devenir-champion-olympique-a-paris-c-est-l-opportunite-d-une-vie_6229469_3242.html',\n",
       "   'urlToImage': 'https://img.lemde.fr/2024/04/22/0/0/4134/2756/1440/960/60/0/024e86a_1713796948943-lemonde-rudy-portrait-final-copie.jpg',\n",
       "   'publishedAt': '2024-04-23T17:30:06Z',\n",
       "   'content': 'Le basketteur français Rudy Gobert, à Minneapolis (Minnesota). JOHN VOGL\\r\\nLe van noir aux vitres teintées file dans la plaine, laissant rapidement dans le rétroviseur la verticalité des tours du cent… [+2630 chars]'},\n",
       "  {'source': {'id': None, 'name': 'ReadWrite'},\n",
       "   'author': 'Brian-Damien Morgan',\n",
       "   'title': 'Sportradar extends partnership with China’s basketball league CBA',\n",
       "   'description': 'The Chinese Men’s Professional Basketball League (CBA) has announced an extension to its media partnership with Sportradar. The continuation of… Continue reading Sportradar extends partnership with China’s basketball league CBA\\nThe post Sportradar extends par…',\n",
       "   'url': 'https://readwrite.com/sportradar-extends-partnership-with-chinese-mens-professional-basketball-league/',\n",
       "   'urlToImage': 'https://readwrite.com/wp-content/uploads/2024/04/Sportradar.jpg',\n",
       "   'publishedAt': '2024-04-12T10:15:26Z',\n",
       "   'content': 'The Chinese Mens Professional Basketball League (CBA) has announced an extension to its media partnership with Sportradar.\\r\\nThe continuation of the strategic partnership aims to strengthen the integr… [+2376 chars]'},\n",
       "  {'source': {'id': None, 'name': 'ReadWrite'},\n",
       "   'author': 'Ali Rees',\n",
       "   'title': 'Take-Two victorious in lawsuit with LeBron James’ tattoo artist',\n",
       "   'description': 'Take-Two Interactive has won a lawsuit brought against them by tattoo artist Jimmy Hayden. Hayden claimed that Take-Two infringed on… Continue reading Take-Two victorious in lawsuit with LeBron James’ tattoo artist\\nThe post Take-Two victorious in lawsuit with…',\n",
       "   'url': 'https://readwrite.com/take-two-victorious-in-tattoo-lawsuit/',\n",
       "   'urlToImage': 'https://readwrite.com/wp-content/uploads/2024/04/download-70.jpeg',\n",
       "   'publishedAt': '2024-04-22T14:55:58Z',\n",
       "   'content': 'Take-Two Interactive has won a lawsuit brought against them by tattoo artist Jimmy Hayden. Hayden claimed that Take-Two infringed on his copyright when they recreated basketball legend LeBron James, … [+2037 chars]'},\n",
       "  {'source': {'id': 'espn', 'name': 'ESPN'},\n",
       "   'author': 'Pete Thamel',\n",
       "   'title': \"UConn's Donovan Clingan and a journey of dominance marked by tragedy\",\n",
       "   'description': \"UConn's Donovan Clingan is a larger-than-life 7-foot-2 post menace. His journey is shaped and fueled by tragedy, including the death of his mother six years ago.\",\n",
       "   'url': 'https://www.espn.com/mens-college-basketball/story/_/id/39852638/2024-final-four-uconn-donovan-clingan-journey-dominance-marked-tragedy',\n",
       "   'urlToImage': 'https://a1.espncdn.com/combiner/i?img=%2Fphoto%2F2024%2F0404%2Fr1314196_1296x729_16%2D9.jpg',\n",
       "   'publishedAt': '2024-04-04T22:05:51Z',\n",
       "   'content': \"BOSTON -- IF THERE'S anyone qualified to recognize a lack of patience, it's UConn walk-on Andrew Hurley. He's the son of coach Danny Hurley and the grandson of Hall of Fame coach Bob Hurley, which gi… [+14450 chars]\"},\n",
       "  {'source': {'id': None, 'name': 'HYPEBEAST'},\n",
       "   'author': 'info@hypebeast.com (Hypebeast)',\n",
       "   'title': 'NBA Bans Raptors’ Jontay Porter for Gambling on Games',\n",
       "   'description': 'The NBA has banned Toronto Raptors’ Jontay Porter for violating the league’s gambling policy and limiting his own gameplay to influence bet outcomes.An investigation was launched in late March after officials noticed strange patterns of proposition bets on Po…',\n",
       "   'url': 'https://hypebeast.com/2024/4/nba-toronto-raptors-jontay-porter-ban-gambling-violation',\n",
       "   'urlToImage': 'https://image-cdn.hypb.st/https%3A%2F%2Fhypebeast.com%2Fimage%2F2024%2F04%2F17%2Fjontay-porter-nba-bet-lifetime-ban-tw.jpg?w=1080&cbr=1&q=90&fit=max',\n",
       "   'publishedAt': '2024-04-17T20:37:28Z',\n",
       "   'content': 'The NBA has banned Toronto Raptors Jontay Porter for violating the leagues gambling policy and limiting his own gameplay to influence bet outcomes.\\r\\nAn investigation was launched in late March after … [+1321 chars]'},\n",
       "  {'source': {'id': None, 'name': 'Yahoo Entertainment'},\n",
       "   'author': None,\n",
       "   'title': \"NBA legend John Stockton details reasons for his medical 'beliefs' in court filing\",\n",
       "   'description': None,\n",
       "   'url': 'https://consent.yahoo.com/v2/collectConsent?sessionId=1_cc-session_c2b09eb8-740d-4e85-9ae8-2f3a663ea3ba',\n",
       "   'urlToImage': None,\n",
       "   'publishedAt': '2024-04-10T14:37:01Z',\n",
       "   'content': \"If you click 'Accept all', we and our partners (including 239 who are part of the IAB Transparency &amp; Consent Framework) will also store and/or access information on a device (in other words, use … [+678 chars]\"},\n",
       "  {'source': {'id': 'espn', 'name': 'ESPN'},\n",
       "   'author': 'ESPN Staff',\n",
       "   'title': 'Devin Booker cashes in on halftime buzzer-beater',\n",
       "   'description': \"Devin Booker's fadeaway buzzer-beater gives the Phoenix Suns a much-needed boost in Game 4.\",\n",
       "   'url': 'https://www.espn.com/nba/story/_/id/40047559/devin-booker-phoenix-suns-minnesota-timberwolves-nba-2024-playoffs',\n",
       "   'urlToImage': 'https://a3.espncdn.com/combiner/i?img=%2Fphoto%2F2024%2F0429%2Fr1326053_1296x729_16%2D9.jpg',\n",
       "   'publishedAt': '2024-04-29T03:35:03Z',\n",
       "   'content': \"The Phoenix Suns have some momentum heading into the second half in Game 4 with a 61-56 lead over the Minnesota Timberwolves.\\r\\nEditor's Picks\\r\\nWith the second quarter winding down, the Suns forced a … [+787 chars]\"},\n",
       "  {'source': {'id': 'espn', 'name': 'ESPN'},\n",
       "   'author': 'Dave McMenamin',\n",
       "   'title': \"'Error' led to extra time in Lakers win vs. Grizz\",\n",
       "   'description': \"More than a minute of extra game time was incorrectly added to the clock in the third quarter of the Lakers' 123-120 win over the Grizzlies on Friday.\",\n",
       "   'url': 'https://www.espn.com/nba/story/_/id/39937307/error-led-extra-clock-lakers-win-vs-grizzlies',\n",
       "   'urlToImage': 'https://a.espncdn.com/combiner/i?img=%2Fphoto%2F2024%2F0414%2Fr1318547_1024x576_16%2D9.jpg',\n",
       "   'publishedAt': '2024-04-14T02:36:26Z',\n",
       "   'content': \"NEW ORLEANS -- More than a minute of extra game time was added to the clock in the third quarter of the Los Angeles Lakers' 123-120 win over the Memphis Grizzlies on Friday, an NBA spokesperson confi… [+3522 chars]\"},\n",
       "  {'source': {'id': 'espn', 'name': 'ESPN'},\n",
       "   'author': None,\n",
       "   'title': \"Murray's buzzer-beater caps 20-point Denver rally\",\n",
       "   'description': 'Jamal Murray sank a 15-foot step-back jumper at the buzzer and the Nuggets wiped out a 20-point second-half deficit to stun the Lakers 101-99 Monday night and take a 2-0 lead in their Western Conference playoff series.',\n",
       "   'url': 'https://www.espn.com/nba/story/_/id/40004320/jamal-murray-buzzer-beater-caps-nuggets-20-point-comeback-vs-lakers',\n",
       "   'urlToImage': 'https://a3.espncdn.com/combiner/i?img=%2Fphoto%2F2024%2F0423%2Fr1323142_1296x729_16%2D9.jpg',\n",
       "   'publishedAt': '2024-04-23T05:26:09Z',\n",
       "   'content': 'Apr 23, 2024, 01:21 AM ET\\r\\nDENVER -- Jamal Murray sank a 15-foot step-back jumper at the buzzer and the Denver Nuggets wiped out a 20-point second-half deficit to stun the Los Angeles Lakers 101-99 M… [+3021 chars]'},\n",
       "  {'source': {'id': 'bleacher-report', 'name': 'Bleacher Report'},\n",
       "   'author': 'Andrew Peters',\n",
       "   'title': 'Shams: Bronny James Viewed as NBA-Caliber Defender by Teams Amid Draft Decision',\n",
       "   'description': 'After one season at USC, Bronny James reportedly has NBA teams already viewing him as an NBA-caliber defender, per Shams Charania of The Athletic and Stadium.…',\n",
       "   'url': 'https://bleacherreport.com/articles/10116030-shams-bronny-james-viewed-as-nba-caliber-defender-by-teams-amid-draft-decision',\n",
       "   'urlToImage': 'https://media.bleacherreport.com/image/upload/c_fill,g_faces,w_3800,h_2000,q_95/v1712601295/wx8vnckbzsphch0wexhg.jpg',\n",
       "   'publishedAt': '2024-04-08T18:46:22Z',\n",
       "   'content': 'David Becker/Getty Images\\r\\nAfter one season at USC, Bronny James reportedly has NBA teams already viewing him as an NBA-caliber defender, per Shams Charania of The Athletic and Stadium.\\r\\n\"When I talk… [+1874 chars]'},\n",
       "  {'source': {'id': 'le-monde', 'name': 'Le Monde'},\n",
       "   'author': 'Clément Martel',\n",
       "   'title': 'La fin de parcours des Warriors de\\xa0Stephen Curry, sonne-t-elle le glas de\\xa0la\\xa0dynastie Golden State en\\xa0NBA\\xa0?',\n",
       "   'description': 'Championne à quatre reprises (2015, 2017, 2018\\xa0et 2022), la franchise californienne a été éliminée, mardi, par les Sacramento Kings (118-94), lors des barrages d’accession aux playoffs.',\n",
       "   'url': 'https://www.lemonde.fr/sport/article/2024/04/17/la-fin-de-parcours-des-warriors-de-stephen-curry-sonne-t-elle-la-fin-de-la-dynastie-golden-state-en-nba_6228318_3242.html',\n",
       "   'urlToImage': 'https://img.lemde.fr/2024/04/17/0/0/7440/4960/1440/960/60/0/aa938bf_5c062da1689d455da106540a8b50bc3b-1-cc984cacffdd4d4883896622ff06cda4.jpg',\n",
       "   'publishedAt': '2024-04-17T09:43:07Z',\n",
       "   'content': 'Le meneur des Golden State Warriors, Stephen Curry, lors de lélimination de son équipe face aux Sacramento Kings, le 16\\xa0avril 2024\\xa0à Sacramento (Californie). GODOFREDO A. VASQUEZ / AP\\r\\nPlus que tout … [+4962 chars]'},\n",
       "  {'source': {'id': 'bleacher-report', 'name': 'Bleacher Report'},\n",
       "   'author': 'Jason Dunbar',\n",
       "   'title': 'NBA Playoff Bandwagon Power Rankings',\n",
       "   'description': \"Players aren't the only ones who get to be free agents. Sometimes, fans have the right to switch allegiances too. It's why bandwagons exist. Perhaps you're a…\",\n",
       "   'url': 'https://bleacherreport.com/articles/10117273-nba-playoff-bandwagon-power-rankings',\n",
       "   'urlToImage': 'https://media.bleacherreport.com/image/upload/x_227,y_53,w_1332,h_885,c_crop/c_fill,g_faces,w_3800,h_2000,q_95/v1713383843/wvukg3run79ajxsol7js.jpg',\n",
       "   'publishedAt': '2024-04-21T11:00:00Z',\n",
       "   'content': \"Tyrese HaliburtonPepper Robinson/NBAE via Getty Images\\r\\nVoting Total: 102 (one first-place vote)\\r\\nWhy You Should Hop on the Bandwagon\\r\\nTyrese Haliburton's got moxie oozing from his pores. Who can for… [+2845 chars]\"},\n",
       "  {'source': {'id': None, 'name': 'Hipertextual'},\n",
       "   'author': 'Gabriel Erard',\n",
       "   'title': 'Apple negociaría con la FIFA para transmitir el Mundial de Clubes 2025 en Apple TV+',\n",
       "   'description': 'Apple podría estar a punto de sumar otro evento deportivo de primerísimo nivel al catálogo de Apple TV+. Según reporta The New York Times, los de Cupertino están negociando con la FIFA para transmitir el Mundial de Clubes 2025, que se llevará a cabo en Estado…',\n",
       "   'url': 'http://hipertextual.com/2024/04/el-mundial-de-clubes-2025-podria-llegar-a-apple-tv',\n",
       "   'urlToImage': 'https://i0.wp.com/imgs.hipertextual.com/wp-content/uploads/2024/04/fancy-crave-qowyMze7jqg-unsplash-scaled.jpg?fit=2560%2C1440&quality=55&strip=all&ssl=1',\n",
       "   'publishedAt': '2024-04-22T19:00:00Z',\n",
       "   'content': 'Apple podría estar a punto de sumar otro evento deportivo de primerísimo nivel al catálogo de Apple TV+. Según reporta The New York Times, los de Cupertino están negociando con la FIFA para transmiti… [+4560 chars]'},\n",
       "  {'source': {'id': None, 'name': 'GameSpot'},\n",
       "   'author': 'George Yang',\n",
       "   'title': \"Take-Two Wins NBA 2K Lawsuit Involving LeBron James' Tattoos\",\n",
       "   'description': \"Take-Two Interactive has won a case regarding its depiction of LeBron James' tattoos in NBA 2K. While James himself was not involved in the case, his tattoo artist, Jimmy Hayden, was.Hayden sued Take-Two by alleging that the use of James' tattoos in NBA 2K vi…\",\n",
       "   'url': 'https://www.gamespot.com/articles/take-two-wins-nba-2k-lawsuit-involving-lebron-james-tattoos/1100-6522878/',\n",
       "   'urlToImage': 'https://www.gamespot.com/a/uploads/screen_kubrick/1646/16465123/4292399-image_2024-04-23_144529551cropped.jpg',\n",
       "   'publishedAt': '2024-04-23T19:20:00Z',\n",
       "   'content': \"Take-Two Interactive has won a case regarding its depiction of LeBron James' tattoos in NBA 2K. While James himself was not involved in the case, his tattoo artist, Jimmy Hayden, was.\\r\\nHayden sued Ta… [+1144 chars]\"},\n",
       "  {'source': {'id': 'bleacher-report', 'name': 'Bleacher Report'},\n",
       "   'author': 'Timothy Rapp',\n",
       "   'title': \"NBA Insider: Suns' Bradley Beal Has 'Probably the Most Toxic Contract in NBA History'\",\n",
       "   'description': 'Bradley Beal has two seasons and $103.8 million remaining on his current contract along with a player option for the 2026-27 season worth $57.1 million, which…',\n",
       "   'url': 'https://bleacherreport.com/articles/10119127-nba-insider-suns-bradley-beal-has-probably-the-most-toxic-contract-in-nba-history',\n",
       "   'urlToImage': 'https://media.bleacherreport.com/image/upload/x_0,y_143,w_1800,h_1200,c_crop/c_fill,g_faces,w_3800,h_2000,q_95/v1714415782/rzpfx3qisd2y0teddq1q.jpg',\n",
       "   'publishedAt': '2024-04-29T18:38:44Z',\n",
       "   'content': 'Barry Gossage/NBAE via Getty Images\\r\\nBradley Beal has two seasons and $103.8 million remaining on his current contract along with a player option for the 2026-27 season worth $57.1 million, which he … [+1883 chars]'},\n",
       "  {'source': {'id': None, 'name': 'HYPEBEAST'},\n",
       "   'author': 'info@hypebeast.com (Hypebeast)',\n",
       "   'title': \"London's NBA Store Moves to Oxford Street Location\",\n",
       "   'description': 'NBA stores have become a staple worldwide, providing basketball fans with exclusive merchandise to support their favorite teams. Its renowned London location has recently changed, announcing the opening of a larger and grander storefront on Oxford Street. Pre…',\n",
       "   'url': 'https://hypebeast.com/2024/4/nba-store-london-oxford-street-opening-info',\n",
       "   'urlToImage': 'https://image-cdn.hypb.st/https%3A%2F%2Fhypebeast.com%2Fimage%2F2024%2F04%2F18%2Fnba-store-london-oxford-street-opening-info-tw.jpg?w=1080&cbr=1&q=90&fit=max',\n",
       "   'publishedAt': '2024-04-18T10:30:28Z',\n",
       "   'content': 'NBA stores have become a staple worldwide, providing basketball fans with exclusive merchandise to support their favorite teams. Its renowned London location has recently changed, announcing the open… [+790 chars]'},\n",
       "  {'source': {'id': 'bleacher-report', 'name': 'Bleacher Report'},\n",
       "   'author': 'Doric Sam',\n",
       "   'title': \"NBA Rumors: ESPN's JJ Redick to Interview for Hornets' HC Job; Played 15 NBA Seasons\",\n",
       "   'description': 'The Charlotte Hornets are reportedly eyeing an interesting candidate in their search for a new head coach. According to Shams Charania of The Athletic and…',\n",
       "   'url': 'https://bleacherreport.com/articles/10118052-nba-rumors-espns-jj-redick-to-interview-for-hornets-hc-job-played-15-nba-seasons',\n",
       "   'urlToImage': 'https://media.bleacherreport.com/image/upload/c_fill,g_faces,w_3800,h_2000,q_95/v1713827268/u97g5aowl7xofiptlmtp.jpg',\n",
       "   'publishedAt': '2024-04-22T23:14:06Z',\n",
       "   'content': 'Evan Yu/NBAE via Getty Images\\r\\nThe Charlotte Hornets are reportedly eyeing an interesting candidate in their search for a new head coach.\\r\\nAccording to Shams Charania of The Athletic and Stadium, the… [+367 chars]'},\n",
       "  {'source': {'id': 'bleacher-report', 'name': 'Bleacher Report'},\n",
       "   'author': 'Joseph Zucker',\n",
       "   'title': \"NBA Trade Rumors: Bucks' Giannis Discussed by Teams with Stockpile of NBA Draft Picks\",\n",
       "   'description': \"The Milwaukee Bucks haven't yet been eliminated from the 2024 NBA playoffs, but the sharks might already be starting to circle. ESPN's Tim MacMahon reported…\",\n",
       "   'url': 'https://bleacherreport.com/articles/10119082-nba-trade-rumors-bucks-giannis-discussed-by-teams-with-stockpile-of-nba-draft-picks',\n",
       "   'urlToImage': 'https://media.bleacherreport.com/image/upload/x_11,y_27,w_1748,h_1164,c_crop/c_fill,g_faces,w_3800,h_2000,q_95/v1714398597/ao3ecq1podayerik577r.jpg',\n",
       "   'publishedAt': '2024-04-29T16:23:02Z',\n",
       "   'content': \"John Fisher/Getty Images\\r\\nThe Milwaukee Bucks haven't yet been eliminated from the 2024 NBA playoffs, but the sharks might already be starting to circle.\\r\\nESPN's Tim MacMahon reported on Brian Windho… [+1897 chars]\"},\n",
       "  {'source': {'id': None, 'name': 'Digital Trends'},\n",
       "   'author': 'Tim Keeney',\n",
       "   'title': 'NHL playoffs live stream 2024: Watch every game',\n",
       "   'description': \"The 2024 NHL Playoffs have arrived, and we've put together a complete guide on all the different ways you can watch a live stream of every game.\",\n",
       "   'url': 'https://www.digitaltrends.com/movies/nhl-playoffs-live-stream-2024/',\n",
       "   'urlToImage': 'https://www.digitaltrends.com/wp-content/uploads/2023/06/FLA_Live_Arena_before_a_Florida_Panthers_playoff_game.jpg?resize=1200%2C630&p=1',\n",
       "   'publishedAt': '2024-04-19T21:33:53Z',\n",
       "   'content': 'The 2024 NHL Stanley Cup Playoffs have officially arrived. The Carolina Hurricanes are the oddsmakers’ favorites to lift the trophy this year, but their recent postseason struggles combined with the … [+3450 chars]'},\n",
       "  {'source': {'id': None, 'name': 'HYPEBEAST'},\n",
       "   'author': 'info@hypebeast.com (Hypebeast)',\n",
       "   'title': 'WIND AND SEA x NBA Ball Out in New Collection',\n",
       "   'description': 'Ahead of the NBA playoffs, WIND AND SEA has given its cosign to six teams. The Japanese streetwear outfitter teamed up with the NBA for the fifth time to deliver an extensive collection in tribute to six teams: the Boston Celtics, the Philadelphia 76ers, the …',\n",
       "   'url': 'https://hypebeast.com/2024/4/wind-and-sea-x-nba-collab-collection-spring-2024-lookbook-release-info',\n",
       "   'urlToImage': 'https://image-cdn.hypb.st/https%3A%2F%2Fhypebeast.com%2Fimage%2F2024%2F04%2F11%2Fwind-and-sea-x-nba-collab-collection-spring-2024-lookbook-release-info-tw.jpg?w=1080&cbr=1&q=90&fit=max',\n",
       "   'publishedAt': '2024-04-11T16:24:14Z',\n",
       "   'content': 'Ahead of the NBA playoffs, WIND AND SEA has given its cosign to six teams. The Japanese streetwear outfitter teamed up with the NBA for the fifth time to deliver an extensive collection in tribute to… [+1047 chars]'},\n",
       "  {'source': {'id': None, 'name': 'Slashdot.org'},\n",
       "   'author': 'BeauHD',\n",
       "   'title': 'A Chess Formula Is Taking Over the World',\n",
       "   'description': \"An anonymous reader quotes a report from The Atlantic: In October 2003, Mark Zuckerberg created his first viral site: not Facebook, but FaceMash. Then a college freshman, he hacked into Harvard's online dorm directories, gathered a massive collection of stude…\",\n",
       "   'url': 'https://science.slashdot.org/story/24/04/19/2017244/a-chess-formula-is-taking-over-the-world',\n",
       "   'urlToImage': 'https://a.fsdn.com/sd/topics/math_64.png',\n",
       "   'publishedAt': '2024-04-19T21:25:00Z',\n",
       "   'content': \"In October 2003, Mark Zuckerberg created his first viral site: not Facebook, but FaceMash. Then a college freshman, he hacked into Harvard's online dorm directories, gathered a massive collection of … [+2726 chars]\"},\n",
       "  {'source': {'id': 'die-zeit', 'name': 'Die Zeit'},\n",
       "   'author': 'ZEIT ONLINE: News -',\n",
       "   'title': 'NBA: Kindheitstraum wird wahr: Wagner-Brüder geben Playoff-Debüt',\n",
       "   'description': 'Hier finden Sie Informationen zu dem Thema „NBA“. Lesen Sie jetzt „Kindheitstraum wird wahr: Wagner-Brüder geben Playoff-Debüt“.',\n",
       "   'url': 'https://www.zeit.de/news/2024-04/19/kindheitstraum-wird-wahr-wagner-brueder-geben-playoff-debuet',\n",
       "   'urlToImage': 'https://img.zeit.de/news/2024-04/19/kindheitstraum-wird-wahr-wagner-brueder-geben-playoff-debuet-image-group/wide__1300x731',\n",
       "   'publishedAt': '2024-04-19T08:14:08Z',\n",
       "   'content': 'Für zwei Jungs aus Berlin geht am Samstag gegen 19.00 Uhr deutscher Zeit ein Kindheitstraum in Erfüllung. Franz Wagner und Moritz Wagner, beide Basketball-Weltmeister und seit mehreren Jahren NBA-Pro… [+4194 chars]'},\n",
       "  {'source': {'id': 'die-zeit', 'name': 'Die Zeit'},\n",
       "   'author': 'ZEIT ONLINE: News -',\n",
       "   'title': 'Basketball: Wagner-Brüder verlieren bei Playoff-Debüt in NBA deutlich',\n",
       "   'description': 'Hier finden Sie Informationen zu dem Thema „Basketball“. Lesen Sie jetzt „Wagner-Brüder verlieren bei Playoff-Debüt in NBA deutlich“.',\n",
       "   'url': 'https://www.zeit.de/news/2024-04/20/wagner-brueder-verlieren-bei-playoff-debuet-in-nba-deutlich',\n",
       "   'urlToImage': 'https://img.zeit.de/news/2024-04/20/wagner-brueder-verlieren-bei-playoff-debuet-in-nba-deutlich-image-group/wide__1300x731',\n",
       "   'publishedAt': '2024-04-20T20:03:56Z',\n",
       "   'content': 'Die Basketball-Weltmeister Franz und Moritz Wagner haben bei ihrem Debüt in den Playoffs der nordamerikanischen Profiliga NBA eine klare Niederlage hinnehmen müssen. In Spiel eins der Serie im Modus … [+1968 chars]'},\n",
       "  {'source': {'id': 'die-zeit', 'name': 'Die Zeit'},\n",
       "   'author': 'ZEIT ONLINE: News -',\n",
       "   'title': \"Basketball: Lakers scheitern in NBA-Playoffs - James' Zukunft ungewiss\",\n",
       "   'description': \"Hier finden Sie Informationen zu dem Thema „Basketball“. Lesen Sie jetzt „Lakers scheitern in NBA-Playoffs - James' Zukunft ungewiss“.\",\n",
       "   'url': 'https://www.zeit.de/news/2024-04/30/lakers-scheitern-in-nba-playoffs-james-zukunft-ungewiss',\n",
       "   'urlToImage': 'https://img.zeit.de/news/2024-04/30/lakers-scheitern-in-nba-playoffs-james-zukunft-ungewiss-image-group/wide__1300x731',\n",
       "   'publishedAt': '2024-04-30T07:52:16Z',\n",
       "   'content': 'Nach dem Aus der Los Angeles Lakers in der ersten Runde der NBA-Playoffs hat Basketball-Superstar LeBron James seine Zukunft in der besten Liga der Welt offengelassen. Das Team aus Kalifornien war an… [+3458 chars]'},\n",
       "  {'source': {'id': 'die-zeit', 'name': 'Die Zeit'},\n",
       "   'author': 'ZEIT ONLINE: News -',\n",
       "   'title': 'NBA: James vor Play-In in Bestform: «Ein Schweizer Taschenmesser»',\n",
       "   'description': 'Hier finden Sie Informationen zu dem Thema „NBA“. Lesen Sie jetzt „James vor Play-In in Bestform: \"Ein Schweizer Taschenmesser\"“.',\n",
       "   'url': 'https://www.zeit.de/news/2024-04/15/james-vor-play-in-in-bestform-ein-schweizer-taschenmesser',\n",
       "   'urlToImage': 'https://img.zeit.de/news/2024-04/15/james-vor-play-in-in-bestform-ein-schweizer-taschenmesser-image-group/wide__1300x731',\n",
       "   'publishedAt': '2024-04-15T07:09:13Z',\n",
       "   'content': 'LeBron James war überall. Beim 123:108 der Los Angeles Lakers gegen die New Orleans Pelicans war der 39 Jahre alte Basketball-Superstar der Hauptgrund für die Dominanz des NBA-Rekordmeisters. 28 Punk… [+4451 chars]'},\n",
       "  {'source': {'id': 'die-zeit', 'name': 'Die Zeit'},\n",
       "   'author': 'ZEIT ONLINE: News -',\n",
       "   'title': 'NBA: Wagner-Brüder erstmals in Playoffs - Knicks auf Rang zwei',\n",
       "   'description': 'Hier finden Sie Informationen zu dem Thema „NBA“. Lesen Sie jetzt „Wagner-Brüder erstmals in Playoffs - Knicks auf Rang zwei“.',\n",
       "   'url': 'https://www.zeit.de/news/2024-04/14/wagner-brueder-erstmals-in-playoffs-knicks-auf-rang-zwei',\n",
       "   'urlToImage': 'https://img.zeit.de/news/2024-04/14/wagner-brueder-erstmals-in-playoffs-knicks-auf-rang-zwei-image-group/wide__1300x731',\n",
       "   'publishedAt': '2024-04-14T20:02:14Z',\n",
       "   'content': 'Die Weltmeister Franz und Moritz Wagner stehen erstmals in ihrer Karriere in den NBA-Playoffs. Mit den Orlando Magic gewann das Brüder-Paar aus Berlin 1113:88 gegen die Milwaukee Bucks und beendete d… [+2221 chars]'},\n",
       "  {'source': {'id': 'die-zeit', 'name': 'Die Zeit'},\n",
       "   'author': 'ZEIT ONLINE: News -',\n",
       "   'title': 'Basketball: Magic verlieren ohne Franz Wagner erneut in NBA',\n",
       "   'description': 'Hier finden Sie Informationen zu dem Thema „Basketball“. Lesen Sie jetzt „Magic verlieren ohne Franz Wagner erneut in NBA“.',\n",
       "   'url': 'https://www.zeit.de/news/2024-04/11/magic-verlieren-ohne-franz-wagner-erneut-in-nba',\n",
       "   'urlToImage': 'https://img.zeit.de/news/2024-04/11/magic-verlieren-ohne-franz-wagner-erneut-in-nba-image-group/wide__1300x731',\n",
       "   'publishedAt': '2024-04-11T05:37:28Z',\n",
       "   'content': 'Ohne den weiterhin angeschlagenen Franz Wagner haben die Orlando Magic in der NBA erneut verloren und drohen kurz vor dem Ende der Hauptrunde noch aus den Playoff-Plätzen zu rutschen. \\r\\nMehr Schlagze… [+3112 chars]'},\n",
       "  {'source': {'id': 'die-zeit', 'name': 'Die Zeit'},\n",
       "   'author': 'ZEIT ONLINE: News -',\n",
       "   'title': 'Basketball: NBA: Wagner-Brüder stark, Orlando gleicht aus',\n",
       "   'description': 'Hier finden Sie Informationen zu dem Thema „Basketball“. Lesen Sie jetzt „NBA: Wagner-Brüder stark, Orlando gleicht aus“.',\n",
       "   'url': 'https://www.zeit.de/news/2024-04/27/nba-wagner-brueder-stark-orlando-gleicht-aus',\n",
       "   'urlToImage': 'https://img.zeit.de/news/2024-04/27/nba-wagner-brueder-stark-orlando-gleicht-aus-image-group/wide__1300x731',\n",
       "   'publishedAt': '2024-04-27T20:55:38Z',\n",
       "   'content': 'Die Orlando Magic haben die NBA-Playoff-Serie gegen die Cleveland Cavaliers auch dank ihrer beiden deutschen Basketball-Weltmeister Franz und Moritz Wagner ausgeglichen. Dem Team gelang im vierten Du… [+383 chars]'},\n",
       "  {'source': {'id': 'die-zeit', 'name': 'Die Zeit'},\n",
       "   'author': 'ZEIT ONLINE: News -',\n",
       "   'title': 'Basketball: NBA-Playoffs: Mavericks holen Sieg zwei gegen die Clippers',\n",
       "   'description': 'Hier finden Sie Informationen zu dem Thema „Basketball“. Lesen Sie jetzt „NBA-Playoffs: Mavericks holen Sieg zwei gegen die Clippers“.',\n",
       "   'url': 'https://www.zeit.de/news/2024-04/27/nba-playoffs-mavericks-holen-sieg-zwei-gegen-die-clippers',\n",
       "   'urlToImage': 'https://img.zeit.de/news/2024-04/27/nba-playoffs-mavericks-holen-sieg-zwei-gegen-die-clippers-image-group/wide__1300x731',\n",
       "   'publishedAt': '2024-04-27T06:57:24Z',\n",
       "   'content': 'Die Dallas Mavericks sind in der Erstrunden-Serie der NBA-Playoffs gegen die Los Angeles Clippers mit 2:1 nach Siegen in Führung gegangen. Die Texaner gewannen ihr erstes Heimspiel in der «Best of se… [+2746 chars]'},\n",
       "  {'source': {'id': 'die-zeit', 'name': 'Die Zeit'},\n",
       "   'author': 'ZEIT ONLINE: News -',\n",
       "   'title': 'Basketball: NBA-Playoffs: Mavericks dominieren Clippers in Spiel fünf',\n",
       "   'description': 'Hier finden Sie Informationen zu dem Thema „Basketball“. Lesen Sie jetzt „NBA-Playoffs: Mavericks dominieren Clippers in Spiel fünf“.',\n",
       "   'url': 'https://www.zeit.de/news/2024-05/02/nba-playoffs-mavericks-dominieren-clippers-in-spiel-fuenf',\n",
       "   'urlToImage': 'https://img.zeit.de/news/2024-05/02/nba-playoffs-mavericks-dominieren-clippers-in-spiel-fuenf-image-group/wide__1300x731',\n",
       "   'publishedAt': '2024-05-02T06:02:28Z',\n",
       "   'content': 'Basketball-Profi Maxi Kleber fehlt mit den Dallas Mavericks nur noch ein Sieg zum Einzug in die nächste Runde der NBA-Playoffs.\\r\\nMehr Schlagzeilen\\r\\nAuch dank einer starken Leistung des Würzburgers ka… [+2479 chars]'},\n",
       "  {'source': {'id': 'die-zeit', 'name': 'Die Zeit'},\n",
       "   'author': 'ZEIT ONLINE: News -',\n",
       "   'title': 'Basketball: Keine Playoffs für NBA-Star Schröder vor Olympia',\n",
       "   'description': 'Hier finden Sie Informationen zu dem Thema „Basketball“. Lesen Sie jetzt „Keine Playoffs für NBA-Star Schröder vor Olympia“.',\n",
       "   'url': 'https://www.zeit.de/news/2024-04/04/keine-playoffs-fuer-nba-star-schroeder-vor-olympia',\n",
       "   'urlToImage': 'https://img.zeit.de/news/2024-04/04/keine-playoffs-fuer-nba-star-schroeder-vor-olympia-image-group/wide__1300x731',\n",
       "   'publishedAt': '2024-04-04T05:17:49Z',\n",
       "   'content': 'Weltmeister-Kapitän Dennis Schröder wird vor den Olympischen Spielen keine Playoff-Partien in der NBA absolvieren. Fünf Spiele vor dem Ende der Hauptrunde kann der Basketball-Profi aus Braunschweig m… [+1935 chars]'},\n",
       "  {'source': {'id': 'die-zeit', 'name': 'Die Zeit'},\n",
       "   'author': 'ZEIT ONLINE: News -',\n",
       "   'title': 'Basketball: NBA-Titelverteidiger Denver besiegt Lakers zum Playoff-Start',\n",
       "   'description': 'Hier finden Sie Informationen zu dem Thema „Basketball“. Lesen Sie jetzt „NBA-Titelverteidiger Denver besiegt Lakers zum Playoff-Start“.',\n",
       "   'url': 'https://www.zeit.de/news/2024-04/21/nba-titelverteidiger-denver-besiegt-lakers-zum-playoff-start',\n",
       "   'urlToImage': 'https://img.zeit.de/news/2024-04/21/nba-titelverteidiger-denver-besiegt-lakers-zum-playoff-start-image-group/wide__1300x731',\n",
       "   'publishedAt': '2024-04-21T05:39:38Z',\n",
       "   'content': 'Titelverteidiger Denver Nuggets ist mit einem Sieg in die Playoffs der nordamerikanischen Basketballliga NBA gestartet. Das Team um Starspieler Nikola Jokic setzte sich gegen die Los Angeles Lakers m… [+2713 chars]'},\n",
       "  {'source': {'id': 'die-zeit', 'name': 'Die Zeit'},\n",
       "   'author': 'ZEIT ONLINE: News -',\n",
       "   'title': 'Basketball: Lakers verhindern frühes Aus in NBA-Playoffs',\n",
       "   'description': 'Hier finden Sie Informationen zu dem Thema „Basketball“. Lesen Sie jetzt „Lakers verhindern frühes Aus in NBA-Playoffs“.',\n",
       "   'url': 'https://www.zeit.de/news/2024-04/28/lakers-verhindern-fruehes-aus-in-nba-playoffs',\n",
       "   'urlToImage': 'https://img.zeit.de/news/2024-04/28/lakers-verhindern-fruehes-aus-in-nba-playoffs-image-group/wide__1300x731',\n",
       "   'publishedAt': '2024-04-28T05:42:33Z',\n",
       "   'content': 'Die Los Angeles Lakers haben in der ersten Playoff-Runde der nordamerikanischen Basketball-Profiliga NBA gegen Titelverteidiger Denver Nuggets ein schnelles Aus verhindert. Die Lakers gewannen Spiel … [+2356 chars]'},\n",
       "  {'source': {'id': 'bleacher-report', 'name': 'Bleacher Report'},\n",
       "   'author': 'Mike Chiari',\n",
       "   'title': \"NBA Rumors: 4 Insiders Say Bronny James Would Go Undrafted If He Wasn't LeBron's Son\",\n",
       "   'description': 'There is a belief among some in the NBA that Bronny James would go undrafted if not for being the son of NBA legend LeBron James. In an article published…',\n",
       "   'url': 'https://bleacherreport.com/articles/10116580-nba-rumors-4-insiders-say-bronny-james-would-go-undrafted-if-he-wasnt-lebrons-son',\n",
       "   'urlToImage': 'https://media.bleacherreport.com/image/upload/x_0,y_307,w_1800,h_1200,c_crop/c_fill,g_faces,w_3800,h_2000,q_95/v1712927289/vhqs5kdaujasyesxys2m.jpg',\n",
       "   'publishedAt': '2024-04-12T13:09:36Z',\n",
       "   'content': 'David Becker/Getty Images\\r\\nThere is a belief among some in the NBA that Bronny James would go undrafted if not for being the son of NBA legend LeBron James.\\r\\nIn an article published Friday, Sam Vecen… [+839 chars]'},\n",
       "  {'source': {'id': 'bleacher-report', 'name': 'Bleacher Report'},\n",
       "   'author': 'Zach Buckley',\n",
       "   'title': 'NBA Draft 2024: Round-Up of Expert Mock Drafts After NCAA Championship',\n",
       "   'description': \"The 2024 men's NCAA Tournament is in the books, and the 2023-24 NBA season is days away from its final buzzer. NBA draft season is here, folks. While…\",\n",
       "   'url': 'https://bleacherreport.com/articles/10116271-nba-draft-2024-round-up-of-expert-mock-drafts-after-ncaa-championship',\n",
       "   'urlToImage': 'https://media.bleacherreport.com/image/upload/c_fill,g_faces,w_3800,h_2000,q_95/v1712758176/nkzerv5ha41weaysoola.jpg',\n",
       "   'publishedAt': '2024-04-10T16:00:00Z',\n",
       "   'content': \"Brett Wilhelm/NCAA Photos via Getty Images\\r\\nWhile Purdue star center Zach Edey couldn't quite wrap a national championship bow around his decorated career, he left little doubt about his standing as … [+1289 chars]\"},\n",
       "  {'source': {'id': 'business-insider', 'name': 'Business Insider'},\n",
       "   'author': 'Kenneth Niemeyer',\n",
       "   'title': \"The government is now monitoring online stores in games like Roblox and Fortnite for their 'buyer beware' approach\",\n",
       "   'description': 'The Consumer Financial Protection Bureau is monitoring video game stores, which it says do not protect users money the same way a bank would.',\n",
       "   'url': 'https://www.businessinsider.com/officials-looking-at-roblox-and-fortnite-for-buyer-beware-approach-2024-4',\n",
       "   'urlToImage': 'https://i.insider.com/6611a0651caec1275a6d88c8?width=1200&format=jpeg',\n",
       "   'publishedAt': '2024-04-06T19:42:18Z',\n",
       "   'content': 'The Consumer Financial Protection Bureau is starting to monitor stores in online games like Roblox.Courtesy of Richard Sim\\r\\n<ul><li>The federal government is paying attention to the growth of in-game… [+3084 chars]'}]}"
      ]
     },
     "execution_count": 59,
     "metadata": {},
     "output_type": "execute_result"
    }
   ],
   "source": [
    "everything_request = News()\n",
    "\n",
    "params = {\"q\": \"nba\"}\n",
    "everything_request.add_params(params)\n",
    "everything = everything_request.make_request()\n",
    "everything"
   ]
  },
  {
   "cell_type": "code",
   "execution_count": 8,
   "metadata": {},
   "outputs": [
    {
     "data": {
      "text/plain": [
       "[{'source': {'id': 'business-insider', 'name': 'Business Insider'},\n",
       "  'author': 'Peter Kafka',\n",
       "  'title': \"Why the NBA doesn't hate the Jontay Porter sports betting scandal\",\n",
       "  'description': 'The NBA is happy to make an example of Jontay Porter. It really wants sports betting to thrive, so a lifetime ban is an easy call.',\n",
       "  'url': 'https://www.businessinsider.com/nba-ban-jontay-porter-toronto-raptors-easy-call-why-2024-4',\n",
       "  'urlToImage': 'https://i.insider.com/6620305710c6b0cde5f07db8?width=1200&format=jpeg',\n",
       "  'publishedAt': '2024-04-17T20:36:26Z',\n",
       "  'content': \"Jontay Porter (center) has been banned by the NBA for life after a betting scandal.Photo by Zou Zheng/Xinhua via Getty Images\\r\\n<ul><li>The Toronto Raptors' Jontay Porter received a lifetime ban from … [+3713 chars]\"},\n",
       " {'source': {'id': None, 'name': 'NPR'},\n",
       "  'author': None,\n",
       "  'title': 'NBA bans Jontay Porter after gambling probe shows he shared information, bet on games',\n",
       "  'description': 'The Toronto Raptors player has been banned for life from the NBA after a league probe found he disclosed confidential information to sports bettors and bet on games.',\n",
       "  'url': 'https://www.npr.org/2024/04/17/1245301982/nba-bans-jontay-porter-gambling',\n",
       "  'urlToImage': 'https://media.npr.org/assets/img/2024/04/17/ap24108596882358_wide-a40a53ea5a554fd7c90488751617c5e285b9ad9e-s1400-c100.jpg',\n",
       "  'publishedAt': '2024-04-17T16:52:45Z',\n",
       "  'content': 'Toronto Raptors center Jontay Porter (right) pulls in a rebound as Denver Nuggets center Nikola Jokic defends in an NBA game on March 11 in Denver. On Wednesday, the NBA banned Porter after a league … [+2773 chars]'},\n",
       " {'source': {'id': 'espn', 'name': 'ESPN'},\n",
       "  'author': 'Adrian Wojnarowski',\n",
       "  'title': 'Lottery prospect Buzelis enters 2024 NBA draft',\n",
       "  'description': \"Matas Buzelis, the No. 6 prospect in ESPN's Top 100 prospect list, averaged 14.1 points and 6.6 rebounds per game for the G League Ignite this season after choosing the NBA's feeder program over several top college basketball programs.\",\n",
       "  'url': 'https://www.espn.com/nba/story/_/id/39927961/matas-buzelis-enters-draft-g-league-ignite-season',\n",
       "  'urlToImage': 'https://a3.espncdn.com/combiner/i?img=%2Fphoto%2F2024%2F0219%2Fr1293085_1296x729_16%2D9.jpg',\n",
       "  'publishedAt': '2024-04-12T16:05:13Z',\n",
       "  'content': \"The G League Ignite's Matas Buzelis -- the No. 6 prospect in ESPN's Top 100 prospect list -- will enter the 2024 NBA draft, he told ESPN.\\r\\nBuzelis, a 6-foot-10 forward out of Chicago, averaged 14.1 p… [+652 chars]\"},\n",
       " {'source': {'id': 'espn', 'name': 'ESPN'},\n",
       "  'author': 'Jonathan Givony',\n",
       "  'title': 'Miami freshman guard George entering NBA draft',\n",
       "  'description': 'Miami freshman Kyshawn George, the No. 24 prospect according to ESPN, is preparing to enter the NBA draft.',\n",
       "  'url': 'https://www.espn.com/nba/story/_/id/40024731/miami-freshman-guard-kyshawn-george-entering-nba-draft',\n",
       "  'urlToImage': 'https://a4.espncdn.com/combiner/i?img=%2Fphoto%2F2024%2F0213%2Fr1290652_1296x729_16%2D9.jpg',\n",
       "  'publishedAt': '2024-04-25T21:05:42Z',\n",
       "  'content': 'Miami freshman Kyshawn George, a projected first-round pick, told ESPN he is forgoing his remaining college eligibility, hiring an agent and submitting paperwork to become eligible for the 2024 NBA d… [+1347 chars]'},\n",
       " {'source': {'id': 'espn', 'name': 'ESPN'},\n",
       "  'author': 'NBA Insiders',\n",
       "  'title': 'Biggest takeaways from every Game 1 of the NBA playoffs',\n",
       "  'description': 'Our experts give their biggest takeaways from every Game 1 of the 2024 NBA playoffs.',\n",
       "  'url': 'https://www.espn.com/nba/story/_/id/39991668/biggest-takeaways-first-weekend-2024-nba-playoffs',\n",
       "  'urlToImage': 'https://a1.espncdn.com/combiner/i?img=%2Fphoto%2F2024%2F0422%2Fr1322336_1296x729_16%2D9.jpg',\n",
       "  'publishedAt': '2024-04-22T12:42:10Z',\n",
       "  'content': \"The NBA playoffs tipped off this weekend, as the Denver Nuggets look to become the NBA's first repeat champions since the 2017 and 2018 Golden State Warriors. They picked up right where they left off… [+14698 chars]\"},\n",
       " {'source': {'id': 'ars-technica', 'name': 'Ars Technica'},\n",
       "  'author': 'Ashley Belanger',\n",
       "  'title': 'Elon Musk’s Grok keeps making up fake news based on X users’ jokes',\n",
       "  'description': 'X likely hopes to avoid liability with disclaimer that Grok \"can make mistakes.\"',\n",
       "  'url': 'https://arstechnica.com/tech-policy/2024/04/elon-musks-grok-keeps-making-up-fake-news-based-on-x-users-jokes/',\n",
       "  'urlToImage': 'https://cdn.arstechnica.net/wp-content/uploads/2024/04/GettyImages-1794263843-760x380.jpg',\n",
       "  'publishedAt': '2024-04-18T21:47:53Z',\n",
       "  'content': \"10\\r\\nX's chatbot Grok is supposed to be an AI engine crunching the platform's posts to surface and summarize breaking news, but this week, Grok's flaws were once again exposed when the chatbot got con… [+5247 chars]\"},\n",
       " {'source': {'id': 'espn', 'name': 'ESPN'},\n",
       "  'author': 'Bobby Marks',\n",
       "  'title': 'What the Warriors need to do this offseason',\n",
       "  'description': 'We break down what the summer priorities and needs are for the NBA teams who have already been sent home.',\n",
       "  'url': 'https://www.espn.com/nba/insider/story/_/id/39854732/nba-offseason-2024-draft-trade-free-agency-guides-every-eliminated-nba-team',\n",
       "  'urlToImage': 'https://a4.espncdn.com/combiner/i?img=%2Fphoto%2F2024%2F0412%2Fnba_offseason_guide_1296x729.png',\n",
       "  'publishedAt': '2024-04-17T04:41:48Z',\n",
       "  'content': \"Now that the 2023-24 NBA regular season is over, we're turning our attention to how each team should approach the offseason, including the draft and free agency. It starts with the 10 teams that have… [+1475 chars]\"},\n",
       " {'source': {'id': 'espn', 'name': 'ESPN'},\n",
       "  'author': None,\n",
       "  'title': 'Follow live: Bucks, Pacers continue playoff battle in Game 4',\n",
       "  'description': 'Live coverage of the Milwaukee Bucks vs. Indiana Pacers NBA game on ESPN, including live score, highlights and updated stats.',\n",
       "  'url': 'https://www.espn.com/nba/game?gameId=401655114',\n",
       "  'urlToImage': 'http://s.espncdn.com/stitcher/sports/basketball/nba/events/401655114.png?templateId=espn.com.share.1',\n",
       "  'publishedAt': '2024-04-28T23:20:02Z',\n",
       "  'content': ''},\n",
       " {'source': {'id': None, 'name': 'NPR'},\n",
       "  'author': None,\n",
       "  'title': \"Iowa-UConn women's Final Four game is the most-watched hoops game in ESPN history\",\n",
       "  'description': \"Friday's semifinal averaged 14.2 million viewers, making it the most-viewed women's basketball game on record and the largest audience for an ESPN basketball broadcast.\",\n",
       "  'url': 'https://www.npr.org/2024/04/06/1243281647/iowa-uconn-womens-final-four-game-is-the-most-watched-hoops-game-in-espn-history',\n",
       "  'urlToImage': 'https://media.npr.org/assets/img/2024/04/06/ap24097106820665_wide-abe2eefe4f848bf63403cb426ea695d6e42b71ef-s1400-c100.jpg',\n",
       "  'publishedAt': '2024-04-07T00:39:44Z',\n",
       "  'content': \"Iowa guard Caitlin Clark (22) with head coach Lisa Bluder during a Final Four college basketball game against UConn in the women's NCAA Tournament, Friday, April 5, 2024, in Cleveland.\\r\\nMorry Gash/AP… [+1774 chars]\"},\n",
       " {'source': {'id': None, 'name': 'The Athletic'},\n",
       "  'author': 'John Gruber',\n",
       "  'title': 'NBA Bars Jontay Porter for Betting',\n",
       "  'description': 'The league said Porter removed himself from a game to control prop bets on his own play, and placed his own wagers on NBA games.',\n",
       "  'url': 'https://theathletic.com/5423208/2024/04/17/jontay-porter-banned-nba-betting/',\n",
       "  'urlToImage': 'https://cdn.theathletic.com/app/uploads/2024/04/10153115/GettyImages-2072135387-scaled.jpg',\n",
       "  'publishedAt': '2024-04-18T00:15:45Z',\n",
       "  'content': 'NBA commissioner Adam Silver delivered the leagues most severe punishment in decades for gambling on Wednesday, banning Toronto Raptors forward Jontay Porter from the league for what he termed a card… [+7014 chars]'},\n",
       " {'source': {'id': 'espn', 'name': 'ESPN'},\n",
       "  'author': None,\n",
       "  'title': \"Follow live: It's win or go home for the No. 10 Warriors and No. 9 Kings\",\n",
       "  'description': 'Live coverage of the Golden State Warriors vs. Sacramento Kings NBA game on ESPN, including live score, highlights and updated stats.',\n",
       "  'url': 'https://www.espn.com/nba/game/_/gameId/401654656',\n",
       "  'urlToImage': 'http://s.espncdn.com/stitcher/sports/basketball/nba/events/401654656.png?templateId=espn.com.share.1',\n",
       "  'publishedAt': '2024-04-17T02:20:03Z',\n",
       "  'content': ''},\n",
       " {'source': {'id': 'espn', 'name': 'ESPN'},\n",
       "  'author': None,\n",
       "  'title': 'Follow live: No. 8 Lakers visit No. 7 Pelicans looking to secure a spot in the playoffs',\n",
       "  'description': 'Live coverage of the Los Angeles Lakers vs. New Orleans Pelicans NBA game on ESPN, including live score, highlights and updated stats.',\n",
       "  'url': 'https://www.espn.com/nba/game/_/gameId/401654655',\n",
       "  'urlToImage': 'http://s.espncdn.com/stitcher/sports/basketball/nba/events/401654655.png?templateId=espn.com.share.1',\n",
       "  'publishedAt': '2024-04-16T23:37:09Z',\n",
       "  'content': ''},\n",
       " {'source': {'id': 'espn', 'name': 'ESPN'},\n",
       "  'author': None,\n",
       "  'title': 'Follow live: Thunder seeking commanding 3-0 lead as they visit the Pelicans',\n",
       "  'description': 'Live coverage of the Oklahoma City Thunder vs. New Orleans Pelicans NBA game on ESPN, including live score, highlights and updated stats.',\n",
       "  'url': 'https://www.espn.com/nba/game?gameId=401655077',\n",
       "  'urlToImage': 'http://s.espncdn.com/stitcher/sports/basketball/nba/events/401655077.png?templateId=espn.com.share.1',\n",
       "  'publishedAt': '2024-04-27T19:37:11Z',\n",
       "  'content': ''},\n",
       " {'source': {'id': 'espn', 'name': 'ESPN'},\n",
       "  'author': 'ESPN Insiders',\n",
       "  'title': \"Jokic the inevitable MVP?: NBA experts' picks for regular-season awards\",\n",
       "  'description': 'From MVP to ROY, our NBA insiders give their takes on which players are set to take home some regular-season hardware.',\n",
       "  'url': 'https://www.espn.com/nba/story/_/id/39916984/nba-roundtable-expert-picks-nba-regular-season-awards',\n",
       "  'urlToImage': 'https://a.espncdn.com/combiner/i?img=%2Fphoto%2F2024%2F0412%2Fr1317648_1296x729_16%2D9.jpg',\n",
       "  'publishedAt': '2024-04-12T12:07:26Z',\n",
       "  'content': 'Apr 12, 2024, 08:00 AM ET\\r\\nThe 2023-24 NBA regular season officially wraps up on Sunday, with teams looking toward the play-in tournament next week to shape the playoff picture.\\r\\nBut NBA awards seaso… [+16130 chars]'},\n",
       " {'source': {'id': 'espn', 'name': 'ESPN'},\n",
       "  'author': 'David Purdum',\n",
       "  'title': 'Celtics title faves, but Boston-Denver close',\n",
       "  'description': 'The Celtics are favorites to win the NBA title, but if they meet the Nuggets in the Finals, it could be a tossup.',\n",
       "  'url': 'https://www.espn.com/nba/story/_/id/39975589/celtics-title-faves-boston-denver-tossup',\n",
       "  'urlToImage': 'https://a3.espncdn.com/combiner/i?img=%2Fphoto%2F2024%2F0418%2Fr1320790_2_1296x729_16%2D9.jpg',\n",
       "  'publishedAt': '2024-04-19T16:35:07Z',\n",
       "  'content': 'The Boston Celtics, with home-court advantage throughout playoffs and a perceived easier path to the Finals, are the consensus betting favorites to win the NBA title at sportsbooks around the nation.… [+1867 chars]'},\n",
       " {'source': {'id': None, 'name': 'CNET'},\n",
       "  'author': 'Matt Elliott',\n",
       "  'title': 'NHL Playoffs 2024: Schedule, Matchups, TV Times, How to Watch Without Cable - CNET',\n",
       "  'description': 'Discover the best ways to stream March Madness 2024 on TBS without cable. Your ultimate guide for how to watch March Madness and more.',\n",
       "  'url': 'https://www.cnet.com/tech/services-and-software/nhl-playoffs-2024-schedule-matchups-tv-times-how-to-watch-without-cable/',\n",
       "  'urlToImage': 'https://www.cnet.com/a/img/resize/6b28fbbd5f257658577703e44543cc4cba5345f0/hub/2024/04/19/a1b9f29a-abfe-4665-a725-81ac833b61cd/gettyimages-2147889623.jpg?auto=webp&fit=crop&height=675&width=1200',\n",
       "  'publishedAt': '2024-04-20T19:45:05Z',\n",
       "  'content': 'The NBA play-in and playoffs may have already begun, but for hockey fans, the fun starts on Saturday. This weekend brings the first batch of action for the NHL playoffs, with 16 teams fighting for th… [+1955 chars]'},\n",
       " {'source': {'id': 'espn', 'name': 'ESPN'},\n",
       "  'author': None,\n",
       "  'title': 'Celtics wrap up top seed in NBA with rout of OKC',\n",
       "  'description': 'The Celtics powered past Oklahoma City 135-100 to secure the best record in the NBA and home-court advantage throughout the playoffs.',\n",
       "  'url': 'https://www.espn.com/nba/story/_/id/39871028/celtics-clinch-nba-best-record-runaway-win-okc',\n",
       "  'urlToImage': 'https://a4.espncdn.com/combiner/i?img=%2Fphoto%2F2024%2F0404%2Fr1313929_1296x729_16%2D9.jpg',\n",
       "  'publishedAt': '2024-04-04T02:50:15Z',\n",
       "  'content': 'BOSTON -- Kristaps Porzingis had 27 points, 12 rebounds and five blocks, helping the Boston Celtics power past the Oklahoma City Thunder135-100 on Wednesday night to secure the best record in the NBA… [+1102 chars]'},\n",
       " {'source': {'id': 'espn', 'name': 'ESPN'},\n",
       "  'author': None,\n",
       "  'title': 'Follow live: Thunder want control of series; Pelicans aim to hit back',\n",
       "  'description': 'Live coverage of the New Orleans Pelicans vs. Oklahoma City Thunder NBA game on ESPN, including live score, highlights and updated stats.',\n",
       "  'url': 'https://www.espn.com/nba/game?gameId=401655076',\n",
       "  'urlToImage': 'http://s.espncdn.com/stitcher/sports/basketball/nba/events/401655076.png?templateId=espn.com.share.1',\n",
       "  'publishedAt': '2024-04-25T01:50:12Z',\n",
       "  'content': ''},\n",
       " {'source': {'id': 'business-insider', 'name': 'Business Insider'},\n",
       "  'author': 'Cork Gaines',\n",
       "  'title': 'The NFL is starting a new Christmas tradition and it will change how millions of Americans spend the holiday',\n",
       "  'description': 'The NFL announced that it will play two nationally televised games on Christmas this year.',\n",
       "  'url': 'https://www.businessinsider.com/nfl-christmas-day-games-tradition-football-history-thanksgiving-tv-ratings-2024-4',\n",
       "  'urlToImage': 'https://i.insider.com/6616e80c16bde8d4ead7815e?width=1200&format=jpeg',\n",
       "  'publishedAt': '2024-04-12T10:03:01Z',\n",
       "  'content': 'An NFL fan dressed as Santa Claus on Christmas Day.Lachlan Cunningham/Getty Images\\r\\n<ul><li>The NFL will play two nationally televised games on Christmas this year.</li><li>Previously, the NFL avoide… [+4601 chars]'},\n",
       " {'source': {'id': 'espn', 'name': 'ESPN'},\n",
       "  'author': 'ESPN',\n",
       "  'title': 'NBA Power Rankings: Where all 30 teams stack up with 11 days left in the season',\n",
       "  'description': \"With less than two weeks remaining in the 2023-24 NBA regular season, a multitude of postseason possibilities still exist in both the East and the West. Let's see where all 30 teams land in this final stretch.\",\n",
       "  'url': 'https://www.espn.com/nba/story/_/id/39862755/2023-24-nba-power-rankings-dallas-rises-west-hawks-pacers-battle-east',\n",
       "  'urlToImage': 'https://a3.espncdn.com/combiner/i?img=%2Fphoto%2F2024%2F0401%2Fnba_power24_cr_16x9.jpg',\n",
       "  'publishedAt': '2024-04-03T12:53:29Z',\n",
       "  'content': \"We're less than two weeks away from the conclusion of the 2023-24 NBA regular season, and a myriad of possibilities still remain in the West and East playoff seeding.\\r\\nIn the Western Conference, the … [+22456 chars]\"},\n",
       " {'source': {'id': 'espn', 'name': 'ESPN'},\n",
       "  'author': 'Adrian Wojnarowski',\n",
       "  'title': 'Taking his talents: Bronny to enter draft, portal',\n",
       "  'description': 'Bronny James will enter the NBA draft as well as the transfer portal. The USC freshman and son of LeBron James averaged 4.8 points, 2.8 rebounds and 2.1 assists.',\n",
       "  'url': 'https://www.espn.com/nba/story/_/id/39879943/usc-bronny-james-entering-nba-draft-transfer-portal',\n",
       "  'urlToImage': 'https://a4.espncdn.com/combiner/i?img=%2Fphoto%2F2024%2F0114%2Fr1277242_1296x729_16%2D9.jpg',\n",
       "  'publishedAt': '2024-04-05T15:06:48Z',\n",
       "  'content': 'USC freshman guard Bronny James will enter the 2024 NBA draft while maintaining his college eligibility and will also enter the transfer portal, he said Friday on Instagram.\\r\\nJames had been expected … [+2384 chars]'},\n",
       " {'source': {'id': 'abc-news', 'name': 'ABC News'},\n",
       "  'author': 'BETH HARRIS AP sports writer',\n",
       "  'title': \"USC's Bronny James declares for NBA draft and enters transfer portal after 1 season\",\n",
       "  'description': 'Bronny James will enter the NBA draft after one season at Southern California that was shortened by his recovery from cardiac arrest',\n",
       "  'url': 'https://abcnews.go.com/Sports/wireStory/uscs-bronny-james-declares-nba-draft-enters-transfer-108896197',\n",
       "  'urlToImage': 'https://i.abcnewsfe.com/a/022eb67d-e1f8-4989-83aa-f1d548ee6e9d/wirestory_c61a2e0d1834b6f86d27abc941c981bb_16x9.jpg?w=1600',\n",
       "  'publishedAt': '2024-04-05T16:01:28Z',\n",
       "  'content': 'LOS ANGELES -- Bronny James will enter the NBA draft after one season at Southern California that was shortened by his recovery from cardiac arrest.\\r\\nThe 19-year-old son of LeBron James announced Fri… [+1809 chars]'},\n",
       " {'source': {'id': None, 'name': 'ReadWrite'},\n",
       "  'author': 'Brian-Damien Morgan',\n",
       "  'title': 'Call of Duty: MW3 Season 3 Reloaded’s mid-season content update arrives May 1',\n",
       "  'description': 'Call of Duty: MW3 Season 3 Reloaded will begin May 1, bringing new maps, weapons, and zombies content to fans… Continue reading Call of Duty: MW3 Season 3 Reloaded’s mid-season content update arrives May 1\\nThe post Call of Duty: MW3 Season 3 Reloaded’s mid-se…',\n",
       "  'url': 'https://readwrite.com/call-of-duty-mw3-season-3-reloaded-content-drops-may-1/',\n",
       "  'urlToImage': 'https://readwrite.com/wp-content/uploads/2024/04/Modern-Warfare-3-gets-content-drop.jpg',\n",
       "  'publishedAt': '2024-04-25T16:38:26Z',\n",
       "  'content': 'Call of Duty: MW3 Season 3 Reloaded will begin May 1, bringing new maps, weapons, and zombies content to fans of Activision’s cornerstone shooter. The mid-season drop comes just a month after Season … [+3103 chars]'},\n",
       " {'source': {'id': 'espn', 'name': 'ESPN'},\n",
       "  'author': 'Jonathan Givony',\n",
       "  'title': 'Recruit Knox joins Arkansas after UK decommit',\n",
       "  'description': 'Karter Knox, the No. 26 recruit in the 2024 ESPN 100 who had previously committed to Kentucky, has recommitted to John Calipari at Arkansas, he told ESPN.',\n",
       "  'url': 'https://www.espn.com/recruiting/basketball/story/_/id/40001328/no-26-recruit-karter-knox-commits-john-calipari-arkansas',\n",
       "  'urlToImage': 'https://a.espncdn.com/combiner/i?img=%2Fphoto%2F2024%2F0308%2Fr1301943_1296x729_16%2D9.jpg',\n",
       "  'publishedAt': '2024-04-22T23:20:15Z',\n",
       "  'content': 'Karter Knox, the No. 26 recruit in the 2024 ESPN 100 who had decommitted from Kentucky, has recommitted to John Calipari at Arkansas, he told ESPN on Monday.\\r\\n\"Throughout my whole recruiting process,… [+2120 chars]'},\n",
       " {'source': {'id': 'espn', 'name': 'ESPN'},\n",
       "  'author': 'Adrian Wojnarowski',\n",
       "  'title': 'Holiday lands 4-year, $135M extension from Celtics',\n",
       "  'description': 'After arriving in a blockbuster offseason trade, Celtics guard Jrue Holiday has agreed on a four-year, $135 million contract extension, his agent told ESPN on Wednesday.',\n",
       "  'url': 'https://www.espn.com/nba/story/_/id/39916819/jrue-holiday-boston-celtics-agree-4-year-135-million-contract-extension',\n",
       "  'urlToImage': 'https://a2.espncdn.com/combiner/i?img=%2Fphoto%2F2024%2F0410%2Fr1317043_1296x729_16%2D9.jpg',\n",
       "  'publishedAt': '2024-04-10T23:26:06Z',\n",
       "  'content': 'After arriving in a blockbuster offseason trade, Boston Celtics guard Jrue Holiday has agreed on a four-year, $135 million contract extension, his agent Jason Glushon of Glushon Sports Management tol… [+2319 chars]'},\n",
       " {'source': {'id': None, 'name': 'MacRumors'},\n",
       "  'author': 'Eric Slivka',\n",
       "  'title': 'LeBron James Spotted With Unreleased Beats Pill Speaker',\n",
       "  'description': \"Ahead of tonight's NBA playoff game, the Los Angeles Lakers posted an Instagram reel showing superstar LeBron James arriving at Ball Arena in Denver carrying what appears to be an unreleased version of the Pill speaker from Apple's Beats brand.\\n\\n\\n\\n\\n\\nThe origi…\",\n",
       "  'url': 'https://www.macrumors.com/2024/04/20/lebron-james-unreleased-beats-pill/',\n",
       "  'urlToImage': 'https://images.macrumors.com/t/ujgJlgXlBNJR89AUSulCzjQ3mhM=/1600x/article-new/2024/04/lebron-unreleased-beats-pill.jpg',\n",
       "  'publishedAt': '2024-04-20T23:26:24Z',\n",
       "  'content': \"Ahead of tonight's NBA playoff game, the Los Angeles Lakers posted an Instagram reel showing superstar LeBron James arriving at Ball Arena in Denver carrying what appears to be an unreleased version … [+1093 chars]\"},\n",
       " {'source': {'id': 'buzzfeed', 'name': 'Buzzfeed'},\n",
       "  'author': 'Alana Valko',\n",
       "  'title': \"I Am 97.33% Sure These Funny Tweets From Last Week Will Have You Crackin' A Big Cheesy Smile\",\n",
       "  'description': '\"The NBA should have jeans night. I wanna see how good they play in jeans.\" —@calebsynanView Entire Post ›',\n",
       "  'url': 'https://www.buzzfeed.com/alanavalko/27-hilarious-tweets-from-the-week',\n",
       "  'urlToImage': 'https://img.buzzfeed.com/buzzfeed-static/static/2024-04/29/17/enhanced/50c8a27b2e4d/original-1352-1714412994-2.jpg?crop=1244:651;0,65%26downsize=1250:*',\n",
       "  'publishedAt': '2024-04-29T17:54:55Z',\n",
       "  'content': 'Hey friends. Im okay but a little shaken up. This morning, my car started spinning in circles before coming to an abrupt stop in the middle of the road. When I got out to see what happened, I found t… [+79 chars]'},\n",
       " {'source': {'id': 'le-monde', 'name': 'Le Monde'},\n",
       "  'author': 'Théo Quintard',\n",
       "  'title': 'Victor Wembanyama, «\\xa0l’une des voix fortes du vestiaire\\xa0» des Spurs de San Antonio',\n",
       "  'description': 'Auteur d’une première saison en NBA aboutie sur le plan personnel, le Français a\\xa0largement conquis ses coéquipiers, qui ne tarissent pas d’éloges à son égard.',\n",
       "  'url': 'https://www.lemonde.fr/sport/article/2024/04/06/victor-wembanyama-l-une-des-voix-fortes-du-vestiaire-des-spurs-de-san-antonio_6226228_3242.html',\n",
       "  'urlToImage': 'https://img.lemde.fr/2024/03/16/0/0/7549/5033/1440/960/60/0/b6bcd7a_2024-03-16t020059z-1764787172-mt1usatoday22786762-rtrmadp-3-nba-denver-nuggets-at-san-antonio-spurs.JPG',\n",
       "  'publishedAt': '2024-04-06T02:17:53Z',\n",
       "  'content': 'Lintérieur français des Spurs, Victor Wembanyama, lors du match opposant son équipe aux Denver Nuggets, à San Antonio (Texas), le 15 mars 2024. SCOTT WACHTER / USA TODAY SPORTS VIA REUTERS CON\\r\\nIl au… [+2850 chars]'},\n",
       " {'source': {'id': 'espn', 'name': 'ESPN'},\n",
       "  'author': 'ESPN',\n",
       "  'title': 'NBA playoffs Game 2s: Key factors for the Celtics, Heat, Pelicans and Thunder',\n",
       "  'description': \"Both No. 1 seeds took a 1-0 lead over the weekend. What are the biggest storylines going into Wednesday's Game 2s?\",\n",
       "  'url': 'https://www.espn.com/nba/story/_/id/40012436/the-key-game-2-storylines-celtics-heat-pelicans-thunder',\n",
       "  'urlToImage': 'https://a2.espncdn.com/combiner/i?img=%2Fphoto%2F2024%2F0424%2Fr1323681_1296x729_16%2D9.jpg',\n",
       "  'publishedAt': '2024-04-24T13:22:46Z',\n",
       "  'content': \"Apr 23, 2024, 10:13 PM ET\\r\\nThe Boston Celtics and Oklahoma City Thunder, the two 1-seeds in the 2024 NBA playoffs, both have 1-0 leads in their respective first-round series, but that's just about wh… [+10459 chars]\"},\n",
       " {'source': {'id': None, 'name': 'NPR'},\n",
       "  'author': 'Rachel Treisman',\n",
       "  'title': 'Caitlin Clark and Fever frenzy hit the WNBA, boosting ticket prices and jersey sales',\n",
       "  'description': 'Demand is skyrocketing to see Caitlin Clark play with the Indiana Fever. Ahead of her WNBA debut, ticket sales are soaring and some teams are relocating their games to larger venues.',\n",
       "  'url': 'https://www.npr.org/2024/04/22/1246308836/caitlin-clark-indiana-fever-wnba-tickets-venues',\n",
       "  'urlToImage': 'https://media.npr.org/assets/img/2024/04/22/ap24106824822318_wide-59cac82f2ff6ef0aec4f314e61a03cb33e69e586-s1400-c100.jpg',\n",
       "  'publishedAt': '2024-04-22T14:56:35Z',\n",
       "  'content': \"Caitlin Clark, pictured autographing sneakers before the WNBA draft last Monday, is helping drive demand for the league's ticket sales and TV coverage.\\r\\nAdam Hunger/AP\\r\\nCaitlin Clark won't make her W… [+5032 chars]\"},\n",
       " {'source': {'id': None, 'name': 'Digital Trends'},\n",
       "  'author': 'Dan Girolamo',\n",
       "  'title': 'Washington Wizards vs. Boston Celtics live stream: how to watch the NBA online',\n",
       "  'description': 'Find out how to watch a live stream of the NBA regular season game between the Washington Wizards and the Boston Celtics.',\n",
       "  'url': 'https://www.digitaltrends.com/movies/wizards-vs-celtics-watch-live-stream-nba-free-april-2024/',\n",
       "  'urlToImage': 'https://www.digitaltrends.com/wp-content/uploads/2023/10/Jayson_Tatum_51687926198-e1712948495794.jpg?resize=1200%2C630&p=1',\n",
       "  'publishedAt': '2024-04-14T10:30:13Z',\n",
       "  'content': 'All-Pro Reels / Flickr\\r\\nThere is one game left for every NBA team in the regular season. One of those matchups pits Jordan Poole and the Washington Wizards against Jayson Tatum and the Boston Celtics… [+2589 chars]'},\n",
       " {'source': {'id': None, 'name': 'Digital Trends'},\n",
       "  'author': 'Dan Girolamo',\n",
       "  'title': 'Dallas Mavericks vs. Oklahoma City Thunder live stream: how to watch the NBA online',\n",
       "  'description': 'Find out how to watch a free live stream of the NBA game between the Dallas Mavericks and Oklahoma City Thunder.',\n",
       "  'url': 'https://www.digitaltrends.com/movies/mavericks-vs-thunder-watch-live-stream-nba-free-april-2024/',\n",
       "  'urlToImage': 'https://www.digitaltrends.com/wp-content/uploads/2024/01/Luka-Doncic-Mavericks.jpg?resize=1200%2C630&p=1',\n",
       "  'publishedAt': '2024-04-14T08:30:37Z',\n",
       "  'content': 'Erik Drost / Flickr\\r\\nOne of the more interesting games on the final day of the NBA regular season features Luka Doncic and the Dallas Mavericks taking on Shai Gilgeous-Alexander and the Oklahoma City… [+2675 chars]'},\n",
       " {'source': {'id': None, 'name': 'Digital Trends'},\n",
       "  'author': 'Dan Girolamo',\n",
       "  'title': 'Brooklyn Nets vs. Philadelphia 76ers live stream: how to watch the NBA online',\n",
       "  'description': 'The Brooklyn Nets and Philadelphia 76ers square off in the final game of the NBA regular season. Find out how to watch a live stream of the game.',\n",
       "  'url': 'https://www.digitaltrends.com/movies/nets-vs-76ers-watch-live-stream-nba-free-april-2024/',\n",
       "  'urlToImage': 'https://www.digitaltrends.com/wp-content/uploads/2024/01/Joel_Embiid_51913841402-e1705033495560.jpg?resize=1200%2C630&p=1',\n",
       "  'publishedAt': '2024-04-14T07:30:53Z',\n",
       "  'content': 'All-Pro Reels / Flickr\\r\\nOn the final day of the NBA regular season, Eastern Conference rivals will square up as the Brooklyn Nets head south to take on the Philadelphia 76ers. The game starts at 1 p.… [+2631 chars]'},\n",
       " {'source': {'id': 'le-monde', 'name': 'Le Monde'},\n",
       "  'author': 'Le Monde avec AP',\n",
       "  'title': 'Bronny James, fils de LeBron James, participera à la draft NBA 2024',\n",
       "  'description': 'Le fils ainé du meilleur marqueur de l’histoire de la ligue professionnelle nord-américaine de basket a fait cette annonce, moins d’un an après avoir été victime d’un arrêt cardiaque.',\n",
       "  'url': 'https://www.lemonde.fr/sport/article/2024/04/05/bronny-james-fils-de-lebron-james-participera-a-la-draft-nba-2024_6226216_3242.html',\n",
       "  'urlToImage': 'https://img.lemde.fr/2024/04/05/0/0/2380/1586/1440/960/60/0/de5fa8c_eecaa2707bac4efcab04e10fbca5663a-0-80cd8a2c86df4baa96136f8deffdd16e.jpg',\n",
       "  'publishedAt': '2024-04-05T19:09:44Z',\n",
       "  'content': 'Bronny James, sous le maillot de luniversité de Californie du Sud, lors dun match opposant son équipe à celle de luniversité de Washington, à Las Vegas (Nevada, Etats-Unis), le 13\\xa0mars\\xa02024. JOHN LOC… [+1826 chars]'},\n",
       " {'source': {'id': None, 'name': 'MacRumors'},\n",
       "  'author': 'Juli Clover',\n",
       "  'title': 'Apple Working to Secure Streaming Rights to New FIFA Tournament',\n",
       "  'description': 'Apple is working to secure an exclusive TV deal with soccer governing organization FIFA, reports The New York Times. FIFA is planning a new month-long World Cup-style tournament that will see top teams compete, and Apple wants the TV rights.\\n\\n\\n\\n\\n\\nAn agreement…',\n",
       "  'url': 'https://www.macrumors.com/2024/04/22/apple-fifa-tournament-rights/',\n",
       "  'urlToImage': 'https://images.macrumors.com/t/3oXugAAIUErADRcdlDf4po-r3kU=/1600x/article-new/2024/04/fifa.jpg',\n",
       "  'publishedAt': '2024-04-22T16:58:29Z',\n",
       "  'content': 'Apple is working to secure an exclusive TV deal with soccer governing organization FIFA, reports The New York Times. FIFA is planning a new month-long World Cup-style tournament that will see top tea… [+1312 chars]'},\n",
       " {'source': {'id': None, 'name': 'Android Police'},\n",
       "  'author': 'Brady Snyder',\n",
       "  'title': \"Google's plan to grow Pixel with pop culture ads and sponsorships is working\",\n",
       "  'description': \"The key to overcoming Pixel's late start is putting them everywhere\",\n",
       "  'url': 'https://www.androidpolice.com/google-grows-pixel-sponsorships-ad-placements/',\n",
       "  'urlToImage': 'https://static1.anpoimages.com/wordpress/wp-content/uploads/wm/2024/01/google-pixel-8-pro-mint-6.jpg',\n",
       "  'publishedAt': '2024-04-24T23:01:12Z',\n",
       "  'content': \"It's no secret that Google was starting at a severe disadvantage when it launched the first Pixel smartphones. The original Pixel and Pixel XL were released in 2016. While that's a long time ago now,… [+6370 chars]\"},\n",
       " {'source': {'id': 'le-monde', 'name': 'Le Monde'},\n",
       "  'author': 'Clément Martel',\n",
       "  'title': 'Paris 2024\\xa0: avec Rudy Gobert et Victor Wembanyama, l’équipe de France de basket-ball aura une défense de géants',\n",
       "  'description': 'Les deux joueurs français font partie des trois finalistes pour le trophée de meilleur défenseur de la saison en NBA. Avant de se retrouver sous le maillot bleu, en vue des Jeux olympiques.',\n",
       "  'url': 'https://www.lemonde.fr/sport/article/2024/04/24/paris-2024-avec-rudy-gobert-et-victor-wembanyama-l-equipe-de-france-de-basket-ball-aura-une-defense-de-geants_6229610_3242.html',\n",
       "  'urlToImage': 'https://img.lemde.fr/2024/01/28/0/0/4587/3058/1440/960/60/0/d2b4d70_5468790-01-06.jpg',\n",
       "  'publishedAt': '2024-04-24T09:00:06Z',\n",
       "  'content': 'Les Français Victor Wembanyama (à gauche) et Rudy Gobert, lors dun match à San Antonio (Texas), le 27\\xa0janvier 2024. SUZANNE CORDEIRO / AFP\\r\\nCertains y verront un signe. A Minneapolis, sur les rives d… [+3692 chars]'},\n",
       " {'source': {'id': 'espn', 'name': 'ESPN'},\n",
       "  'author': None,\n",
       "  'title': 'Thunder clinch No. 1 seed; Nuggets grab No. 2',\n",
       "  'description': 'The Thunder clinched the No. 1 seed in the Western Conference with a win Sunday. The Nuggets will be the No. 2 seed, with the Wolves falling to No. 3.',\n",
       "  'url': 'https://www.espn.com/nba/story/_/id/39943953/thunder-clinch-no-1-seed-western-conference-playoffs',\n",
       "  'urlToImage': 'https://a3.espncdn.com/combiner/i?img=%2Fphoto%2F2024%2F0414%2Fr1318955_1024x576_16%2D9.jpg',\n",
       "  'publishedAt': '2024-04-14T22:26:56Z',\n",
       "  'content': 'Apr 14, 2024, 06:17 PM ET\\r\\nOKLAHOMA CITY -- Shai Gilgeous-Alexander scored 15 points in one half of action, and the Oklahoma City Thunder rolled past the Dallas Mavericks 135-86 on Sunday to clinch t… [+1432 chars]'},\n",
       " {'source': {'id': None, 'name': 'Digital Trends'},\n",
       "  'author': 'Tim Keeney',\n",
       "  'title': 'Warriors vs Rockets live stream: Can you watch for free?',\n",
       "  'description': 'The Warriors take on the Rockets in an important NBA contest tonight, and we have a bunch of different ways you can watch a free live stream of the game.',\n",
       "  'url': 'https://www.digitaltrends.com/movies/warriors-vs-rockets-live-stream-april-2024/',\n",
       "  'urlToImage': 'https://www.digitaltrends.com/wp-content/uploads/2024/01/Stephen_Curry_Shooting.jpg?resize=1200%2C630&p=1',\n",
       "  'publishedAt': '2024-04-04T13:00:49Z',\n",
       "  'content': 'In a crucial matchup that will go a long way in determining the final play-in spot in the West, the Golden State Warriors head to the Toyota Center to take on the Houston Rockets tonight.\\r\\nThe game s… [+2201 chars]'},\n",
       " {'source': {'id': 'le-monde', 'name': 'Le Monde'},\n",
       "  'author': 'Le Monde avec AFP',\n",
       "  'title': 'Fin de saison pour Victor Wembanyama, préservé pour le dernier match des Spurs en NBA',\n",
       "  'description': 'La franchise texane a choisi de ne pas aligner le Français, souffrant d’une cheville, face à Detroit, dimanche, en clôture de la saison régulière. «\\xa0Wemby\\xa0» a impressionné pour ses débuts dans la grande ligue de basket, mais son équipe est à la peine à l’Oues…',\n",
       "  'url': 'https://www.lemonde.fr/sport/article/2024/04/14/fin-de-saison-pour-victor-wembanyama-preserve-pour-le-dernier-match-des-spurs-en-nba_6227843_3242.html',\n",
       "  'urlToImage': 'https://img.lemde.fr/2024/04/13/0/1/4360/2907/1440/960/60/0/c4e9935_689727fc2b5543c89868c43b31a6bc88-0-c2d5af321ebb400989c3cc2b79f8cb74.jpg',\n",
       "  'publishedAt': '2024-04-14T08:22:08Z',\n",
       "  'content': 'Victor Wembanyama, lors du match de NBA entre les Spurs et les Nuggets, au Frost Bank Center, le 12\\xa0avril. SCOTT WACHTER / USA TODAY SPORTS VIA REUTERS CON\\r\\nIl aura conclu sa première année NBA par u… [+1385 chars]'},\n",
       " {'source': {'id': 'le-monde', 'name': 'Le Monde'},\n",
       "  'author': 'Théo Quintard',\n",
       "  'title': 'Pour un Victor Wembanyama «\\xa0à 15\\xa0% de ses capacités\\xa0», une première saison NBA très aboutie',\n",
       "  'description': 'Sélectionné en première position de la draft en juin\\xa02023, le Français de 20\\xa0ans n’a pas déçu les attentes pour ses débuts dans la ligue nord-américaine de basket. Même si son équipe, les Spurs de San Antonio, signe encore un exercice décevant.',\n",
       "  'url': 'https://www.lemonde.fr/sport/article/2024/04/15/pour-un-victor-wembanyama-a-15-de-ses-capacites-une-premiere-saison-nba-tres-aboutie_6227981_3242.html',\n",
       "  'urlToImage': 'https://img.lemde.fr/2024/04/13/365/0/4000/2666/1440/960/60/0/84aba78_5181503-01-06.jpg',\n",
       "  'publishedAt': '2024-04-15T10:01:31Z',\n",
       "  'content': 'Victor Wembanyama après la victoire des San Antonio Spurs sur les Denver Nuggets, au Frost Bank Center, le 12 avril 2024. RONALD CORTES / AFP\\r\\nClap de fin pour la saison régulière de NBA, la première… [+2841 chars]'},\n",
       " {'source': {'id': 'le-monde', 'name': 'Le Monde'},\n",
       "  'author': 'Le Monde avec AFP',\n",
       "  'title': 'NBA\\xa0: les Lakers et LeBron James quittent les playoffs dès le premier tour',\n",
       "  'description': 'Le club de Los Angeles a été éliminé au terme du cinquième match de la série, lundi soir, par le champion en titre, les Denver Nuggets. A 39\\xa0ans, LeBron James possède une option à son contrat pour jouer une année supplémentaire avec la mythique franchise cali…',\n",
       "  'url': 'https://www.lemonde.fr/sport/article/2024/04/30/nba-les-lakers-et-lebron-james-quittent-les-playoffs-des-le-premier-tour_6230722_3242.html',\n",
       "  'urlToImage': 'https://img.lemde.fr/2024/04/30/0/0/4461/2974/1440/960/60/0/b22ea2d_4b132068ace047b38b8f2b9ec3a1e898-0-19a3c66a509b40709127bafc1da3d00f.jpg',\n",
       "  'publishedAt': '2024-04-30T04:58:45Z',\n",
       "  'content': 'LeBron James avec les Los Angeles Lakers, face aux Denver Nuggets, le 29\\xa0avril\\xa02024, à Denver (Colorado). DAVID ZALUBOWSKI / AP\\r\\nLeBron James na pas pour habitude de prendre la porte si tôt. Pour la … [+1800 chars]'},\n",
       " {'source': {'id': 'le-monde', 'name': 'Le Monde'},\n",
       "  'author': 'Le Monde avec AFP',\n",
       "  'title': 'NBA\\xa0: Victor Wembanyama vainqueur avec les Spurs, les Cavaliers assurent leur place en playoffs',\n",
       "  'description': 'Dans les autres matchs de vendredi, Joel Embiid a offert aux Philadelphia 76ers une victoire précieuse contre Orlando, synonyme d’espoir de ticket pour les phases finales de la Ligue nord-américaine de basket.',\n",
       "  'url': 'https://www.lemonde.fr/sport/article/2024/04/13/nba-victor-wembanyama-vainqueur-avec-les-spurs-les-cavaliers-assurent-leur-place-en-playoffs_6227624_3242.html',\n",
       "  'urlToImage': 'https://img.lemde.fr/2024/04/13/0/1/4324/2883/1440/960/60/0/46cfe1c_2024-04-13t031804z-1215286848-mt1usatoday23012097-rtrmadp-3-nba-denver-nuggets-at-san-antonio-spurs.JPG',\n",
       "  'publishedAt': '2024-04-13T07:59:40Z',\n",
       "  'content': 'Victor Wembanyama des San Antonio Spurs lors du match de NBA face aux Denver Nuggets, au Frost Bank Center (Texas), le 12 avril. SCOTT WACHTER / USA TODAY SPORTS VIA REUTERS CON\\r\\nUne victoire sur le … [+2774 chars]'},\n",
       " {'source': {'id': 'le-monde', 'name': 'Le Monde'},\n",
       "  'author': 'Grégor Brandy',\n",
       "  'title': 'La NBA touchée par la lame de fond des paris sportifs',\n",
       "  'description': 'Entre\\xa0paris anormaux et invectives dans les salles et sur les réseaux sociaux, la ligue nord-américaine de basket-ball subit les premiers contrecoups de la libéralisation des paris sportifs dans plusieurs Etats.',\n",
       "  'url': 'https://www.lemonde.fr/basket/article/2024/04/08/la-nba-touchee-par-la-lame-de-fond-des-paris-sportifs_6226710_1616663.html',\n",
       "  'urlToImage': 'https://img.lemde.fr/2024/03/14/0/0/2740/1826/1440/960/60/0/c3af72c_2024-03-14t025432z-1519094207-mt1usatoday22766423-rtrmadp-3-nba-toronto-raptors-at-detroit-pistons.JPG',\n",
       "  'publishedAt': '2024-04-08T18:00:14Z',\n",
       "  'content': 'Le joueur de basket Jontay Porter fait face à James Wiseman, lors dun match opposant les Raptors de Toronto aux Pistons de Detroit, le 13\\xa0mars 2024. RICK OSENTOSKI / USA TODAY SPORTS VIA REUTERS CON\\r… [+2810 chars]'},\n",
       " {'source': {'id': 'le-monde', 'name': 'Le Monde'},\n",
       "  'author': 'Le Monde avec AFP',\n",
       "  'title': 'NBA\\xa0: Oklahoma City finit en tête à l’Ouest où les Lakers doivent passer par les barrages',\n",
       "  'description': 'Malgré la jeunesse de son effectif, le Thunder a réussi la prouesse de devancer dans sa conférence le champion en titre, Denver. La légende LeBron James doit en revanche disputer les «\\xa0play-in\\xa0» avec sa franchise de Los Angeles pour rejoindre les séries élimi…',\n",
       "  'url': 'https://www.lemonde.fr/sport/article/2024/04/15/nba-oklahoma-city-finit-en-tete-a-l-ouest-ou-les-lakers-doivent-passer-par-les-barrages_6227894_3242.html',\n",
       "  'urlToImage': 'https://img.lemde.fr/2024/04/14/0/0/5400/3600/1440/960/60/0/33ff7fd_5198434-01-06.jpg',\n",
       "  'publishedAt': '2024-04-15T02:35:38Z',\n",
       "  'content': 'Le joueur du Thunder Shai Gilgeous-Alexander (maillot noir) à la lutte avec Brandon Williams, des Dallas Mavericks, le 14\\xa0avril\\xa02024, à Oklahoma City. JOSHUA GATELEY / AFP\\r\\nLa surprise a tenu jusquau… [+4330 chars]'},\n",
       " {'source': {'id': 'espn', 'name': 'ESPN'},\n",
       "  'author': 'Adrian Wojnarowski',\n",
       "  'title': 'Sources: Mediation set for Wolves sale dispute',\n",
       "  'description': \"The Timberwolves' ownership dispute between majority owner Glen Taylor and the Marc Lore and Alex Rodriguez group will advance to a mediation session on May 1 in Minneapolis, sources told ESPN's Adrian Wojnarowski.\",\n",
       "  'url': 'https://www.espn.com/nba/story/_/id/40003085/wolves-ownership-dispute-set-mediation-1-sources-say',\n",
       "  'urlToImage': 'https://a1.espncdn.com/combiner/i?img=%2Fphoto%2F2024%2F0328%2Fr1311130_1296x729_16%2D9.jpg',\n",
       "  'publishedAt': '2024-04-23T02:56:35Z',\n",
       "  'content': \"The Minnesota Timberwolves' ownership dispute between majority owner Glen Taylor and the Marc Lore and Alex Rodriguez group will advance to a mediation session on May 1 in Minneapolis, sources told E… [+2646 chars]\"},\n",
       " {'source': {'id': 'espn', 'name': 'ESPN'},\n",
       "  'author': None,\n",
       "  'title': 'Calipari hired by Arkansas, signs 5-year contract',\n",
       "  'description': \"Arkansas has officially hired John Calipari as its men's basketball coach.\",\n",
       "  'url': 'https://www.espn.com/mens-college-basketball/story/_/id/39913931/john-calipari-officially-hired-arkansas-men-basketball-coach',\n",
       "  'urlToImage': 'https://a2.espncdn.com/combiner/i?img=%2Fphoto%2F2024%2F0118%2Fr1278899_1296x729_16%2D9.jpg',\n",
       "  'publishedAt': '2024-04-10T14:53:17Z',\n",
       "  'content': 'Apr 10, 2024, 10:35 AM ET\\r\\nJohn Calipari is officially the new head coach of Arkansas Razorbacks\\' men\\'s basketball program, the university announced Wednesday morning.\\r\\n\"By all accounts, John Calipar… [+3801 chars]'},\n",
       " {'source': {'id': 'espn', 'name': 'ESPN'},\n",
       "  'author': 'NBA Insiders',\n",
       "  'title': 'Lakers-Warriors play-in preview? What to make of this epic final matchup',\n",
       "  'description': \"X-factors? Playoff ceilings? Here's everything we learned from Lakers-Warriors 1.0 -- with 2.0 potentially just days away.\",\n",
       "  'url': 'https://www.espn.com/nba/story/_/id/39910822/four-takeaways-tuesday-lakers-warriors-game',\n",
       "  'urlToImage': 'https://a3.espncdn.com/combiner/i?img=%2Fphoto%2F2024%2F0410%2Fr1316770_1296x729_16%2D9.jpg',\n",
       "  'publishedAt': '2024-04-10T05:21:31Z',\n",
       "  'content': 'Apr 10, 2024, 01:03 AM ET\\r\\nA potential Western Conference play-in tournament preview unfolded Tuesday night as the Golden State Warriors traveled to Crypto.com Arena to take on the Los Angeles Lakers… [+9635 chars]'},\n",
       " {'source': {'id': None, 'name': 'Digital Trends'},\n",
       "  'author': 'Dan Girolamo',\n",
       "  'title': 'Chicago Bulls vs. New York Knicks live stream: how to watch the NBA online',\n",
       "  'description': 'The Chicago Bulls head to Madison Square Garden to play the New York Knicks. Find out how to watch a live stream of the game.',\n",
       "  'url': 'https://www.digitaltrends.com/movies/bulls-vs-knicks-watch-live-stream-nba-free-april-2024/',\n",
       "  'urlToImage': 'https://www.digitaltrends.com/wp-content/uploads/2024/02/Jalen-Brunson-New-York-Knicks.jpg?resize=1200%2C630&p=1',\n",
       "  'publishedAt': '2024-04-14T09:30:51Z',\n",
       "  'content': 'All-Pro Reels / All-Pro Reels\\r\\nThe Chicago Bulls head to the “World’s Most Famous Arena” to take on the New York Knicks on the final day of the regular season. The action begins at 1 p.m. ET/10 a.m. … [+2757 chars]'},\n",
       " {'source': {'id': 'le-monde', 'name': 'Le Monde'},\n",
       "  'author': 'Service Sports',\n",
       "  'title': 'Paris 2024\\xa0: de LeBron James à Stephen Curry, une constellation de chercheurs d’or mobilisée par Team USA au basket',\n",
       "  'description': 'Composée de stars expérimentées, l’équipe américaine masculine appelée à disputer les Jeux olympiques de Paris a été annoncée, mercredi. Avec l’or comme unique objectif.',\n",
       "  'url': 'https://www.lemonde.fr/sport/article/2024/04/17/paris-2024-de-lebron-james-a-stephen-curry-une-constellation-de-chercheurs-d-or-mobilisee-par-team-usa-au-basket_6228383_3242.html',\n",
       "  'urlToImage': 'https://img.lemde.fr/2024/04/17/0/3/2994/1996/1440/960/60/0/611762e_1713363824547-063-148452209.jpg',\n",
       "  'publishedAt': '2024-04-17T16:11:43Z',\n",
       "  'content': 'LeBron James et léquipe américaine de basket, en amont des Jeux olympiques de Londres, le 16\\xa0juillet 2012\\xa0à Washington. PATRICK SMITH / GETTY IMAGES VIA AFP\\r\\nCeci nest pas la Dream Team (équipe de rê… [+4120 chars]'},\n",
       " {'source': {'id': None, 'name': 'NPR'},\n",
       "  'author': 'Becky Sullivan',\n",
       "  'title': \"Ticket prices for the women's Final Four games rival the men's\",\n",
       "  'description': \"Call it the Caitlin Clark effect: The average sales price for a ticket to the women's college basketball semifinal was nearly double that of the men's event, the ticketing company Logitix reported.\",\n",
       "  'url': 'https://www.npr.org/2024/04/05/1243082266/final-four-womens-mens-ticket-prices',\n",
       "  'urlToImage': 'https://media.npr.org/assets/img/2024/04/05/gettyimages-2138639817_wide-fd45e89f09496c324731ba1c2ccb84d2dcc42b1f-s1400-c100.jpg',\n",
       "  'publishedAt': '2024-04-05T21:27:49Z',\n",
       "  'content': \"The price of a seat to watch the Final Four of the women's NCAA Tournament has rivaled the cost of attending the men's event.\\r\\nSteph Chambers/Getty Images\\r\\nThose hoping to see Caitlin Clark win a nat… [+3827 chars]\"},\n",
       " {'source': {'id': None, 'name': 'NPR'},\n",
       "  'author': 'Russell Lewis',\n",
       "  'title': \"Candace Parker, 3-time WNBA and 2-time Olympic champion, says 'it's time' to retire\",\n",
       "  'description': 'After 16 seasons, two Olympic gold medals and three WNBA championships, Candace Parker announced her retirement from professional basketball on Sunday.',\n",
       "  'url': 'https://www.npr.org/2024/04/28/1247721414/candace-parker-wnba-retires-basketball',\n",
       "  'urlToImage': 'https://media.npr.org/assets/img/2024/04/28/gettyimages-1510385360_wide-dd001837ba4f2212ff67def85d2f4bc092fd833a-s1400-c100.jpg',\n",
       "  'publishedAt': '2024-04-28T20:41:11Z',\n",
       "  'content': 'Candace Parker #3 of the Las Vegas Aces is pictured at Michelob Ultra Arena on July 1, 2023 in Las Vegas. Parker announced her retirement on Sunday.\\r\\nEthan Miller/Getty Images\\r\\nCandace Parker a three… [+2245 chars]'},\n",
       " {'source': {'id': 'business-insider', 'name': 'Business Insider'},\n",
       "  'author': 'Shubhangi Goel',\n",
       "  'title': 'Jefferies CEO sold $65 million in stock to buy a yacht from a client',\n",
       "  'description': \"He's buying  a Westport 164 from his friend and Jefferies client Tilman Fertitta.\",\n",
       "  'url': 'https://www.businessinsider.com/jefferies-ceo-sold-millions-shares-stock-bought-new-yacht-fertitta-2024-4',\n",
       "  'urlToImage': 'https://i.insider.com/6629da5110dfcda409631e88?width=1200&format=jpeg',\n",
       "  'publishedAt': '2024-04-25T06:18:45Z',\n",
       "  'content': \"CEO of Jefferies Rich Handler (left) and CEO of Mastro's Restaurants Tilman Fertitta (right) attend the Mastro's Steakhouse Grand Opening Celebration on November 11, 2014 in New York City.Rob Kim/Get… [+1955 chars]\"},\n",
       " {'source': {'id': None, 'name': '9to5Mac'},\n",
       "  'author': 'Chance Miller',\n",
       "  'title': 'Apple nearing billion-dollar streaming TV deal with FIFA; still in the running for NBA rights',\n",
       "  'description': 'Apple is doubling down on soccer as an integral part of its sports strategy for Apple TV. According to a new report from The New York Times, FIFA is nearing a deal with Apple for the worldwide television rights to a new World Cup-style tournament being played…',\n",
       "  'url': 'https://9to5mac.com/2024/04/22/apple-tv-sports-deals-fifa-nba/',\n",
       "  'urlToImage': 'https://i0.wp.com/9to5mac.com/wp-content/uploads/sites/6/2022/10/apple-tv-plus-movies-header.jpg?resize=1200%2C628&quality=82&strip=all&ssl=1',\n",
       "  'publishedAt': '2024-04-22T16:29:17Z',\n",
       "  'content': 'Apple is doubling down on soccer as an integral part of its sports strategy for Apple TV. According to a new report from The New York Times, FIFA is nearing a deal with Apple for the worldwide televi… [+2319 chars]'},\n",
       " {'source': {'id': None, 'name': 'Digital Trends'},\n",
       "  'author': 'Tim Keeney',\n",
       "  'title': 'Purdue vs UConn live stream: Watch the NCAA Championship for free',\n",
       "  'description': \"It's time for the NCAA Men's Basketball National Championship. Here's how to watch Purdue and UConn, two 1-seed teams, face off in the final game.\",\n",
       "  'url': 'https://www.digitaltrends.com/movies/watch-purdue-vs-uconn-live-stream-april-2024/',\n",
       "  'urlToImage': 'https://www.digitaltrends.com/wp-content/uploads/2024/03/NCAA-Basketball-Lead-Image.png?resize=1200%2C630&p=1',\n",
       "  'publishedAt': '2024-04-08T16:18:05Z',\n",
       "  'content': 'It’s time for the NCAA Men’s Basketball National Championship. Here’s how to watch Purdue and UConn, two 1-seed teams, face off in the final game.\\r\\nThe game starts at 9:20 p.m. ET today, Monday, Apri… [+2902 chars]'},\n",
       " {'source': {'id': 'espn', 'name': 'ESPN'},\n",
       "  'author': 'Shwetha Surendran',\n",
       "  'title': 'Could your favorite athlete be liable for damages tied to crypto?',\n",
       "  'description': 'Several civil lawsuits targeting prominent athletes following their promotion of crypto companies will likely take months or years more to unwind.',\n",
       "  'url': 'https://www.espn.com/espn/story/_/id/39865981/crypto-lawsuits-targeting-athletes-tom-brady-cristiano-ronaldo',\n",
       "  'urlToImage': 'https://a.espncdn.com/combiner/i?img=%2Fphoto%2F2024%2F0403%2Fespn_crypto_lawsuit_burn_16x9.jpg',\n",
       "  'publishedAt': '2024-04-05T12:05:42Z',\n",
       "  'content': \"The 25-year sentence for FTX founder Sam Bankman-Fried last week ended one criminal chapter in the implosion of one of the world's biggest cryptocurrency exchanges. But several civil lawsuits -- incl… [+14848 chars]\"},\n",
       " {'source': {'id': None, 'name': 'HYPEBEAST'},\n",
       "  'author': 'info@hypebeast.com (Hypebeast)',\n",
       "  'title': 'Bronny James To Enter 2024 NBA Draft',\n",
       "  'description': 'Bronny James, the eldest child of LeBron James, officially announced his decision to enter the 2024 NBA draft.The 19-year-old, who played college ball for the University of Southern California (USC) Trojans, revealed on social media that he will also maintain…',\n",
       "  'url': 'https://hypebeast.com/2024/4/bronny-james-to-enter-2024-nba-draft',\n",
       "  'urlToImage': 'https://image-cdn.hypb.st/https%3A%2F%2Fhypebeast.com%2Fimage%2F2024%2F04%2F06%2Ftw-bronny-james-to-enter-2024-nba-draft.jpg?w=1080&cbr=1&q=90&fit=max',\n",
       "  'publishedAt': '2024-04-07T03:57:57Z',\n",
       "  'content': 'Bronny James, the eldest child of LeBron James, officially announced his decision to enter the 2024 NBA draft.\\r\\nThe 19-year-old, who played college ball for the University of Southern California (USC… [+955 chars]'},\n",
       " {'source': {'id': None, 'name': 'Rolling Stone'},\n",
       "  'author': 'Sage Anderson',\n",
       "  'title': 'NBA Livestream: How to Watch the 2023-24 Basketball Season Online',\n",
       "  'description': \"Here's how to live stream NBA games online during the 2023-24 NBA season, plus how to watch NBA live streams for free online.\",\n",
       "  'url': 'http://www.rollingstone.com/trending/search/watch-nba-online-live-stream-2-1235003823/',\n",
       "  'urlToImage': 'https://www.rollingstone.com/wp-content/uploads/2024/04/GettyImages-1749225381_3c5ddc.webp?w=1024&h=682&crop=1',\n",
       "  'publishedAt': '2024-04-12T21:01:18Z',\n",
       "  'content': 'If you purchase an independently reviewed product or service through a link on our website, Rolling Stone may receive an affiliate commission.\\r\\nQuick Answer: Our favorite live TV streaming service fo… [+2893 chars]'},\n",
       " {'source': {'id': 'espn', 'name': 'ESPN'},\n",
       "  'author': 'Andrew Lopez',\n",
       "  'title': \"Spurs' win leaves 3 teams tied for West's top seed\",\n",
       "  'description': 'The West got a little wilder Friday night with the Spurs beating the Nuggets.',\n",
       "  'url': 'https://www.espn.com/nba/story/_/id/39931949/spurs-win-thunder-wolves-nuggets-3-way-tie-atop-west',\n",
       "  'urlToImage': 'https://a2.espncdn.com/combiner/i?img=%2Fphoto%2F2024%2F0413%2Fr1318206_1296x729_16%2D9.jpg',\n",
       "  'publishedAt': '2024-04-13T06:07:57Z',\n",
       "  'content': \"SAN ANTONIO -- The West got a little wilder on Friday night.\\r\\nWith the Denver Nuggets' 121-120 loss to the San Antonio Spurs, coupled with wins by the Oklahoma City Thunder and Minnesota Timberwolves… [+6670 chars]\"},\n",
       " {'source': {'id': 'le-monde', 'name': 'Le Monde'},\n",
       "  'author': 'Clément Martel',\n",
       "  'title': 'Rudy Gobert, basketteur\\xa0: «\\xa0Devenir champion olympique à Paris, c’est l’opportunité d’une vie\\xa0»',\n",
       "  'description': '«\\xa0Dessein olympique\\xa0». «\\xa0Le Monde\\xa0» a rencontré le pivot de l’équipe de France de basket et des Minnesota Timberwolves chez\\xa0lui, à Minneapolis. Il se confie sur ses ambitions pour les Jeux olympiques et son envie d’être porte-drapeau de la délégation tricolor…',\n",
       "  'url': 'https://www.lemonde.fr/sport/article/2024/04/23/rudy-gobert-basketteur-devenir-champion-olympique-a-paris-c-est-l-opportunite-d-une-vie_6229469_3242.html',\n",
       "  'urlToImage': 'https://img.lemde.fr/2024/04/22/0/0/4134/2756/1440/960/60/0/024e86a_1713796948943-lemonde-rudy-portrait-final-copie.jpg',\n",
       "  'publishedAt': '2024-04-23T17:30:06Z',\n",
       "  'content': 'Le basketteur français Rudy Gobert, à Minneapolis (Minnesota). JOHN VOGL\\r\\nLe van noir aux vitres teintées file dans la plaine, laissant rapidement dans le rétroviseur la verticalité des tours du cent… [+2630 chars]'},\n",
       " {'source': {'id': None, 'name': 'ReadWrite'},\n",
       "  'author': 'Brian-Damien Morgan',\n",
       "  'title': 'Sportradar extends partnership with China’s basketball league CBA',\n",
       "  'description': 'The Chinese Men’s Professional Basketball League (CBA) has announced an extension to its media partnership with Sportradar. The continuation of… Continue reading Sportradar extends partnership with China’s basketball league CBA\\nThe post Sportradar extends par…',\n",
       "  'url': 'https://readwrite.com/sportradar-extends-partnership-with-chinese-mens-professional-basketball-league/',\n",
       "  'urlToImage': 'https://readwrite.com/wp-content/uploads/2024/04/Sportradar.jpg',\n",
       "  'publishedAt': '2024-04-12T10:15:26Z',\n",
       "  'content': 'The Chinese Mens Professional Basketball League (CBA) has announced an extension to its media partnership with Sportradar.\\r\\nThe continuation of the strategic partnership aims to strengthen the integr… [+2376 chars]'},\n",
       " {'source': {'id': None, 'name': 'ReadWrite'},\n",
       "  'author': 'Ali Rees',\n",
       "  'title': 'Take-Two victorious in lawsuit with LeBron James’ tattoo artist',\n",
       "  'description': 'Take-Two Interactive has won a lawsuit brought against them by tattoo artist Jimmy Hayden. Hayden claimed that Take-Two infringed on… Continue reading Take-Two victorious in lawsuit with LeBron James’ tattoo artist\\nThe post Take-Two victorious in lawsuit with…',\n",
       "  'url': 'https://readwrite.com/take-two-victorious-in-tattoo-lawsuit/',\n",
       "  'urlToImage': 'https://readwrite.com/wp-content/uploads/2024/04/download-70.jpeg',\n",
       "  'publishedAt': '2024-04-22T14:55:58Z',\n",
       "  'content': 'Take-Two Interactive has won a lawsuit brought against them by tattoo artist Jimmy Hayden. Hayden claimed that Take-Two infringed on his copyright when they recreated basketball legend LeBron James, … [+2037 chars]'},\n",
       " {'source': {'id': None, 'name': 'HYPEBEAST'},\n",
       "  'author': 'info@hypebeast.com (Hypebeast)',\n",
       "  'title': 'NBA Bans Raptors’ Jontay Porter for Gambling on Games',\n",
       "  'description': 'The NBA has banned Toronto Raptors’ Jontay Porter for violating the league’s gambling policy and limiting his own gameplay to influence bet outcomes.An investigation was launched in late March after officials noticed strange patterns of proposition bets on Po…',\n",
       "  'url': 'https://hypebeast.com/2024/4/nba-toronto-raptors-jontay-porter-ban-gambling-violation',\n",
       "  'urlToImage': 'https://image-cdn.hypb.st/https%3A%2F%2Fhypebeast.com%2Fimage%2F2024%2F04%2F17%2Fjontay-porter-nba-bet-lifetime-ban-tw.jpg?w=1080&cbr=1&q=90&fit=max',\n",
       "  'publishedAt': '2024-04-17T20:37:28Z',\n",
       "  'content': 'The NBA has banned Toronto Raptors Jontay Porter for violating the leagues gambling policy and limiting his own gameplay to influence bet outcomes.\\r\\nAn investigation was launched in late March after … [+1321 chars]'},\n",
       " {'source': {'id': 'espn', 'name': 'ESPN'},\n",
       "  'author': 'Pete Thamel',\n",
       "  'title': \"UConn's Donovan Clingan and a journey of dominance marked by tragedy\",\n",
       "  'description': \"UConn's Donovan Clingan is a larger-than-life 7-foot-2 post menace. His journey is shaped and fueled by tragedy, including the death of his mother six years ago.\",\n",
       "  'url': 'https://www.espn.com/mens-college-basketball/story/_/id/39852638/2024-final-four-uconn-donovan-clingan-journey-dominance-marked-tragedy',\n",
       "  'urlToImage': 'https://a1.espncdn.com/combiner/i?img=%2Fphoto%2F2024%2F0404%2Fr1314196_1296x729_16%2D9.jpg',\n",
       "  'publishedAt': '2024-04-04T22:05:51Z',\n",
       "  'content': \"BOSTON -- IF THERE'S anyone qualified to recognize a lack of patience, it's UConn walk-on Andrew Hurley. He's the son of coach Danny Hurley and the grandson of Hall of Fame coach Bob Hurley, which gi… [+14450 chars]\"},\n",
       " {'source': {'id': None, 'name': 'Yahoo Entertainment'},\n",
       "  'author': None,\n",
       "  'title': \"NBA legend John Stockton details reasons for his medical 'beliefs' in court filing\",\n",
       "  'description': None,\n",
       "  'url': 'https://consent.yahoo.com/v2/collectConsent?sessionId=1_cc-session_c2b09eb8-740d-4e85-9ae8-2f3a663ea3ba',\n",
       "  'urlToImage': None,\n",
       "  'publishedAt': '2024-04-10T14:37:01Z',\n",
       "  'content': \"If you click 'Accept all', we and our partners (including 239 who are part of the IAB Transparency &amp; Consent Framework) will also store and/or access information on a device (in other words, use … [+678 chars]\"},\n",
       " {'source': {'id': 'espn', 'name': 'ESPN'},\n",
       "  'author': 'ESPN Staff',\n",
       "  'title': 'Devin Booker cashes in on halftime buzzer-beater',\n",
       "  'description': \"Devin Booker's fadeaway buzzer-beater gives the Phoenix Suns a much-needed boost in Game 4.\",\n",
       "  'url': 'https://www.espn.com/nba/story/_/id/40047559/devin-booker-phoenix-suns-minnesota-timberwolves-nba-2024-playoffs',\n",
       "  'urlToImage': 'https://a3.espncdn.com/combiner/i?img=%2Fphoto%2F2024%2F0429%2Fr1326053_1296x729_16%2D9.jpg',\n",
       "  'publishedAt': '2024-04-29T03:35:03Z',\n",
       "  'content': \"The Phoenix Suns have some momentum heading into the second half in Game 4 with a 61-56 lead over the Minnesota Timberwolves.\\r\\nEditor's Picks\\r\\nWith the second quarter winding down, the Suns forced a … [+787 chars]\"},\n",
       " {'source': {'id': 'espn', 'name': 'ESPN'},\n",
       "  'author': 'Dave McMenamin',\n",
       "  'title': \"'Error' led to extra time in Lakers win vs. Grizz\",\n",
       "  'description': \"More than a minute of extra game time was incorrectly added to the clock in the third quarter of the Lakers' 123-120 win over the Grizzlies on Friday.\",\n",
       "  'url': 'https://www.espn.com/nba/story/_/id/39937307/error-led-extra-clock-lakers-win-vs-grizzlies',\n",
       "  'urlToImage': 'https://a.espncdn.com/combiner/i?img=%2Fphoto%2F2024%2F0414%2Fr1318547_1024x576_16%2D9.jpg',\n",
       "  'publishedAt': '2024-04-14T02:36:26Z',\n",
       "  'content': \"NEW ORLEANS -- More than a minute of extra game time was added to the clock in the third quarter of the Los Angeles Lakers' 123-120 win over the Memphis Grizzlies on Friday, an NBA spokesperson confi… [+3522 chars]\"},\n",
       " {'source': {'id': 'espn', 'name': 'ESPN'},\n",
       "  'author': None,\n",
       "  'title': \"Murray's buzzer-beater caps 20-point Denver rally\",\n",
       "  'description': 'Jamal Murray sank a 15-foot step-back jumper at the buzzer and the Nuggets wiped out a 20-point second-half deficit to stun the Lakers 101-99 Monday night and take a 2-0 lead in their Western Conference playoff series.',\n",
       "  'url': 'https://www.espn.com/nba/story/_/id/40004320/jamal-murray-buzzer-beater-caps-nuggets-20-point-comeback-vs-lakers',\n",
       "  'urlToImage': 'https://a3.espncdn.com/combiner/i?img=%2Fphoto%2F2024%2F0423%2Fr1323142_1296x729_16%2D9.jpg',\n",
       "  'publishedAt': '2024-04-23T05:26:09Z',\n",
       "  'content': 'Apr 23, 2024, 01:21 AM ET\\r\\nDENVER -- Jamal Murray sank a 15-foot step-back jumper at the buzzer and the Denver Nuggets wiped out a 20-point second-half deficit to stun the Los Angeles Lakers 101-99 M… [+3021 chars]'},\n",
       " {'source': {'id': 'bleacher-report', 'name': 'Bleacher Report'},\n",
       "  'author': 'Andrew Peters',\n",
       "  'title': 'Shams: Bronny James Viewed as NBA-Caliber Defender by Teams Amid Draft Decision',\n",
       "  'description': 'After one season at USC, Bronny James reportedly has NBA teams already viewing him as an NBA-caliber defender, per Shams Charania of The Athletic and Stadium.…',\n",
       "  'url': 'https://bleacherreport.com/articles/10116030-shams-bronny-james-viewed-as-nba-caliber-defender-by-teams-amid-draft-decision',\n",
       "  'urlToImage': 'https://media.bleacherreport.com/image/upload/c_fill,g_faces,w_3800,h_2000,q_95/v1712601295/wx8vnckbzsphch0wexhg.jpg',\n",
       "  'publishedAt': '2024-04-08T18:46:22Z',\n",
       "  'content': 'David Becker/Getty Images\\r\\nAfter one season at USC, Bronny James reportedly has NBA teams already viewing him as an NBA-caliber defender, per Shams Charania of The Athletic and Stadium.\\r\\n\"When I talk… [+1874 chars]'},\n",
       " {'source': {'id': 'le-monde', 'name': 'Le Monde'},\n",
       "  'author': 'Clément Martel',\n",
       "  'title': 'La fin de parcours des Warriors de\\xa0Stephen Curry, sonne-t-elle le glas de\\xa0la\\xa0dynastie Golden State en\\xa0NBA\\xa0?',\n",
       "  'description': 'Championne à quatre reprises (2015, 2017, 2018\\xa0et 2022), la franchise californienne a été éliminée, mardi, par les Sacramento Kings (118-94), lors des barrages d’accession aux playoffs.',\n",
       "  'url': 'https://www.lemonde.fr/sport/article/2024/04/17/la-fin-de-parcours-des-warriors-de-stephen-curry-sonne-t-elle-la-fin-de-la-dynastie-golden-state-en-nba_6228318_3242.html',\n",
       "  'urlToImage': 'https://img.lemde.fr/2024/04/17/0/0/7440/4960/1440/960/60/0/aa938bf_5c062da1689d455da106540a8b50bc3b-1-cc984cacffdd4d4883896622ff06cda4.jpg',\n",
       "  'publishedAt': '2024-04-17T09:43:07Z',\n",
       "  'content': 'Le meneur des Golden State Warriors, Stephen Curry, lors de lélimination de son équipe face aux Sacramento Kings, le 16\\xa0avril 2024\\xa0à Sacramento (Californie). GODOFREDO A. VASQUEZ / AP\\r\\nPlus que tout … [+4962 chars]'},\n",
       " {'source': {'id': 'bleacher-report', 'name': 'Bleacher Report'},\n",
       "  'author': 'Jason Dunbar',\n",
       "  'title': 'NBA Playoff Bandwagon Power Rankings',\n",
       "  'description': \"Players aren't the only ones who get to be free agents. Sometimes, fans have the right to switch allegiances too. It's why bandwagons exist. Perhaps you're a…\",\n",
       "  'url': 'https://bleacherreport.com/articles/10117273-nba-playoff-bandwagon-power-rankings',\n",
       "  'urlToImage': 'https://media.bleacherreport.com/image/upload/x_227,y_53,w_1332,h_885,c_crop/c_fill,g_faces,w_3800,h_2000,q_95/v1713383843/wvukg3run79ajxsol7js.jpg',\n",
       "  'publishedAt': '2024-04-21T11:00:00Z',\n",
       "  'content': \"Tyrese HaliburtonPepper Robinson/NBAE via Getty Images\\r\\nVoting Total: 102 (one first-place vote)\\r\\nWhy You Should Hop on the Bandwagon\\r\\nTyrese Haliburton's got moxie oozing from his pores. Who can for… [+2845 chars]\"},\n",
       " {'source': {'id': None, 'name': 'Hipertextual'},\n",
       "  'author': 'Gabriel Erard',\n",
       "  'title': 'Apple negociaría con la FIFA para transmitir el Mundial de Clubes 2025 en Apple TV+',\n",
       "  'description': 'Apple podría estar a punto de sumar otro evento deportivo de primerísimo nivel al catálogo de Apple TV+. Según reporta The New York Times, los de Cupertino están negociando con la FIFA para transmitir el Mundial de Clubes 2025, que se llevará a cabo en Estado…',\n",
       "  'url': 'http://hipertextual.com/2024/04/el-mundial-de-clubes-2025-podria-llegar-a-apple-tv',\n",
       "  'urlToImage': 'https://i0.wp.com/imgs.hipertextual.com/wp-content/uploads/2024/04/fancy-crave-qowyMze7jqg-unsplash-scaled.jpg?fit=2560%2C1440&quality=55&strip=all&ssl=1',\n",
       "  'publishedAt': '2024-04-22T19:00:00Z',\n",
       "  'content': 'Apple podría estar a punto de sumar otro evento deportivo de primerísimo nivel al catálogo de Apple TV+. Según reporta The New York Times, los de Cupertino están negociando con la FIFA para transmiti… [+4560 chars]'},\n",
       " {'source': {'id': None, 'name': 'GameSpot'},\n",
       "  'author': 'George Yang',\n",
       "  'title': \"Take-Two Wins NBA 2K Lawsuit Involving LeBron James' Tattoos\",\n",
       "  'description': \"Take-Two Interactive has won a case regarding its depiction of LeBron James' tattoos in NBA 2K. While James himself was not involved in the case, his tattoo artist, Jimmy Hayden, was.Hayden sued Take-Two by alleging that the use of James' tattoos in NBA 2K vi…\",\n",
       "  'url': 'https://www.gamespot.com/articles/take-two-wins-nba-2k-lawsuit-involving-lebron-james-tattoos/1100-6522878/',\n",
       "  'urlToImage': 'https://www.gamespot.com/a/uploads/screen_kubrick/1646/16465123/4292399-image_2024-04-23_144529551cropped.jpg',\n",
       "  'publishedAt': '2024-04-23T19:20:00Z',\n",
       "  'content': \"Take-Two Interactive has won a case regarding its depiction of LeBron James' tattoos in NBA 2K. While James himself was not involved in the case, his tattoo artist, Jimmy Hayden, was.\\r\\nHayden sued Ta… [+1144 chars]\"},\n",
       " {'source': {'id': 'bleacher-report', 'name': 'Bleacher Report'},\n",
       "  'author': 'Timothy Rapp',\n",
       "  'title': \"NBA Insider: Suns' Bradley Beal Has 'Probably the Most Toxic Contract in NBA History'\",\n",
       "  'description': 'Bradley Beal has two seasons and $103.8 million remaining on his current contract along with a player option for the 2026-27 season worth $57.1 million, which…',\n",
       "  'url': 'https://bleacherreport.com/articles/10119127-nba-insider-suns-bradley-beal-has-probably-the-most-toxic-contract-in-nba-history',\n",
       "  'urlToImage': 'https://media.bleacherreport.com/image/upload/x_0,y_143,w_1800,h_1200,c_crop/c_fill,g_faces,w_3800,h_2000,q_95/v1714415782/rzpfx3qisd2y0teddq1q.jpg',\n",
       "  'publishedAt': '2024-04-29T18:38:44Z',\n",
       "  'content': 'Barry Gossage/NBAE via Getty Images\\r\\nBradley Beal has two seasons and $103.8 million remaining on his current contract along with a player option for the 2026-27 season worth $57.1 million, which he … [+1883 chars]'},\n",
       " {'source': {'id': None, 'name': 'HYPEBEAST'},\n",
       "  'author': 'info@hypebeast.com (Hypebeast)',\n",
       "  'title': \"London's NBA Store Moves to Oxford Street Location\",\n",
       "  'description': 'NBA stores have become a staple worldwide, providing basketball fans with exclusive merchandise to support their favorite teams. Its renowned London location has recently changed, announcing the opening of a larger and grander storefront on Oxford Street. Pre…',\n",
       "  'url': 'https://hypebeast.com/2024/4/nba-store-london-oxford-street-opening-info',\n",
       "  'urlToImage': 'https://image-cdn.hypb.st/https%3A%2F%2Fhypebeast.com%2Fimage%2F2024%2F04%2F18%2Fnba-store-london-oxford-street-opening-info-tw.jpg?w=1080&cbr=1&q=90&fit=max',\n",
       "  'publishedAt': '2024-04-18T10:30:28Z',\n",
       "  'content': 'NBA stores have become a staple worldwide, providing basketball fans with exclusive merchandise to support their favorite teams. Its renowned London location has recently changed, announcing the open… [+790 chars]'},\n",
       " {'source': {'id': 'bleacher-report', 'name': 'Bleacher Report'},\n",
       "  'author': 'Doric Sam',\n",
       "  'title': \"NBA Rumors: ESPN's JJ Redick to Interview for Hornets' HC Job; Played 15 NBA Seasons\",\n",
       "  'description': 'The Charlotte Hornets are reportedly eyeing an interesting candidate in their search for a new head coach. According to Shams Charania of The Athletic and…',\n",
       "  'url': 'https://bleacherreport.com/articles/10118052-nba-rumors-espns-jj-redick-to-interview-for-hornets-hc-job-played-15-nba-seasons',\n",
       "  'urlToImage': 'https://media.bleacherreport.com/image/upload/c_fill,g_faces,w_3800,h_2000,q_95/v1713827268/u97g5aowl7xofiptlmtp.jpg',\n",
       "  'publishedAt': '2024-04-22T23:14:06Z',\n",
       "  'content': 'Evan Yu/NBAE via Getty Images\\r\\nThe Charlotte Hornets are reportedly eyeing an interesting candidate in their search for a new head coach.\\r\\nAccording to Shams Charania of The Athletic and Stadium, the… [+367 chars]'},\n",
       " {'source': {'id': 'bleacher-report', 'name': 'Bleacher Report'},\n",
       "  'author': 'Joseph Zucker',\n",
       "  'title': \"NBA Trade Rumors: Bucks' Giannis Discussed by Teams with Stockpile of NBA Draft Picks\",\n",
       "  'description': \"The Milwaukee Bucks haven't yet been eliminated from the 2024 NBA playoffs, but the sharks might already be starting to circle. ESPN's Tim MacMahon reported…\",\n",
       "  'url': 'https://bleacherreport.com/articles/10119082-nba-trade-rumors-bucks-giannis-discussed-by-teams-with-stockpile-of-nba-draft-picks',\n",
       "  'urlToImage': 'https://media.bleacherreport.com/image/upload/x_11,y_27,w_1748,h_1164,c_crop/c_fill,g_faces,w_3800,h_2000,q_95/v1714398597/ao3ecq1podayerik577r.jpg',\n",
       "  'publishedAt': '2024-04-29T16:23:02Z',\n",
       "  'content': \"John Fisher/Getty Images\\r\\nThe Milwaukee Bucks haven't yet been eliminated from the 2024 NBA playoffs, but the sharks might already be starting to circle.\\r\\nESPN's Tim MacMahon reported on Brian Windho… [+1897 chars]\"},\n",
       " {'source': {'id': None, 'name': 'Digital Trends'},\n",
       "  'author': 'Tim Keeney',\n",
       "  'title': 'NHL playoffs live stream 2024: Watch every game',\n",
       "  'description': \"The 2024 NHL Playoffs have arrived, and we've put together a complete guide on all the different ways you can watch a live stream of every game.\",\n",
       "  'url': 'https://www.digitaltrends.com/movies/nhl-playoffs-live-stream-2024/',\n",
       "  'urlToImage': 'https://www.digitaltrends.com/wp-content/uploads/2023/06/FLA_Live_Arena_before_a_Florida_Panthers_playoff_game.jpg?resize=1200%2C630&p=1',\n",
       "  'publishedAt': '2024-04-19T21:33:53Z',\n",
       "  'content': 'The 2024 NHL Stanley Cup Playoffs have officially arrived. The Carolina Hurricanes are the oddsmakers’ favorites to lift the trophy this year, but their recent postseason struggles combined with the … [+3450 chars]'},\n",
       " {'source': {'id': None, 'name': 'HYPEBEAST'},\n",
       "  'author': 'info@hypebeast.com (Hypebeast)',\n",
       "  'title': 'WIND AND SEA x NBA Ball Out in New Collection',\n",
       "  'description': 'Ahead of the NBA playoffs, WIND AND SEA has given its cosign to six teams. The Japanese streetwear outfitter teamed up with the NBA for the fifth time to deliver an extensive collection in tribute to six teams: the Boston Celtics, the Philadelphia 76ers, the …',\n",
       "  'url': 'https://hypebeast.com/2024/4/wind-and-sea-x-nba-collab-collection-spring-2024-lookbook-release-info',\n",
       "  'urlToImage': 'https://image-cdn.hypb.st/https%3A%2F%2Fhypebeast.com%2Fimage%2F2024%2F04%2F11%2Fwind-and-sea-x-nba-collab-collection-spring-2024-lookbook-release-info-tw.jpg?w=1080&cbr=1&q=90&fit=max',\n",
       "  'publishedAt': '2024-04-11T16:24:14Z',\n",
       "  'content': 'Ahead of the NBA playoffs, WIND AND SEA has given its cosign to six teams. The Japanese streetwear outfitter teamed up with the NBA for the fifth time to deliver an extensive collection in tribute to… [+1047 chars]'},\n",
       " {'source': {'id': 'die-zeit', 'name': 'Die Zeit'},\n",
       "  'author': 'ZEIT ONLINE: News -',\n",
       "  'title': 'NBA: Kindheitstraum wird wahr: Wagner-Brüder geben Playoff-Debüt',\n",
       "  'description': 'Hier finden Sie Informationen zu dem Thema „NBA“. Lesen Sie jetzt „Kindheitstraum wird wahr: Wagner-Brüder geben Playoff-Debüt“.',\n",
       "  'url': 'https://www.zeit.de/news/2024-04/19/kindheitstraum-wird-wahr-wagner-brueder-geben-playoff-debuet',\n",
       "  'urlToImage': 'https://img.zeit.de/news/2024-04/19/kindheitstraum-wird-wahr-wagner-brueder-geben-playoff-debuet-image-group/wide__1300x731',\n",
       "  'publishedAt': '2024-04-19T08:14:08Z',\n",
       "  'content': 'Für zwei Jungs aus Berlin geht am Samstag gegen 19.00 Uhr deutscher Zeit ein Kindheitstraum in Erfüllung. Franz Wagner und Moritz Wagner, beide Basketball-Weltmeister und seit mehreren Jahren NBA-Pro… [+4194 chars]'},\n",
       " {'source': {'id': 'die-zeit', 'name': 'Die Zeit'},\n",
       "  'author': 'ZEIT ONLINE: News -',\n",
       "  'title': 'Basketball: Wagner-Brüder verlieren bei Playoff-Debüt in NBA deutlich',\n",
       "  'description': 'Hier finden Sie Informationen zu dem Thema „Basketball“. Lesen Sie jetzt „Wagner-Brüder verlieren bei Playoff-Debüt in NBA deutlich“.',\n",
       "  'url': 'https://www.zeit.de/news/2024-04/20/wagner-brueder-verlieren-bei-playoff-debuet-in-nba-deutlich',\n",
       "  'urlToImage': 'https://img.zeit.de/news/2024-04/20/wagner-brueder-verlieren-bei-playoff-debuet-in-nba-deutlich-image-group/wide__1300x731',\n",
       "  'publishedAt': '2024-04-20T20:03:56Z',\n",
       "  'content': 'Die Basketball-Weltmeister Franz und Moritz Wagner haben bei ihrem Debüt in den Playoffs der nordamerikanischen Profiliga NBA eine klare Niederlage hinnehmen müssen. In Spiel eins der Serie im Modus … [+1968 chars]'},\n",
       " {'source': {'id': 'die-zeit', 'name': 'Die Zeit'},\n",
       "  'author': 'ZEIT ONLINE: News -',\n",
       "  'title': \"Basketball: Lakers scheitern in NBA-Playoffs - James' Zukunft ungewiss\",\n",
       "  'description': \"Hier finden Sie Informationen zu dem Thema „Basketball“. Lesen Sie jetzt „Lakers scheitern in NBA-Playoffs - James' Zukunft ungewiss“.\",\n",
       "  'url': 'https://www.zeit.de/news/2024-04/30/lakers-scheitern-in-nba-playoffs-james-zukunft-ungewiss',\n",
       "  'urlToImage': 'https://img.zeit.de/news/2024-04/30/lakers-scheitern-in-nba-playoffs-james-zukunft-ungewiss-image-group/wide__1300x731',\n",
       "  'publishedAt': '2024-04-30T07:52:16Z',\n",
       "  'content': 'Nach dem Aus der Los Angeles Lakers in der ersten Runde der NBA-Playoffs hat Basketball-Superstar LeBron James seine Zukunft in der besten Liga der Welt offengelassen. Das Team aus Kalifornien war an… [+3458 chars]'},\n",
       " {'source': {'id': None, 'name': 'Slashdot.org'},\n",
       "  'author': 'BeauHD',\n",
       "  'title': 'A Chess Formula Is Taking Over the World',\n",
       "  'description': \"An anonymous reader quotes a report from The Atlantic: In October 2003, Mark Zuckerberg created his first viral site: not Facebook, but FaceMash. Then a college freshman, he hacked into Harvard's online dorm directories, gathered a massive collection of stude…\",\n",
       "  'url': 'https://science.slashdot.org/story/24/04/19/2017244/a-chess-formula-is-taking-over-the-world',\n",
       "  'urlToImage': 'https://a.fsdn.com/sd/topics/math_64.png',\n",
       "  'publishedAt': '2024-04-19T21:25:00Z',\n",
       "  'content': \"In October 2003, Mark Zuckerberg created his first viral site: not Facebook, but FaceMash. Then a college freshman, he hacked into Harvard's online dorm directories, gathered a massive collection of … [+2726 chars]\"},\n",
       " {'source': {'id': 'die-zeit', 'name': 'Die Zeit'},\n",
       "  'author': 'ZEIT ONLINE: News -',\n",
       "  'title': 'Basketball: Magic verlieren ohne Franz Wagner erneut in NBA',\n",
       "  'description': 'Hier finden Sie Informationen zu dem Thema „Basketball“. Lesen Sie jetzt „Magic verlieren ohne Franz Wagner erneut in NBA“.',\n",
       "  'url': 'https://www.zeit.de/news/2024-04/11/magic-verlieren-ohne-franz-wagner-erneut-in-nba',\n",
       "  'urlToImage': 'https://img.zeit.de/news/2024-04/11/magic-verlieren-ohne-franz-wagner-erneut-in-nba-image-group/wide__1300x731',\n",
       "  'publishedAt': '2024-04-11T05:37:28Z',\n",
       "  'content': 'Ohne den weiterhin angeschlagenen Franz Wagner haben die Orlando Magic in der NBA erneut verloren und drohen kurz vor dem Ende der Hauptrunde noch aus den Playoff-Plätzen zu rutschen. \\r\\nMehr Schlagze… [+3112 chars]'},\n",
       " {'source': {'id': 'die-zeit', 'name': 'Die Zeit'},\n",
       "  'author': 'ZEIT ONLINE: News -',\n",
       "  'title': 'NBA: James vor Play-In in Bestform: «Ein Schweizer Taschenmesser»',\n",
       "  'description': 'Hier finden Sie Informationen zu dem Thema „NBA“. Lesen Sie jetzt „James vor Play-In in Bestform: \"Ein Schweizer Taschenmesser\"“.',\n",
       "  'url': 'https://www.zeit.de/news/2024-04/15/james-vor-play-in-in-bestform-ein-schweizer-taschenmesser',\n",
       "  'urlToImage': 'https://img.zeit.de/news/2024-04/15/james-vor-play-in-in-bestform-ein-schweizer-taschenmesser-image-group/wide__1300x731',\n",
       "  'publishedAt': '2024-04-15T07:09:13Z',\n",
       "  'content': 'LeBron James war überall. Beim 123:108 der Los Angeles Lakers gegen die New Orleans Pelicans war der 39 Jahre alte Basketball-Superstar der Hauptgrund für die Dominanz des NBA-Rekordmeisters. 28 Punk… [+4451 chars]'},\n",
       " {'source': {'id': 'die-zeit', 'name': 'Die Zeit'},\n",
       "  'author': 'ZEIT ONLINE: News -',\n",
       "  'title': 'NBA: Wagner-Brüder erstmals in Playoffs - Knicks auf Rang zwei',\n",
       "  'description': 'Hier finden Sie Informationen zu dem Thema „NBA“. Lesen Sie jetzt „Wagner-Brüder erstmals in Playoffs - Knicks auf Rang zwei“.',\n",
       "  'url': 'https://www.zeit.de/news/2024-04/14/wagner-brueder-erstmals-in-playoffs-knicks-auf-rang-zwei',\n",
       "  'urlToImage': 'https://img.zeit.de/news/2024-04/14/wagner-brueder-erstmals-in-playoffs-knicks-auf-rang-zwei-image-group/wide__1300x731',\n",
       "  'publishedAt': '2024-04-14T20:02:14Z',\n",
       "  'content': 'Die Weltmeister Franz und Moritz Wagner stehen erstmals in ihrer Karriere in den NBA-Playoffs. Mit den Orlando Magic gewann das Brüder-Paar aus Berlin 1113:88 gegen die Milwaukee Bucks und beendete d… [+2221 chars]'},\n",
       " {'source': {'id': 'die-zeit', 'name': 'Die Zeit'},\n",
       "  'author': 'ZEIT ONLINE: News -',\n",
       "  'title': 'Basketball: NBA: Wagner-Brüder stark, Orlando gleicht aus',\n",
       "  'description': 'Hier finden Sie Informationen zu dem Thema „Basketball“. Lesen Sie jetzt „NBA: Wagner-Brüder stark, Orlando gleicht aus“.',\n",
       "  'url': 'https://www.zeit.de/news/2024-04/27/nba-wagner-brueder-stark-orlando-gleicht-aus',\n",
       "  'urlToImage': 'https://img.zeit.de/news/2024-04/27/nba-wagner-brueder-stark-orlando-gleicht-aus-image-group/wide__1300x731',\n",
       "  'publishedAt': '2024-04-27T20:55:38Z',\n",
       "  'content': 'Die Orlando Magic haben die NBA-Playoff-Serie gegen die Cleveland Cavaliers auch dank ihrer beiden deutschen Basketball-Weltmeister Franz und Moritz Wagner ausgeglichen. Dem Team gelang im vierten Du… [+383 chars]'},\n",
       " {'source': {'id': 'die-zeit', 'name': 'Die Zeit'},\n",
       "  'author': 'ZEIT ONLINE: News -',\n",
       "  'title': 'Basketball: NBA-Playoffs: Mavericks holen Sieg zwei gegen die Clippers',\n",
       "  'description': 'Hier finden Sie Informationen zu dem Thema „Basketball“. Lesen Sie jetzt „NBA-Playoffs: Mavericks holen Sieg zwei gegen die Clippers“.',\n",
       "  'url': 'https://www.zeit.de/news/2024-04/27/nba-playoffs-mavericks-holen-sieg-zwei-gegen-die-clippers',\n",
       "  'urlToImage': 'https://img.zeit.de/news/2024-04/27/nba-playoffs-mavericks-holen-sieg-zwei-gegen-die-clippers-image-group/wide__1300x731',\n",
       "  'publishedAt': '2024-04-27T06:57:24Z',\n",
       "  'content': 'Die Dallas Mavericks sind in der Erstrunden-Serie der NBA-Playoffs gegen die Los Angeles Clippers mit 2:1 nach Siegen in Führung gegangen. Die Texaner gewannen ihr erstes Heimspiel in der «Best of se… [+2746 chars]'},\n",
       " {'source': {'id': 'die-zeit', 'name': 'Die Zeit'},\n",
       "  'author': 'ZEIT ONLINE: News -',\n",
       "  'title': 'Basketball: NBA-Playoffs: Mavericks dominieren Clippers in Spiel fünf',\n",
       "  'description': 'Hier finden Sie Informationen zu dem Thema „Basketball“. Lesen Sie jetzt „NBA-Playoffs: Mavericks dominieren Clippers in Spiel fünf“.',\n",
       "  'url': 'https://www.zeit.de/news/2024-05/02/nba-playoffs-mavericks-dominieren-clippers-in-spiel-fuenf',\n",
       "  'urlToImage': 'https://img.zeit.de/news/2024-05/02/nba-playoffs-mavericks-dominieren-clippers-in-spiel-fuenf-image-group/wide__1300x731',\n",
       "  'publishedAt': '2024-05-02T06:02:28Z',\n",
       "  'content': 'Basketball-Profi Maxi Kleber fehlt mit den Dallas Mavericks nur noch ein Sieg zum Einzug in die nächste Runde der NBA-Playoffs.\\r\\nMehr Schlagzeilen\\r\\nAuch dank einer starken Leistung des Würzburgers ka… [+2479 chars]'},\n",
       " {'source': {'id': 'die-zeit', 'name': 'Die Zeit'},\n",
       "  'author': 'ZEIT ONLINE: News -',\n",
       "  'title': 'Basketball: Keine Playoffs für NBA-Star Schröder vor Olympia',\n",
       "  'description': 'Hier finden Sie Informationen zu dem Thema „Basketball“. Lesen Sie jetzt „Keine Playoffs für NBA-Star Schröder vor Olympia“.',\n",
       "  'url': 'https://www.zeit.de/news/2024-04/04/keine-playoffs-fuer-nba-star-schroeder-vor-olympia',\n",
       "  'urlToImage': 'https://img.zeit.de/news/2024-04/04/keine-playoffs-fuer-nba-star-schroeder-vor-olympia-image-group/wide__1300x731',\n",
       "  'publishedAt': '2024-04-04T05:17:49Z',\n",
       "  'content': 'Weltmeister-Kapitän Dennis Schröder wird vor den Olympischen Spielen keine Playoff-Partien in der NBA absolvieren. Fünf Spiele vor dem Ende der Hauptrunde kann der Basketball-Profi aus Braunschweig m… [+1935 chars]'},\n",
       " {'source': {'id': 'die-zeit', 'name': 'Die Zeit'},\n",
       "  'author': 'ZEIT ONLINE: News -',\n",
       "  'title': 'Basketball: NBA-Titelverteidiger Denver besiegt Lakers zum Playoff-Start',\n",
       "  'description': 'Hier finden Sie Informationen zu dem Thema „Basketball“. Lesen Sie jetzt „NBA-Titelverteidiger Denver besiegt Lakers zum Playoff-Start“.',\n",
       "  'url': 'https://www.zeit.de/news/2024-04/21/nba-titelverteidiger-denver-besiegt-lakers-zum-playoff-start',\n",
       "  'urlToImage': 'https://img.zeit.de/news/2024-04/21/nba-titelverteidiger-denver-besiegt-lakers-zum-playoff-start-image-group/wide__1300x731',\n",
       "  'publishedAt': '2024-04-21T05:39:38Z',\n",
       "  'content': 'Titelverteidiger Denver Nuggets ist mit einem Sieg in die Playoffs der nordamerikanischen Basketballliga NBA gestartet. Das Team um Starspieler Nikola Jokic setzte sich gegen die Los Angeles Lakers m… [+2713 chars]'},\n",
       " {'source': {'id': 'die-zeit', 'name': 'Die Zeit'},\n",
       "  'author': 'ZEIT ONLINE: News -',\n",
       "  'title': 'Basketball: Lakers verhindern frühes Aus in NBA-Playoffs',\n",
       "  'description': 'Hier finden Sie Informationen zu dem Thema „Basketball“. Lesen Sie jetzt „Lakers verhindern frühes Aus in NBA-Playoffs“.',\n",
       "  'url': 'https://www.zeit.de/news/2024-04/28/lakers-verhindern-fruehes-aus-in-nba-playoffs',\n",
       "  'urlToImage': 'https://img.zeit.de/news/2024-04/28/lakers-verhindern-fruehes-aus-in-nba-playoffs-image-group/wide__1300x731',\n",
       "  'publishedAt': '2024-04-28T05:42:33Z',\n",
       "  'content': 'Die Los Angeles Lakers haben in der ersten Playoff-Runde der nordamerikanischen Basketball-Profiliga NBA gegen Titelverteidiger Denver Nuggets ein schnelles Aus verhindert. Die Lakers gewannen Spiel … [+2356 chars]'},\n",
       " {'source': {'id': 'bleacher-report', 'name': 'Bleacher Report'},\n",
       "  'author': 'Erin Walsh',\n",
       "  'title': \"LeBron James Says 2011 Finals was 'Lowest' Point of NBA Career: 'I Played Like S--t'\",\n",
       "  'description': 'LeBron James has endured all the highs and lows throughout his 21-year NBA career, but if you ask him, the 2011 NBA Finals was the lowest of the low. James…',\n",
       "  'url': 'https://bleacherreport.com/articles/10115339-lebron-james-says-2011-finals-was-lowest-point-of-nba-career-i-played-like-s--t',\n",
       "  'urlToImage': 'https://media.bleacherreport.com/image/upload/c_fill,g_faces,w_3800,h_2000,q_95/v1712087418/hqoatscdepiv3f9ofhuy.jpg',\n",
       "  'publishedAt': '2024-04-02T20:12:36Z',\n",
       "  'content': 'Mike Stobe/Getty Images\\r\\nLeBron James has endured all the highs and lows throughout his 21-year NBA career, but if you ask him, the 2011 NBA Finals was the lowest of the low.\\r\\nJames helped the Miami … [+1342 chars]'},\n",
       " {'source': {'id': 'bleacher-report', 'name': 'Bleacher Report'},\n",
       "  'author': 'Zach Buckley',\n",
       "  'title': 'NBA Draft 2024: Round-Up of Expert Mock Drafts After NCAA Championship',\n",
       "  'description': \"The 2024 men's NCAA Tournament is in the books, and the 2023-24 NBA season is days away from its final buzzer. NBA draft season is here, folks. While…\",\n",
       "  'url': 'https://bleacherreport.com/articles/10116271-nba-draft-2024-round-up-of-expert-mock-drafts-after-ncaa-championship',\n",
       "  'urlToImage': 'https://media.bleacherreport.com/image/upload/c_fill,g_faces,w_3800,h_2000,q_95/v1712758176/nkzerv5ha41weaysoola.jpg',\n",
       "  'publishedAt': '2024-04-10T16:00:00Z',\n",
       "  'content': \"Brett Wilhelm/NCAA Photos via Getty Images\\r\\nWhile Purdue star center Zach Edey couldn't quite wrap a national championship bow around his decorated career, he left little doubt about his standing as … [+1289 chars]\"},\n",
       " {'source': {'id': 'bleacher-report', 'name': 'Bleacher Report'},\n",
       "  'author': 'Mike Chiari',\n",
       "  'title': \"NBA Rumors: 4 Insiders Say Bronny James Would Go Undrafted If He Wasn't LeBron's Son\",\n",
       "  'description': 'There is a belief among some in the NBA that Bronny James would go undrafted if not for being the son of NBA legend LeBron James. In an article published…',\n",
       "  'url': 'https://bleacherreport.com/articles/10116580-nba-rumors-4-insiders-say-bronny-james-would-go-undrafted-if-he-wasnt-lebrons-son',\n",
       "  'urlToImage': 'https://media.bleacherreport.com/image/upload/x_0,y_307,w_1800,h_1200,c_crop/c_fill,g_faces,w_3800,h_2000,q_95/v1712927289/vhqs5kdaujasyesxys2m.jpg',\n",
       "  'publishedAt': '2024-04-12T13:09:36Z',\n",
       "  'content': 'David Becker/Getty Images\\r\\nThere is a belief among some in the NBA that Bronny James would go undrafted if not for being the son of NBA legend LeBron James.\\r\\nIn an article published Friday, Sam Vecen… [+839 chars]'},\n",
       " {'source': {'id': 'business-insider', 'name': 'Business Insider'},\n",
       "  'author': 'Kenneth Niemeyer',\n",
       "  'title': \"The government is now monitoring online stores in games like Roblox and Fortnite for their 'buyer beware' approach\",\n",
       "  'description': 'The Consumer Financial Protection Bureau is monitoring video game stores, which it says do not protect users money the same way a bank would.',\n",
       "  'url': 'https://www.businessinsider.com/officials-looking-at-roblox-and-fortnite-for-buyer-beware-approach-2024-4',\n",
       "  'urlToImage': 'https://i.insider.com/6611a0651caec1275a6d88c8?width=1200&format=jpeg',\n",
       "  'publishedAt': '2024-04-06T19:42:18Z',\n",
       "  'content': 'The Consumer Financial Protection Bureau is starting to monitor stores in online games like Roblox.Courtesy of Richard Sim\\r\\n<ul><li>The federal government is paying attention to the growth of in-game… [+3084 chars]'},\n",
       " {'source': {'id': 'bbc-news', 'name': 'BBC News'},\n",
       "  'author': 'BBC Sport',\n",
       "  'title': \"NBA legend James' son Bronny to enter 2024 draft\",\n",
       "  'description': 'Bronny James, the son of NBA legend LeBron, is to enter the 2024 NBA draft.',\n",
       "  'url': 'https://www.bbc.co.uk/sport/basketball/68745151',\n",
       "  'urlToImage': 'https://ichef.bbci.co.uk/news/1024/branded_sport/10FDE/production/_133089596_gettyimages-1477667501.jpg',\n",
       "  'publishedAt': '2024-04-05T16:36:25Z',\n",
       "  'content': 'Bronny James, the son of NBA legend LeBron, has announced he will enter the 2024 draft. \\r\\nIt comes less than a year after the 19-year-old suffered a cardiac arrest during practice at the University o… [+1063 chars]'},\n",
       " {'source': {'id': None, 'name': 'Presse-citron'},\n",
       "  'author': 'Manon Carpentier',\n",
       "  'title': 'Foot\\xa0: Prime Video arrête les frais, et vise la NBA',\n",
       "  'description': 'Pour Prime Video, est-ce l’heure de ranger les crampons ?',\n",
       "  'url': 'https://www.presse-citron.net/foot-prime-video-arrete-les-frais-et-vise-la-nba/',\n",
       "  'urlToImage': 'https://www.presse-citron.net/app/uploads/2024/04/basket.jpg',\n",
       "  'publishedAt': '2024-04-29T16:17:31Z',\n",
       "  'content': 'Lavenir du Pass Ligue 1 de Prime Video est menacé. La plateforme de Jeff Bezos ne semble pas prête à mettre la main au portefeuille pour continuer à diffuser la majorité des matchs de Ligue 1 et de L… [+2467 chars]'}]"
      ]
     },
     "execution_count": 8,
     "metadata": {},
     "output_type": "execute_result"
    }
   ],
   "source": [
    "articles = [a for a in everything[\"articles\"] if a[\"source\"][\"name\"] != \"[Removed]\"]\n",
    "articles"
   ]
  },
  {
   "cell_type": "code",
   "execution_count": 9,
   "metadata": {},
   "outputs": [
    {
     "data": {
      "text/plain": [
       "{'Business Insider': 4,\n",
       " 'NPR': 5,\n",
       " 'ESPN': 27,\n",
       " 'Ars Technica': 1,\n",
       " 'The Athletic': 1,\n",
       " 'CNET': 1,\n",
       " 'ABC News': 1,\n",
       " 'ReadWrite': 3,\n",
       " 'MacRumors': 2,\n",
       " 'Buzzfeed': 1,\n",
       " 'Le Monde': 12,\n",
       " 'Digital Trends': 7,\n",
       " 'Android Police': 1,\n",
       " '9to5Mac': 1,\n",
       " 'HYPEBEAST': 4,\n",
       " 'Rolling Stone': 1,\n",
       " 'Yahoo Entertainment': 1,\n",
       " 'Bleacher Report': 8,\n",
       " 'Hipertextual': 1,\n",
       " 'GameSpot': 1,\n",
       " 'Die Zeit': 12,\n",
       " 'Slashdot.org': 1,\n",
       " 'BBC News': 1,\n",
       " 'Presse-citron': 1}"
      ]
     },
     "execution_count": 9,
     "metadata": {},
     "output_type": "execute_result"
    }
   ],
   "source": [
    "names = [a[\"source\"][\"name\"] for a in articles]\n",
    "names_dict = {n: 0 for n in names}\n",
    "for n in names: names_dict[n] += 1\n",
    "\n",
    "names_dict"
   ]
  },
  {
   "cell_type": "code",
   "execution_count": 90,
   "metadata": {},
   "outputs": [],
   "source": [
    "names_dict = {'Business Insider': 4,\n",
    " 'NPR': 5,\n",
    " 'ESPN': 27,\n",
    " 'Ars Technica': 1,\n",
    " 'The Athletic': 1,\n",
    " 'CNET': 1,\n",
    " 'ABC News': 1,\n",
    " 'ReadWrite': 3,\n",
    " 'MacRumors': 2,\n",
    " 'Buzzfeed': 1,\n",
    " 'Le Monde': 12,\n",
    " 'Digital Trends': 7,\n",
    " 'Android Police': 1,\n",
    " '9to5Mac': 1,\n",
    " 'HYPEBEAST': 4,\n",
    " 'Rolling Stone': 1,\n",
    " 'Yahoo Entertainment': 1,\n",
    " 'Bleacher Report': 8,\n",
    " 'Hipertextual': 1,\n",
    " 'GameSpot': 1,\n",
    " 'Die Zeit': 12,\n",
    " 'Slashdot.org': 1,\n",
    " 'BBC News': 1,\n",
    " 'Presse-citron': 1}"
   ]
  },
  {
   "cell_type": "code",
   "execution_count": 91,
   "metadata": {},
   "outputs": [
    {
     "data": {
      "text/html": [
       "<div>\n",
       "<style scoped>\n",
       "    .dataframe tbody tr th:only-of-type {\n",
       "        vertical-align: middle;\n",
       "    }\n",
       "\n",
       "    .dataframe tbody tr th {\n",
       "        vertical-align: top;\n",
       "    }\n",
       "\n",
       "    .dataframe thead th {\n",
       "        text-align: right;\n",
       "    }\n",
       "</style>\n",
       "<table border=\"1\" class=\"dataframe\">\n",
       "  <thead>\n",
       "    <tr style=\"text-align: right;\">\n",
       "      <th></th>\n",
       "      <th>Source</th>\n",
       "      <th>Count</th>\n",
       "    </tr>\n",
       "  </thead>\n",
       "  <tbody>\n",
       "    <tr>\n",
       "      <th>0</th>\n",
       "      <td>Business Insider</td>\n",
       "      <td>4</td>\n",
       "    </tr>\n",
       "    <tr>\n",
       "      <th>1</th>\n",
       "      <td>NPR</td>\n",
       "      <td>5</td>\n",
       "    </tr>\n",
       "    <tr>\n",
       "      <th>2</th>\n",
       "      <td>ESPN</td>\n",
       "      <td>27</td>\n",
       "    </tr>\n",
       "    <tr>\n",
       "      <th>3</th>\n",
       "      <td>Ars Technica</td>\n",
       "      <td>1</td>\n",
       "    </tr>\n",
       "    <tr>\n",
       "      <th>4</th>\n",
       "      <td>The Athletic</td>\n",
       "      <td>1</td>\n",
       "    </tr>\n",
       "    <tr>\n",
       "      <th>5</th>\n",
       "      <td>CNET</td>\n",
       "      <td>1</td>\n",
       "    </tr>\n",
       "    <tr>\n",
       "      <th>6</th>\n",
       "      <td>ABC News</td>\n",
       "      <td>1</td>\n",
       "    </tr>\n",
       "    <tr>\n",
       "      <th>7</th>\n",
       "      <td>ReadWrite</td>\n",
       "      <td>3</td>\n",
       "    </tr>\n",
       "    <tr>\n",
       "      <th>8</th>\n",
       "      <td>MacRumors</td>\n",
       "      <td>2</td>\n",
       "    </tr>\n",
       "    <tr>\n",
       "      <th>9</th>\n",
       "      <td>Buzzfeed</td>\n",
       "      <td>1</td>\n",
       "    </tr>\n",
       "    <tr>\n",
       "      <th>10</th>\n",
       "      <td>Le Monde</td>\n",
       "      <td>12</td>\n",
       "    </tr>\n",
       "    <tr>\n",
       "      <th>11</th>\n",
       "      <td>Digital Trends</td>\n",
       "      <td>7</td>\n",
       "    </tr>\n",
       "    <tr>\n",
       "      <th>12</th>\n",
       "      <td>Android Police</td>\n",
       "      <td>1</td>\n",
       "    </tr>\n",
       "    <tr>\n",
       "      <th>13</th>\n",
       "      <td>9to5Mac</td>\n",
       "      <td>1</td>\n",
       "    </tr>\n",
       "    <tr>\n",
       "      <th>14</th>\n",
       "      <td>HYPEBEAST</td>\n",
       "      <td>4</td>\n",
       "    </tr>\n",
       "    <tr>\n",
       "      <th>15</th>\n",
       "      <td>Rolling Stone</td>\n",
       "      <td>1</td>\n",
       "    </tr>\n",
       "    <tr>\n",
       "      <th>16</th>\n",
       "      <td>Yahoo Entertainment</td>\n",
       "      <td>1</td>\n",
       "    </tr>\n",
       "    <tr>\n",
       "      <th>17</th>\n",
       "      <td>Bleacher Report</td>\n",
       "      <td>8</td>\n",
       "    </tr>\n",
       "    <tr>\n",
       "      <th>18</th>\n",
       "      <td>Hipertextual</td>\n",
       "      <td>1</td>\n",
       "    </tr>\n",
       "    <tr>\n",
       "      <th>19</th>\n",
       "      <td>GameSpot</td>\n",
       "      <td>1</td>\n",
       "    </tr>\n",
       "    <tr>\n",
       "      <th>20</th>\n",
       "      <td>Die Zeit</td>\n",
       "      <td>12</td>\n",
       "    </tr>\n",
       "    <tr>\n",
       "      <th>21</th>\n",
       "      <td>Slashdot.org</td>\n",
       "      <td>1</td>\n",
       "    </tr>\n",
       "    <tr>\n",
       "      <th>22</th>\n",
       "      <td>BBC News</td>\n",
       "      <td>1</td>\n",
       "    </tr>\n",
       "    <tr>\n",
       "      <th>23</th>\n",
       "      <td>Presse-citron</td>\n",
       "      <td>1</td>\n",
       "    </tr>\n",
       "  </tbody>\n",
       "</table>\n",
       "</div>"
      ],
      "text/plain": [
       "                 Source  Count\n",
       "0      Business Insider      4\n",
       "1                   NPR      5\n",
       "2                  ESPN     27\n",
       "3          Ars Technica      1\n",
       "4          The Athletic      1\n",
       "5                  CNET      1\n",
       "6              ABC News      1\n",
       "7             ReadWrite      3\n",
       "8             MacRumors      2\n",
       "9              Buzzfeed      1\n",
       "10             Le Monde     12\n",
       "11       Digital Trends      7\n",
       "12       Android Police      1\n",
       "13              9to5Mac      1\n",
       "14            HYPEBEAST      4\n",
       "15        Rolling Stone      1\n",
       "16  Yahoo Entertainment      1\n",
       "17      Bleacher Report      8\n",
       "18         Hipertextual      1\n",
       "19             GameSpot      1\n",
       "20             Die Zeit     12\n",
       "21         Slashdot.org      1\n",
       "22             BBC News      1\n",
       "23        Presse-citron      1"
      ]
     },
     "execution_count": 91,
     "metadata": {},
     "output_type": "execute_result"
    }
   ],
   "source": [
    "df = pd.DataFrame.from_dict(names_dict, orient=\"index\").reset_index()\n",
    "df.columns = [\"Source\", \"Count\"]\n",
    "df"
   ]
  },
  {
   "cell_type": "code",
   "execution_count": 92,
   "metadata": {},
   "outputs": [
    {
     "data": {
      "application/vnd.plotly.v1+json": {
       "config": {
        "plotlyServerURL": "https://plotly.com"
       },
       "data": [
        {
         "alignmentgroup": "True",
         "hovertemplate": "Count=%{x}<br>Source=%{y}<extra></extra>",
         "legendgroup": "",
         "marker": {
          "color": "#636efa",
          "pattern": {
           "shape": ""
          }
         },
         "name": "",
         "offsetgroup": "",
         "orientation": "h",
         "showlegend": false,
         "textposition": "auto",
         "type": "bar",
         "x": [
          14,
          2,
          3,
          4,
          4,
          5,
          7,
          8,
          12,
          12,
          27
         ],
         "xaxis": "x",
         "y": [
          "Other",
          "MacRumors",
          "ReadWrite",
          "Business Insider",
          "HYPEBEAST",
          "NPR",
          "Digital Trends",
          "Bleacher Report",
          "Le Monde",
          "Die Zeit",
          "ESPN"
         ],
         "yaxis": "y"
        }
       ],
       "layout": {
        "barmode": "relative",
        "legend": {
         "tracegroupgap": 0
        },
        "margin": {
         "t": 60
        },
        "template": {
         "data": {
          "bar": [
           {
            "error_x": {
             "color": "#f2f5fa"
            },
            "error_y": {
             "color": "#f2f5fa"
            },
            "marker": {
             "line": {
              "color": "rgb(17,17,17)",
              "width": 0.5
             },
             "pattern": {
              "fillmode": "overlay",
              "size": 10,
              "solidity": 0.2
             }
            },
            "type": "bar"
           }
          ],
          "barpolar": [
           {
            "marker": {
             "line": {
              "color": "rgb(17,17,17)",
              "width": 0.5
             },
             "pattern": {
              "fillmode": "overlay",
              "size": 10,
              "solidity": 0.2
             }
            },
            "type": "barpolar"
           }
          ],
          "carpet": [
           {
            "aaxis": {
             "endlinecolor": "#A2B1C6",
             "gridcolor": "#506784",
             "linecolor": "#506784",
             "minorgridcolor": "#506784",
             "startlinecolor": "#A2B1C6"
            },
            "baxis": {
             "endlinecolor": "#A2B1C6",
             "gridcolor": "#506784",
             "linecolor": "#506784",
             "minorgridcolor": "#506784",
             "startlinecolor": "#A2B1C6"
            },
            "type": "carpet"
           }
          ],
          "choropleth": [
           {
            "colorbar": {
             "outlinewidth": 0,
             "ticks": ""
            },
            "type": "choropleth"
           }
          ],
          "contour": [
           {
            "colorbar": {
             "outlinewidth": 0,
             "ticks": ""
            },
            "colorscale": [
             [
              0,
              "#0d0887"
             ],
             [
              0.1111111111111111,
              "#46039f"
             ],
             [
              0.2222222222222222,
              "#7201a8"
             ],
             [
              0.3333333333333333,
              "#9c179e"
             ],
             [
              0.4444444444444444,
              "#bd3786"
             ],
             [
              0.5555555555555556,
              "#d8576b"
             ],
             [
              0.6666666666666666,
              "#ed7953"
             ],
             [
              0.7777777777777778,
              "#fb9f3a"
             ],
             [
              0.8888888888888888,
              "#fdca26"
             ],
             [
              1,
              "#f0f921"
             ]
            ],
            "type": "contour"
           }
          ],
          "contourcarpet": [
           {
            "colorbar": {
             "outlinewidth": 0,
             "ticks": ""
            },
            "type": "contourcarpet"
           }
          ],
          "heatmap": [
           {
            "colorbar": {
             "outlinewidth": 0,
             "ticks": ""
            },
            "colorscale": [
             [
              0,
              "#0d0887"
             ],
             [
              0.1111111111111111,
              "#46039f"
             ],
             [
              0.2222222222222222,
              "#7201a8"
             ],
             [
              0.3333333333333333,
              "#9c179e"
             ],
             [
              0.4444444444444444,
              "#bd3786"
             ],
             [
              0.5555555555555556,
              "#d8576b"
             ],
             [
              0.6666666666666666,
              "#ed7953"
             ],
             [
              0.7777777777777778,
              "#fb9f3a"
             ],
             [
              0.8888888888888888,
              "#fdca26"
             ],
             [
              1,
              "#f0f921"
             ]
            ],
            "type": "heatmap"
           }
          ],
          "heatmapgl": [
           {
            "colorbar": {
             "outlinewidth": 0,
             "ticks": ""
            },
            "colorscale": [
             [
              0,
              "#0d0887"
             ],
             [
              0.1111111111111111,
              "#46039f"
             ],
             [
              0.2222222222222222,
              "#7201a8"
             ],
             [
              0.3333333333333333,
              "#9c179e"
             ],
             [
              0.4444444444444444,
              "#bd3786"
             ],
             [
              0.5555555555555556,
              "#d8576b"
             ],
             [
              0.6666666666666666,
              "#ed7953"
             ],
             [
              0.7777777777777778,
              "#fb9f3a"
             ],
             [
              0.8888888888888888,
              "#fdca26"
             ],
             [
              1,
              "#f0f921"
             ]
            ],
            "type": "heatmapgl"
           }
          ],
          "histogram": [
           {
            "marker": {
             "pattern": {
              "fillmode": "overlay",
              "size": 10,
              "solidity": 0.2
             }
            },
            "type": "histogram"
           }
          ],
          "histogram2d": [
           {
            "colorbar": {
             "outlinewidth": 0,
             "ticks": ""
            },
            "colorscale": [
             [
              0,
              "#0d0887"
             ],
             [
              0.1111111111111111,
              "#46039f"
             ],
             [
              0.2222222222222222,
              "#7201a8"
             ],
             [
              0.3333333333333333,
              "#9c179e"
             ],
             [
              0.4444444444444444,
              "#bd3786"
             ],
             [
              0.5555555555555556,
              "#d8576b"
             ],
             [
              0.6666666666666666,
              "#ed7953"
             ],
             [
              0.7777777777777778,
              "#fb9f3a"
             ],
             [
              0.8888888888888888,
              "#fdca26"
             ],
             [
              1,
              "#f0f921"
             ]
            ],
            "type": "histogram2d"
           }
          ],
          "histogram2dcontour": [
           {
            "colorbar": {
             "outlinewidth": 0,
             "ticks": ""
            },
            "colorscale": [
             [
              0,
              "#0d0887"
             ],
             [
              0.1111111111111111,
              "#46039f"
             ],
             [
              0.2222222222222222,
              "#7201a8"
             ],
             [
              0.3333333333333333,
              "#9c179e"
             ],
             [
              0.4444444444444444,
              "#bd3786"
             ],
             [
              0.5555555555555556,
              "#d8576b"
             ],
             [
              0.6666666666666666,
              "#ed7953"
             ],
             [
              0.7777777777777778,
              "#fb9f3a"
             ],
             [
              0.8888888888888888,
              "#fdca26"
             ],
             [
              1,
              "#f0f921"
             ]
            ],
            "type": "histogram2dcontour"
           }
          ],
          "mesh3d": [
           {
            "colorbar": {
             "outlinewidth": 0,
             "ticks": ""
            },
            "type": "mesh3d"
           }
          ],
          "parcoords": [
           {
            "line": {
             "colorbar": {
              "outlinewidth": 0,
              "ticks": ""
             }
            },
            "type": "parcoords"
           }
          ],
          "pie": [
           {
            "automargin": true,
            "type": "pie"
           }
          ],
          "scatter": [
           {
            "marker": {
             "line": {
              "color": "#283442"
             }
            },
            "type": "scatter"
           }
          ],
          "scatter3d": [
           {
            "line": {
             "colorbar": {
              "outlinewidth": 0,
              "ticks": ""
             }
            },
            "marker": {
             "colorbar": {
              "outlinewidth": 0,
              "ticks": ""
             }
            },
            "type": "scatter3d"
           }
          ],
          "scattercarpet": [
           {
            "marker": {
             "colorbar": {
              "outlinewidth": 0,
              "ticks": ""
             }
            },
            "type": "scattercarpet"
           }
          ],
          "scattergeo": [
           {
            "marker": {
             "colorbar": {
              "outlinewidth": 0,
              "ticks": ""
             }
            },
            "type": "scattergeo"
           }
          ],
          "scattergl": [
           {
            "marker": {
             "line": {
              "color": "#283442"
             }
            },
            "type": "scattergl"
           }
          ],
          "scattermapbox": [
           {
            "marker": {
             "colorbar": {
              "outlinewidth": 0,
              "ticks": ""
             }
            },
            "type": "scattermapbox"
           }
          ],
          "scatterpolar": [
           {
            "marker": {
             "colorbar": {
              "outlinewidth": 0,
              "ticks": ""
             }
            },
            "type": "scatterpolar"
           }
          ],
          "scatterpolargl": [
           {
            "marker": {
             "colorbar": {
              "outlinewidth": 0,
              "ticks": ""
             }
            },
            "type": "scatterpolargl"
           }
          ],
          "scatterternary": [
           {
            "marker": {
             "colorbar": {
              "outlinewidth": 0,
              "ticks": ""
             }
            },
            "type": "scatterternary"
           }
          ],
          "surface": [
           {
            "colorbar": {
             "outlinewidth": 0,
             "ticks": ""
            },
            "colorscale": [
             [
              0,
              "#0d0887"
             ],
             [
              0.1111111111111111,
              "#46039f"
             ],
             [
              0.2222222222222222,
              "#7201a8"
             ],
             [
              0.3333333333333333,
              "#9c179e"
             ],
             [
              0.4444444444444444,
              "#bd3786"
             ],
             [
              0.5555555555555556,
              "#d8576b"
             ],
             [
              0.6666666666666666,
              "#ed7953"
             ],
             [
              0.7777777777777778,
              "#fb9f3a"
             ],
             [
              0.8888888888888888,
              "#fdca26"
             ],
             [
              1,
              "#f0f921"
             ]
            ],
            "type": "surface"
           }
          ],
          "table": [
           {
            "cells": {
             "fill": {
              "color": "#506784"
             },
             "line": {
              "color": "rgb(17,17,17)"
             }
            },
            "header": {
             "fill": {
              "color": "#2a3f5f"
             },
             "line": {
              "color": "rgb(17,17,17)"
             }
            },
            "type": "table"
           }
          ]
         },
         "layout": {
          "annotationdefaults": {
           "arrowcolor": "#f2f5fa",
           "arrowhead": 0,
           "arrowwidth": 1
          },
          "autotypenumbers": "strict",
          "coloraxis": {
           "colorbar": {
            "outlinewidth": 0,
            "ticks": ""
           }
          },
          "colorscale": {
           "diverging": [
            [
             0,
             "#8e0152"
            ],
            [
             0.1,
             "#c51b7d"
            ],
            [
             0.2,
             "#de77ae"
            ],
            [
             0.3,
             "#f1b6da"
            ],
            [
             0.4,
             "#fde0ef"
            ],
            [
             0.5,
             "#f7f7f7"
            ],
            [
             0.6,
             "#e6f5d0"
            ],
            [
             0.7,
             "#b8e186"
            ],
            [
             0.8,
             "#7fbc41"
            ],
            [
             0.9,
             "#4d9221"
            ],
            [
             1,
             "#276419"
            ]
           ],
           "sequential": [
            [
             0,
             "#0d0887"
            ],
            [
             0.1111111111111111,
             "#46039f"
            ],
            [
             0.2222222222222222,
             "#7201a8"
            ],
            [
             0.3333333333333333,
             "#9c179e"
            ],
            [
             0.4444444444444444,
             "#bd3786"
            ],
            [
             0.5555555555555556,
             "#d8576b"
            ],
            [
             0.6666666666666666,
             "#ed7953"
            ],
            [
             0.7777777777777778,
             "#fb9f3a"
            ],
            [
             0.8888888888888888,
             "#fdca26"
            ],
            [
             1,
             "#f0f921"
            ]
           ],
           "sequentialminus": [
            [
             0,
             "#0d0887"
            ],
            [
             0.1111111111111111,
             "#46039f"
            ],
            [
             0.2222222222222222,
             "#7201a8"
            ],
            [
             0.3333333333333333,
             "#9c179e"
            ],
            [
             0.4444444444444444,
             "#bd3786"
            ],
            [
             0.5555555555555556,
             "#d8576b"
            ],
            [
             0.6666666666666666,
             "#ed7953"
            ],
            [
             0.7777777777777778,
             "#fb9f3a"
            ],
            [
             0.8888888888888888,
             "#fdca26"
            ],
            [
             1,
             "#f0f921"
            ]
           ]
          },
          "colorway": [
           "#636efa",
           "#EF553B",
           "#00cc96",
           "#ab63fa",
           "#FFA15A",
           "#19d3f3",
           "#FF6692",
           "#B6E880",
           "#FF97FF",
           "#FECB52"
          ],
          "font": {
           "color": "#f2f5fa"
          },
          "geo": {
           "bgcolor": "rgb(17,17,17)",
           "lakecolor": "rgb(17,17,17)",
           "landcolor": "rgb(17,17,17)",
           "showlakes": true,
           "showland": true,
           "subunitcolor": "#506784"
          },
          "hoverlabel": {
           "align": "left"
          },
          "hovermode": "closest",
          "mapbox": {
           "style": "dark"
          },
          "paper_bgcolor": "rgb(17,17,17)",
          "plot_bgcolor": "rgb(17,17,17)",
          "polar": {
           "angularaxis": {
            "gridcolor": "#506784",
            "linecolor": "#506784",
            "ticks": ""
           },
           "bgcolor": "rgb(17,17,17)",
           "radialaxis": {
            "gridcolor": "#506784",
            "linecolor": "#506784",
            "ticks": ""
           }
          },
          "scene": {
           "xaxis": {
            "backgroundcolor": "rgb(17,17,17)",
            "gridcolor": "#506784",
            "gridwidth": 2,
            "linecolor": "#506784",
            "showbackground": true,
            "ticks": "",
            "zerolinecolor": "#C8D4E3"
           },
           "yaxis": {
            "backgroundcolor": "rgb(17,17,17)",
            "gridcolor": "#506784",
            "gridwidth": 2,
            "linecolor": "#506784",
            "showbackground": true,
            "ticks": "",
            "zerolinecolor": "#C8D4E3"
           },
           "zaxis": {
            "backgroundcolor": "rgb(17,17,17)",
            "gridcolor": "#506784",
            "gridwidth": 2,
            "linecolor": "#506784",
            "showbackground": true,
            "ticks": "",
            "zerolinecolor": "#C8D4E3"
           }
          },
          "shapedefaults": {
           "line": {
            "color": "#f2f5fa"
           }
          },
          "sliderdefaults": {
           "bgcolor": "#C8D4E3",
           "bordercolor": "rgb(17,17,17)",
           "borderwidth": 1,
           "tickwidth": 0
          },
          "ternary": {
           "aaxis": {
            "gridcolor": "#506784",
            "linecolor": "#506784",
            "ticks": ""
           },
           "baxis": {
            "gridcolor": "#506784",
            "linecolor": "#506784",
            "ticks": ""
           },
           "bgcolor": "rgb(17,17,17)",
           "caxis": {
            "gridcolor": "#506784",
            "linecolor": "#506784",
            "ticks": ""
           }
          },
          "title": {
           "x": 0.05
          },
          "updatemenudefaults": {
           "bgcolor": "#506784",
           "borderwidth": 0
          },
          "xaxis": {
           "automargin": true,
           "gridcolor": "#283442",
           "linecolor": "#506784",
           "ticks": "",
           "title": {
            "standoff": 15
           },
           "zerolinecolor": "#283442",
           "zerolinewidth": 2
          },
          "yaxis": {
           "automargin": true,
           "gridcolor": "#283442",
           "linecolor": "#506784",
           "ticks": "",
           "title": {
            "standoff": 15
           },
           "zerolinecolor": "#283442",
           "zerolinewidth": 2
          }
         }
        },
        "xaxis": {
         "anchor": "y",
         "domain": [
          0,
          1
         ],
         "title": {
          "text": "Count"
         }
        },
        "yaxis": {
         "anchor": "x",
         "domain": [
          0,
          1
         ],
         "title": {
          "text": "Source"
         }
        }
       }
      }
     },
     "metadata": {},
     "output_type": "display_data"
    }
   ],
   "source": [
    "df.sort_values(\"Count\", inplace=True)\n",
    "\n",
    "n = len(df)\n",
    "if n > 10:\n",
    "    top_10 = df.tail(10)\n",
    "    rest = df.head(n-10).copy()\n",
    "    rest[\"Source\"] = \"Other\"\n",
    "    rest = rest.groupby(\"Source\", as_index=False)[\"Count\"].sum()\n",
    "    \n",
    "    chart_df = pd.concat([rest, top_10]).reset_index(drop=True)\n",
    "else:\n",
    "    chart_df = df\n",
    "\n",
    "fig = px.bar(chart_df, x=\"Count\", y=\"Source\", orientation=\"h\", template=\"plotly_dark\")\n",
    "fig.show()"
   ]
  },
  {
   "cell_type": "code",
   "execution_count": 13,
   "metadata": {},
   "outputs": [],
   "source": [
    "import re"
   ]
  },
  {
   "cell_type": "code",
   "execution_count": 15,
   "metadata": {},
   "outputs": [],
   "source": [
    "result = [{'source': {'id': 'business-insider', 'name': 'Business Insider'},\n",
    "  'author': 'Peter Kafka',\n",
    "  'title': \"Why the NBA doesn't hate the Jontay Porter sports betting scandal\",\n",
    "  'description': 'The NBA is happy to make an example of Jontay Porter. It really wants sports betting to thrive, so a lifetime ban is an easy call.',\n",
    "  'url': 'https://www.businessinsider.com/nba-ban-jontay-porter-toronto-raptors-easy-call-why-2024-4',\n",
    "  'urlToImage': 'https://i.insider.com/6620305710c6b0cde5f07db8?width=1200&format=jpeg',\n",
    "  'publishedAt': '2024-04-17T20:36:26Z',\n",
    "  'content': \"Jontay Porter (center) has been banned by the NBA for life after a betting scandal.Photo by Zou Zheng/Xinhua via Getty Images\\r\\n<ul><li>The Toronto Raptors' Jontay Porter received a lifetime ban from … [+3713 chars]\"},\n",
    " {'source': {'id': None, 'name': 'NPR'},\n",
    "  'author': None,\n",
    "  'title': 'NBA bans Jontay Porter after gambling probe shows he shared information, bet on games',\n",
    "  'description': 'The Toronto Raptors player has been banned for life from the NBA after a league probe found he disclosed confidential information to sports bettors and bet on games.',\n",
    "  'url': 'https://www.npr.org/2024/04/17/1245301982/nba-bans-jontay-porter-gambling',\n",
    "  'urlToImage': 'https://media.npr.org/assets/img/2024/04/17/ap24108596882358_wide-a40a53ea5a554fd7c90488751617c5e285b9ad9e-s1400-c100.jpg',\n",
    "  'publishedAt': '2024-04-17T16:52:45Z',\n",
    "  'content': 'Toronto Raptors center Jontay Porter (right) pulls in a rebound as Denver Nuggets center Nikola Jokic defends in an NBA game on March 11 in Denver. On Wednesday, the NBA banned Porter after a league … [+2773 chars]'},\n",
    " {'source': {'id': 'espn', 'name': 'ESPN'},\n",
    "  'author': 'Adrian Wojnarowski',\n",
    "  'title': 'Lottery prospect Buzelis enters 2024 NBA draft',\n",
    "  'description': \"Matas Buzelis, the No. 6 prospect in ESPN's Top 100 prospect list, averaged 14.1 points and 6.6 rebounds per game for the G League Ignite this season after choosing the NBA's feeder program over several top college basketball programs.\",\n",
    "  'url': 'https://www.espn.com/nba/story/_/id/39927961/matas-buzelis-enters-draft-g-league-ignite-season',\n",
    "  'urlToImage': 'https://a3.espncdn.com/combiner/i?img=%2Fphoto%2F2024%2F0219%2Fr1293085_1296x729_16%2D9.jpg',\n",
    "  'publishedAt': '2024-04-12T16:05:13Z',\n",
    "  'content': \"The G League Ignite's Matas Buzelis -- the No. 6 prospect in ESPN's Top 100 prospect list -- will enter the 2024 NBA draft, he told ESPN.\\r\\nBuzelis, a 6-foot-10 forward out of Chicago, averaged 14.1 p… [+652 chars]\"}\n",
    "]\n"
   ]
  },
  {
   "cell_type": "code",
   "execution_count": 94,
   "metadata": {},
   "outputs": [
    {
     "data": {
      "text/plain": [
       "[3913, 2973, 852]"
      ]
     },
     "execution_count": 94,
     "metadata": {},
     "output_type": "execute_result"
    }
   ],
   "source": [
    "def get_article_length(content):\n",
    "    # Find char counter at end of content\n",
    "    pattern = r\"\\[\\+\\d+\\s+\\w+\\]\"\n",
    "\n",
    "    p = re.compile(pattern)\n",
    "    match = p.search(content)\n",
    "\n",
    "    if match:\n",
    "        # Extract number from char counter\n",
    "        extra_tag = match.group(0)\n",
    "        extra_count = re.findall(r\"\\d+\", extra_tag)\n",
    "        extra_count = int(extra_count[0])\n",
    "\n",
    "        # Count string portion of content\n",
    "        stripped_content = content.replace(extra_tag, \"\")    \n",
    "        stripped_content = re.sub(r\"\\u2026\", '', stripped_content)\n",
    "        content_count = len(stripped_content)\n",
    "\n",
    "    else:\n",
    "        extra_count = 0\n",
    "        content_count = len(content)\n",
    "    \n",
    "    return content_count + extra_count\n",
    "\n",
    "\n",
    "\n",
    "counts = [get_article_length(a['content']) for a in result]\n",
    "counts"
   ]
  },
  {
   "cell_type": "code",
   "execution_count": 95,
   "metadata": {},
   "outputs": [
    {
     "data": {
      "text/html": [
       "<div>\n",
       "<style scoped>\n",
       "    .dataframe tbody tr th:only-of-type {\n",
       "        vertical-align: middle;\n",
       "    }\n",
       "\n",
       "    .dataframe tbody tr th {\n",
       "        vertical-align: top;\n",
       "    }\n",
       "\n",
       "    .dataframe thead th {\n",
       "        text-align: right;\n",
       "    }\n",
       "</style>\n",
       "<table border=\"1\" class=\"dataframe\">\n",
       "  <thead>\n",
       "    <tr style=\"text-align: right;\">\n",
       "      <th></th>\n",
       "      <th>name</th>\n",
       "      <th>published_at</th>\n",
       "      <th>length</th>\n",
       "    </tr>\n",
       "  </thead>\n",
       "  <tbody>\n",
       "    <tr>\n",
       "      <th>0</th>\n",
       "      <td>Business Insider</td>\n",
       "      <td>2024-04-17T20:36:26Z</td>\n",
       "      <td>3913</td>\n",
       "    </tr>\n",
       "    <tr>\n",
       "      <th>1</th>\n",
       "      <td>NPR</td>\n",
       "      <td>2024-04-17T16:52:45Z</td>\n",
       "      <td>2973</td>\n",
       "    </tr>\n",
       "    <tr>\n",
       "      <th>2</th>\n",
       "      <td>ESPN</td>\n",
       "      <td>2024-04-12T16:05:13Z</td>\n",
       "      <td>852</td>\n",
       "    </tr>\n",
       "    <tr>\n",
       "      <th>3</th>\n",
       "      <td>ESPN</td>\n",
       "      <td>2024-04-25T21:05:42Z</td>\n",
       "      <td>1547</td>\n",
       "    </tr>\n",
       "    <tr>\n",
       "      <th>4</th>\n",
       "      <td>ESPN</td>\n",
       "      <td>2024-04-22T12:42:10Z</td>\n",
       "      <td>14898</td>\n",
       "    </tr>\n",
       "    <tr>\n",
       "      <th>...</th>\n",
       "      <td>...</td>\n",
       "      <td>...</td>\n",
       "      <td>...</td>\n",
       "    </tr>\n",
       "    <tr>\n",
       "      <th>93</th>\n",
       "      <td>Die Zeit</td>\n",
       "      <td>2024-04-21T05:39:38Z</td>\n",
       "      <td>2913</td>\n",
       "    </tr>\n",
       "    <tr>\n",
       "      <th>94</th>\n",
       "      <td>Die Zeit</td>\n",
       "      <td>2024-04-28T05:42:33Z</td>\n",
       "      <td>2556</td>\n",
       "    </tr>\n",
       "    <tr>\n",
       "      <th>95</th>\n",
       "      <td>Bleacher Report</td>\n",
       "      <td>2024-04-12T13:09:36Z</td>\n",
       "      <td>1039</td>\n",
       "    </tr>\n",
       "    <tr>\n",
       "      <th>96</th>\n",
       "      <td>Bleacher Report</td>\n",
       "      <td>2024-04-10T16:00:00Z</td>\n",
       "      <td>1489</td>\n",
       "    </tr>\n",
       "    <tr>\n",
       "      <th>97</th>\n",
       "      <td>Business Insider</td>\n",
       "      <td>2024-04-06T19:42:18Z</td>\n",
       "      <td>3284</td>\n",
       "    </tr>\n",
       "  </tbody>\n",
       "</table>\n",
       "<p>98 rows × 3 columns</p>\n",
       "</div>"
      ],
      "text/plain": [
       "                name          published_at  length\n",
       "0   Business Insider  2024-04-17T20:36:26Z    3913\n",
       "1                NPR  2024-04-17T16:52:45Z    2973\n",
       "2               ESPN  2024-04-12T16:05:13Z     852\n",
       "3               ESPN  2024-04-25T21:05:42Z    1547\n",
       "4               ESPN  2024-04-22T12:42:10Z   14898\n",
       "..               ...                   ...     ...\n",
       "93          Die Zeit  2024-04-21T05:39:38Z    2913\n",
       "94          Die Zeit  2024-04-28T05:42:33Z    2556\n",
       "95   Bleacher Report  2024-04-12T13:09:36Z    1039\n",
       "96   Bleacher Report  2024-04-10T16:00:00Z    1489\n",
       "97  Business Insider  2024-04-06T19:42:18Z    3284\n",
       "\n",
       "[98 rows x 3 columns]"
      ]
     },
     "execution_count": 95,
     "metadata": {},
     "output_type": "execute_result"
    }
   ],
   "source": [
    "extracted_data = []\n",
    "\n",
    "for article in everything[\"articles\"]:\n",
    "    # Extract source\n",
    "    name = article[\"source\"][\"name\"]\n",
    "    \n",
    "    if name != '[Removed]':\n",
    "        char_len = get_article_length(article['content'])\n",
    "\n",
    "        data = [name, article['publishedAt'], char_len]\n",
    "        extracted_data.append(data)\n",
    "\n",
    "df = pd.DataFrame(extracted_data, columns=[\"name\", \"published_at\", \"length\"])\n",
    "df"
   ]
  },
  {
   "cell_type": "code",
   "execution_count": 96,
   "metadata": {},
   "outputs": [],
   "source": [
    "df['published_at'] = pd.to_datetime(df['published_at'])\n"
   ]
  },
  {
   "cell_type": "code",
   "execution_count": 97,
   "metadata": {},
   "outputs": [],
   "source": [
    "df['date'] = df['published_at'].dt.date\n",
    "df_group = df.groupby('date', as_index=False)['length'].count()"
   ]
  },
  {
   "cell_type": "code",
   "execution_count": 98,
   "metadata": {},
   "outputs": [
    {
     "data": {
      "application/vnd.plotly.v1+json": {
       "config": {
        "plotlyServerURL": "https://plotly.com"
       },
       "data": [
        {
         "hovertemplate": "Date=%{x}<br>Articles=%{y}<extra></extra>",
         "legendgroup": "",
         "line": {
          "color": "#636efa",
          "dash": "solid"
         },
         "marker": {
          "symbol": "circle"
         },
         "mode": "lines",
         "name": "",
         "orientation": "v",
         "showlegend": false,
         "type": "scatter",
         "x": [
          "2024-04-03",
          "2024-04-04",
          "2024-04-05",
          "2024-04-06",
          "2024-04-07",
          "2024-04-08",
          "2024-04-10",
          "2024-04-11",
          "2024-04-12",
          "2024-04-13",
          "2024-04-14",
          "2024-04-15",
          "2024-04-16",
          "2024-04-17",
          "2024-04-18",
          "2024-04-19",
          "2024-04-20",
          "2024-04-21",
          "2024-04-22",
          "2024-04-23",
          "2024-04-24",
          "2024-04-25",
          "2024-04-27",
          "2024-04-28",
          "2024-04-29",
          "2024-04-30",
          "2024-05-02",
          "2024-05-03"
         ],
         "xaxis": "x",
         "y": [
          1,
          4,
          5,
          2,
          2,
          3,
          5,
          2,
          6,
          2,
          8,
          3,
          1,
          7,
          3,
          4,
          3,
          2,
          8,
          4,
          3,
          4,
          3,
          3,
          4,
          2,
          3,
          1
         ],
         "yaxis": "y"
        }
       ],
       "layout": {
        "legend": {
         "tracegroupgap": 0
        },
        "margin": {
         "t": 60
        },
        "template": {
         "data": {
          "bar": [
           {
            "error_x": {
             "color": "#f2f5fa"
            },
            "error_y": {
             "color": "#f2f5fa"
            },
            "marker": {
             "line": {
              "color": "rgb(17,17,17)",
              "width": 0.5
             },
             "pattern": {
              "fillmode": "overlay",
              "size": 10,
              "solidity": 0.2
             }
            },
            "type": "bar"
           }
          ],
          "barpolar": [
           {
            "marker": {
             "line": {
              "color": "rgb(17,17,17)",
              "width": 0.5
             },
             "pattern": {
              "fillmode": "overlay",
              "size": 10,
              "solidity": 0.2
             }
            },
            "type": "barpolar"
           }
          ],
          "carpet": [
           {
            "aaxis": {
             "endlinecolor": "#A2B1C6",
             "gridcolor": "#506784",
             "linecolor": "#506784",
             "minorgridcolor": "#506784",
             "startlinecolor": "#A2B1C6"
            },
            "baxis": {
             "endlinecolor": "#A2B1C6",
             "gridcolor": "#506784",
             "linecolor": "#506784",
             "minorgridcolor": "#506784",
             "startlinecolor": "#A2B1C6"
            },
            "type": "carpet"
           }
          ],
          "choropleth": [
           {
            "colorbar": {
             "outlinewidth": 0,
             "ticks": ""
            },
            "type": "choropleth"
           }
          ],
          "contour": [
           {
            "colorbar": {
             "outlinewidth": 0,
             "ticks": ""
            },
            "colorscale": [
             [
              0,
              "#0d0887"
             ],
             [
              0.1111111111111111,
              "#46039f"
             ],
             [
              0.2222222222222222,
              "#7201a8"
             ],
             [
              0.3333333333333333,
              "#9c179e"
             ],
             [
              0.4444444444444444,
              "#bd3786"
             ],
             [
              0.5555555555555556,
              "#d8576b"
             ],
             [
              0.6666666666666666,
              "#ed7953"
             ],
             [
              0.7777777777777778,
              "#fb9f3a"
             ],
             [
              0.8888888888888888,
              "#fdca26"
             ],
             [
              1,
              "#f0f921"
             ]
            ],
            "type": "contour"
           }
          ],
          "contourcarpet": [
           {
            "colorbar": {
             "outlinewidth": 0,
             "ticks": ""
            },
            "type": "contourcarpet"
           }
          ],
          "heatmap": [
           {
            "colorbar": {
             "outlinewidth": 0,
             "ticks": ""
            },
            "colorscale": [
             [
              0,
              "#0d0887"
             ],
             [
              0.1111111111111111,
              "#46039f"
             ],
             [
              0.2222222222222222,
              "#7201a8"
             ],
             [
              0.3333333333333333,
              "#9c179e"
             ],
             [
              0.4444444444444444,
              "#bd3786"
             ],
             [
              0.5555555555555556,
              "#d8576b"
             ],
             [
              0.6666666666666666,
              "#ed7953"
             ],
             [
              0.7777777777777778,
              "#fb9f3a"
             ],
             [
              0.8888888888888888,
              "#fdca26"
             ],
             [
              1,
              "#f0f921"
             ]
            ],
            "type": "heatmap"
           }
          ],
          "heatmapgl": [
           {
            "colorbar": {
             "outlinewidth": 0,
             "ticks": ""
            },
            "colorscale": [
             [
              0,
              "#0d0887"
             ],
             [
              0.1111111111111111,
              "#46039f"
             ],
             [
              0.2222222222222222,
              "#7201a8"
             ],
             [
              0.3333333333333333,
              "#9c179e"
             ],
             [
              0.4444444444444444,
              "#bd3786"
             ],
             [
              0.5555555555555556,
              "#d8576b"
             ],
             [
              0.6666666666666666,
              "#ed7953"
             ],
             [
              0.7777777777777778,
              "#fb9f3a"
             ],
             [
              0.8888888888888888,
              "#fdca26"
             ],
             [
              1,
              "#f0f921"
             ]
            ],
            "type": "heatmapgl"
           }
          ],
          "histogram": [
           {
            "marker": {
             "pattern": {
              "fillmode": "overlay",
              "size": 10,
              "solidity": 0.2
             }
            },
            "type": "histogram"
           }
          ],
          "histogram2d": [
           {
            "colorbar": {
             "outlinewidth": 0,
             "ticks": ""
            },
            "colorscale": [
             [
              0,
              "#0d0887"
             ],
             [
              0.1111111111111111,
              "#46039f"
             ],
             [
              0.2222222222222222,
              "#7201a8"
             ],
             [
              0.3333333333333333,
              "#9c179e"
             ],
             [
              0.4444444444444444,
              "#bd3786"
             ],
             [
              0.5555555555555556,
              "#d8576b"
             ],
             [
              0.6666666666666666,
              "#ed7953"
             ],
             [
              0.7777777777777778,
              "#fb9f3a"
             ],
             [
              0.8888888888888888,
              "#fdca26"
             ],
             [
              1,
              "#f0f921"
             ]
            ],
            "type": "histogram2d"
           }
          ],
          "histogram2dcontour": [
           {
            "colorbar": {
             "outlinewidth": 0,
             "ticks": ""
            },
            "colorscale": [
             [
              0,
              "#0d0887"
             ],
             [
              0.1111111111111111,
              "#46039f"
             ],
             [
              0.2222222222222222,
              "#7201a8"
             ],
             [
              0.3333333333333333,
              "#9c179e"
             ],
             [
              0.4444444444444444,
              "#bd3786"
             ],
             [
              0.5555555555555556,
              "#d8576b"
             ],
             [
              0.6666666666666666,
              "#ed7953"
             ],
             [
              0.7777777777777778,
              "#fb9f3a"
             ],
             [
              0.8888888888888888,
              "#fdca26"
             ],
             [
              1,
              "#f0f921"
             ]
            ],
            "type": "histogram2dcontour"
           }
          ],
          "mesh3d": [
           {
            "colorbar": {
             "outlinewidth": 0,
             "ticks": ""
            },
            "type": "mesh3d"
           }
          ],
          "parcoords": [
           {
            "line": {
             "colorbar": {
              "outlinewidth": 0,
              "ticks": ""
             }
            },
            "type": "parcoords"
           }
          ],
          "pie": [
           {
            "automargin": true,
            "type": "pie"
           }
          ],
          "scatter": [
           {
            "marker": {
             "line": {
              "color": "#283442"
             }
            },
            "type": "scatter"
           }
          ],
          "scatter3d": [
           {
            "line": {
             "colorbar": {
              "outlinewidth": 0,
              "ticks": ""
             }
            },
            "marker": {
             "colorbar": {
              "outlinewidth": 0,
              "ticks": ""
             }
            },
            "type": "scatter3d"
           }
          ],
          "scattercarpet": [
           {
            "marker": {
             "colorbar": {
              "outlinewidth": 0,
              "ticks": ""
             }
            },
            "type": "scattercarpet"
           }
          ],
          "scattergeo": [
           {
            "marker": {
             "colorbar": {
              "outlinewidth": 0,
              "ticks": ""
             }
            },
            "type": "scattergeo"
           }
          ],
          "scattergl": [
           {
            "marker": {
             "line": {
              "color": "#283442"
             }
            },
            "type": "scattergl"
           }
          ],
          "scattermapbox": [
           {
            "marker": {
             "colorbar": {
              "outlinewidth": 0,
              "ticks": ""
             }
            },
            "type": "scattermapbox"
           }
          ],
          "scatterpolar": [
           {
            "marker": {
             "colorbar": {
              "outlinewidth": 0,
              "ticks": ""
             }
            },
            "type": "scatterpolar"
           }
          ],
          "scatterpolargl": [
           {
            "marker": {
             "colorbar": {
              "outlinewidth": 0,
              "ticks": ""
             }
            },
            "type": "scatterpolargl"
           }
          ],
          "scatterternary": [
           {
            "marker": {
             "colorbar": {
              "outlinewidth": 0,
              "ticks": ""
             }
            },
            "type": "scatterternary"
           }
          ],
          "surface": [
           {
            "colorbar": {
             "outlinewidth": 0,
             "ticks": ""
            },
            "colorscale": [
             [
              0,
              "#0d0887"
             ],
             [
              0.1111111111111111,
              "#46039f"
             ],
             [
              0.2222222222222222,
              "#7201a8"
             ],
             [
              0.3333333333333333,
              "#9c179e"
             ],
             [
              0.4444444444444444,
              "#bd3786"
             ],
             [
              0.5555555555555556,
              "#d8576b"
             ],
             [
              0.6666666666666666,
              "#ed7953"
             ],
             [
              0.7777777777777778,
              "#fb9f3a"
             ],
             [
              0.8888888888888888,
              "#fdca26"
             ],
             [
              1,
              "#f0f921"
             ]
            ],
            "type": "surface"
           }
          ],
          "table": [
           {
            "cells": {
             "fill": {
              "color": "#506784"
             },
             "line": {
              "color": "rgb(17,17,17)"
             }
            },
            "header": {
             "fill": {
              "color": "#2a3f5f"
             },
             "line": {
              "color": "rgb(17,17,17)"
             }
            },
            "type": "table"
           }
          ]
         },
         "layout": {
          "annotationdefaults": {
           "arrowcolor": "#f2f5fa",
           "arrowhead": 0,
           "arrowwidth": 1
          },
          "autotypenumbers": "strict",
          "coloraxis": {
           "colorbar": {
            "outlinewidth": 0,
            "ticks": ""
           }
          },
          "colorscale": {
           "diverging": [
            [
             0,
             "#8e0152"
            ],
            [
             0.1,
             "#c51b7d"
            ],
            [
             0.2,
             "#de77ae"
            ],
            [
             0.3,
             "#f1b6da"
            ],
            [
             0.4,
             "#fde0ef"
            ],
            [
             0.5,
             "#f7f7f7"
            ],
            [
             0.6,
             "#e6f5d0"
            ],
            [
             0.7,
             "#b8e186"
            ],
            [
             0.8,
             "#7fbc41"
            ],
            [
             0.9,
             "#4d9221"
            ],
            [
             1,
             "#276419"
            ]
           ],
           "sequential": [
            [
             0,
             "#0d0887"
            ],
            [
             0.1111111111111111,
             "#46039f"
            ],
            [
             0.2222222222222222,
             "#7201a8"
            ],
            [
             0.3333333333333333,
             "#9c179e"
            ],
            [
             0.4444444444444444,
             "#bd3786"
            ],
            [
             0.5555555555555556,
             "#d8576b"
            ],
            [
             0.6666666666666666,
             "#ed7953"
            ],
            [
             0.7777777777777778,
             "#fb9f3a"
            ],
            [
             0.8888888888888888,
             "#fdca26"
            ],
            [
             1,
             "#f0f921"
            ]
           ],
           "sequentialminus": [
            [
             0,
             "#0d0887"
            ],
            [
             0.1111111111111111,
             "#46039f"
            ],
            [
             0.2222222222222222,
             "#7201a8"
            ],
            [
             0.3333333333333333,
             "#9c179e"
            ],
            [
             0.4444444444444444,
             "#bd3786"
            ],
            [
             0.5555555555555556,
             "#d8576b"
            ],
            [
             0.6666666666666666,
             "#ed7953"
            ],
            [
             0.7777777777777778,
             "#fb9f3a"
            ],
            [
             0.8888888888888888,
             "#fdca26"
            ],
            [
             1,
             "#f0f921"
            ]
           ]
          },
          "colorway": [
           "#636efa",
           "#EF553B",
           "#00cc96",
           "#ab63fa",
           "#FFA15A",
           "#19d3f3",
           "#FF6692",
           "#B6E880",
           "#FF97FF",
           "#FECB52"
          ],
          "font": {
           "color": "#f2f5fa"
          },
          "geo": {
           "bgcolor": "rgb(17,17,17)",
           "lakecolor": "rgb(17,17,17)",
           "landcolor": "rgb(17,17,17)",
           "showlakes": true,
           "showland": true,
           "subunitcolor": "#506784"
          },
          "hoverlabel": {
           "align": "left"
          },
          "hovermode": "closest",
          "mapbox": {
           "style": "dark"
          },
          "paper_bgcolor": "rgb(17,17,17)",
          "plot_bgcolor": "rgb(17,17,17)",
          "polar": {
           "angularaxis": {
            "gridcolor": "#506784",
            "linecolor": "#506784",
            "ticks": ""
           },
           "bgcolor": "rgb(17,17,17)",
           "radialaxis": {
            "gridcolor": "#506784",
            "linecolor": "#506784",
            "ticks": ""
           }
          },
          "scene": {
           "xaxis": {
            "backgroundcolor": "rgb(17,17,17)",
            "gridcolor": "#506784",
            "gridwidth": 2,
            "linecolor": "#506784",
            "showbackground": true,
            "ticks": "",
            "zerolinecolor": "#C8D4E3"
           },
           "yaxis": {
            "backgroundcolor": "rgb(17,17,17)",
            "gridcolor": "#506784",
            "gridwidth": 2,
            "linecolor": "#506784",
            "showbackground": true,
            "ticks": "",
            "zerolinecolor": "#C8D4E3"
           },
           "zaxis": {
            "backgroundcolor": "rgb(17,17,17)",
            "gridcolor": "#506784",
            "gridwidth": 2,
            "linecolor": "#506784",
            "showbackground": true,
            "ticks": "",
            "zerolinecolor": "#C8D4E3"
           }
          },
          "shapedefaults": {
           "line": {
            "color": "#f2f5fa"
           }
          },
          "sliderdefaults": {
           "bgcolor": "#C8D4E3",
           "bordercolor": "rgb(17,17,17)",
           "borderwidth": 1,
           "tickwidth": 0
          },
          "ternary": {
           "aaxis": {
            "gridcolor": "#506784",
            "linecolor": "#506784",
            "ticks": ""
           },
           "baxis": {
            "gridcolor": "#506784",
            "linecolor": "#506784",
            "ticks": ""
           },
           "bgcolor": "rgb(17,17,17)",
           "caxis": {
            "gridcolor": "#506784",
            "linecolor": "#506784",
            "ticks": ""
           }
          },
          "title": {
           "x": 0.05
          },
          "updatemenudefaults": {
           "bgcolor": "#506784",
           "borderwidth": 0
          },
          "xaxis": {
           "automargin": true,
           "gridcolor": "#283442",
           "linecolor": "#506784",
           "ticks": "",
           "title": {
            "standoff": 15
           },
           "zerolinecolor": "#283442",
           "zerolinewidth": 2
          },
          "yaxis": {
           "automargin": true,
           "gridcolor": "#283442",
           "linecolor": "#506784",
           "ticks": "",
           "title": {
            "standoff": 15
           },
           "zerolinecolor": "#283442",
           "zerolinewidth": 2
          }
         }
        },
        "xaxis": {
         "anchor": "y",
         "domain": [
          0,
          1
         ],
         "title": {
          "text": "Date"
         }
        },
        "yaxis": {
         "anchor": "x",
         "domain": [
          0,
          1
         ],
         "title": {
          "text": "Articles"
         }
        }
       }
      }
     },
     "metadata": {},
     "output_type": "display_data"
    }
   ],
   "source": [
    "fig = px.line(df_group, x='date', y='length', labels={'date': 'Date', 'length': 'Articles'},\n",
    "              template='plotly_dark')\n",
    "fig.show()"
   ]
  },
  {
   "cell_type": "code",
   "execution_count": 99,
   "metadata": {},
   "outputs": [
    {
     "data": {
      "text/html": [
       "<div>\n",
       "<style scoped>\n",
       "    .dataframe tbody tr th:only-of-type {\n",
       "        vertical-align: middle;\n",
       "    }\n",
       "\n",
       "    .dataframe tbody tr th {\n",
       "        vertical-align: top;\n",
       "    }\n",
       "\n",
       "    .dataframe thead th {\n",
       "        text-align: right;\n",
       "    }\n",
       "</style>\n",
       "<table border=\"1\" class=\"dataframe\">\n",
       "  <thead>\n",
       "    <tr style=\"text-align: right;\">\n",
       "      <th></th>\n",
       "      <th>name</th>\n",
       "      <th>count</th>\n",
       "      <th>mean</th>\n",
       "    </tr>\n",
       "  </thead>\n",
       "  <tbody>\n",
       "    <tr>\n",
       "      <th>0</th>\n",
       "      <td>9to5Mac</td>\n",
       "      <td>1</td>\n",
       "      <td>2519.000000</td>\n",
       "    </tr>\n",
       "    <tr>\n",
       "      <th>1</th>\n",
       "      <td>ABC News</td>\n",
       "      <td>1</td>\n",
       "      <td>2009.000000</td>\n",
       "    </tr>\n",
       "    <tr>\n",
       "      <th>2</th>\n",
       "      <td>Android Police</td>\n",
       "      <td>1</td>\n",
       "      <td>6570.000000</td>\n",
       "    </tr>\n",
       "    <tr>\n",
       "      <th>3</th>\n",
       "      <td>Ars Technica</td>\n",
       "      <td>1</td>\n",
       "      <td>5447.000000</td>\n",
       "    </tr>\n",
       "    <tr>\n",
       "      <th>4</th>\n",
       "      <td>Bleacher Report</td>\n",
       "      <td>7</td>\n",
       "      <td>1770.571429</td>\n",
       "    </tr>\n",
       "    <tr>\n",
       "      <th>5</th>\n",
       "      <td>Business Insider</td>\n",
       "      <td>4</td>\n",
       "      <td>3538.250000</td>\n",
       "    </tr>\n",
       "    <tr>\n",
       "      <th>6</th>\n",
       "      <td>Buzzfeed</td>\n",
       "      <td>1</td>\n",
       "      <td>279.000000</td>\n",
       "    </tr>\n",
       "    <tr>\n",
       "      <th>7</th>\n",
       "      <td>CNET</td>\n",
       "      <td>1</td>\n",
       "      <td>2155.000000</td>\n",
       "    </tr>\n",
       "    <tr>\n",
       "      <th>8</th>\n",
       "      <td>Die Zeit</td>\n",
       "      <td>12</td>\n",
       "      <td>2868.000000</td>\n",
       "    </tr>\n",
       "    <tr>\n",
       "      <th>9</th>\n",
       "      <td>Digital Trends</td>\n",
       "      <td>7</td>\n",
       "      <td>2943.571429</td>\n",
       "    </tr>\n",
       "    <tr>\n",
       "      <th>10</th>\n",
       "      <td>ESPN</td>\n",
       "      <td>27</td>\n",
       "      <td>5267.444444</td>\n",
       "    </tr>\n",
       "    <tr>\n",
       "      <th>11</th>\n",
       "      <td>GameSpot</td>\n",
       "      <td>1</td>\n",
       "      <td>1344.000000</td>\n",
       "    </tr>\n",
       "    <tr>\n",
       "      <th>12</th>\n",
       "      <td>HYPEBEAST</td>\n",
       "      <td>4</td>\n",
       "      <td>1228.250000</td>\n",
       "    </tr>\n",
       "    <tr>\n",
       "      <th>13</th>\n",
       "      <td>Hipertextual</td>\n",
       "      <td>1</td>\n",
       "      <td>4760.000000</td>\n",
       "    </tr>\n",
       "    <tr>\n",
       "      <th>14</th>\n",
       "      <td>Le Monde</td>\n",
       "      <td>14</td>\n",
       "      <td>3083.071429</td>\n",
       "    </tr>\n",
       "    <tr>\n",
       "      <th>15</th>\n",
       "      <td>MacRumors</td>\n",
       "      <td>2</td>\n",
       "      <td>1402.500000</td>\n",
       "    </tr>\n",
       "    <tr>\n",
       "      <th>16</th>\n",
       "      <td>NPR</td>\n",
       "      <td>5</td>\n",
       "      <td>3330.200000</td>\n",
       "    </tr>\n",
       "    <tr>\n",
       "      <th>17</th>\n",
       "      <td>ReadWrite</td>\n",
       "      <td>3</td>\n",
       "      <td>2705.333333</td>\n",
       "    </tr>\n",
       "    <tr>\n",
       "      <th>18</th>\n",
       "      <td>Rolling Stone</td>\n",
       "      <td>1</td>\n",
       "      <td>3093.000000</td>\n",
       "    </tr>\n",
       "    <tr>\n",
       "      <th>19</th>\n",
       "      <td>Slashdot.org</td>\n",
       "      <td>1</td>\n",
       "      <td>2926.000000</td>\n",
       "    </tr>\n",
       "    <tr>\n",
       "      <th>20</th>\n",
       "      <td>The Athletic</td>\n",
       "      <td>1</td>\n",
       "      <td>7214.000000</td>\n",
       "    </tr>\n",
       "    <tr>\n",
       "      <th>21</th>\n",
       "      <td>Time</td>\n",
       "      <td>1</td>\n",
       "      <td>7453.000000</td>\n",
       "    </tr>\n",
       "    <tr>\n",
       "      <th>22</th>\n",
       "      <td>Yahoo Entertainment</td>\n",
       "      <td>1</td>\n",
       "      <td>878.000000</td>\n",
       "    </tr>\n",
       "  </tbody>\n",
       "</table>\n",
       "</div>"
      ],
      "text/plain": [
       "                   name  count         mean\n",
       "0               9to5Mac      1  2519.000000\n",
       "1              ABC News      1  2009.000000\n",
       "2        Android Police      1  6570.000000\n",
       "3          Ars Technica      1  5447.000000\n",
       "4       Bleacher Report      7  1770.571429\n",
       "5      Business Insider      4  3538.250000\n",
       "6              Buzzfeed      1   279.000000\n",
       "7                  CNET      1  2155.000000\n",
       "8              Die Zeit     12  2868.000000\n",
       "9        Digital Trends      7  2943.571429\n",
       "10                 ESPN     27  5267.444444\n",
       "11             GameSpot      1  1344.000000\n",
       "12            HYPEBEAST      4  1228.250000\n",
       "13         Hipertextual      1  4760.000000\n",
       "14             Le Monde     14  3083.071429\n",
       "15            MacRumors      2  1402.500000\n",
       "16                  NPR      5  3330.200000\n",
       "17            ReadWrite      3  2705.333333\n",
       "18        Rolling Stone      1  3093.000000\n",
       "19         Slashdot.org      1  2926.000000\n",
       "20         The Athletic      1  7214.000000\n",
       "21                 Time      1  7453.000000\n",
       "22  Yahoo Entertainment      1   878.000000"
      ]
     },
     "execution_count": 99,
     "metadata": {},
     "output_type": "execute_result"
    }
   ],
   "source": [
    "count_df = df.groupby('name', as_index=False)['length'].agg(['count', 'mean'])\n",
    "count_df"
   ]
  },
  {
   "cell_type": "code",
   "execution_count": 102,
   "metadata": {},
   "outputs": [
    {
     "data": {
      "application/vnd.plotly.v1+json": {
       "config": {
        "plotlyServerURL": "https://plotly.com"
       },
       "data": [
        {
         "alignmentgroup": "True",
         "hovertemplate": "mean=%{x}<br>name=%{y}<extra></extra>",
         "legendgroup": "",
         "marker": {
          "color": "#636efa",
          "pattern": {
           "shape": ""
          }
         },
         "name": "",
         "offsetgroup": "",
         "orientation": "h",
         "showlegend": false,
         "textposition": "auto",
         "type": "bar",
         "x": [
          2519,
          2009,
          6570,
          5447,
          1770.5714285714287,
          3538.25,
          279,
          2155,
          2868,
          2943.5714285714284,
          5267.444444444444,
          1344,
          1228.25,
          4760,
          3083.0714285714284,
          1402.5,
          3330.2,
          2705.3333333333335,
          3093,
          2926,
          7214,
          7453,
          878
         ],
         "xaxis": "x",
         "y": [
          "9to5Mac",
          "ABC News",
          "Android Police",
          "Ars Technica",
          "Bleacher Report",
          "Business Insider",
          "Buzzfeed",
          "CNET",
          "Die Zeit",
          "Digital Trends",
          "ESPN",
          "GameSpot",
          "HYPEBEAST",
          "Hipertextual",
          "Le Monde",
          "MacRumors",
          "NPR",
          "ReadWrite",
          "Rolling Stone",
          "Slashdot.org",
          "The Athletic",
          "Time",
          "Yahoo Entertainment"
         ],
         "yaxis": "y"
        }
       ],
       "layout": {
        "barmode": "relative",
        "legend": {
         "tracegroupgap": 0
        },
        "margin": {
         "t": 60
        },
        "shapes": [
         {
          "line": {
           "color": "firebrick",
           "dash": "dot"
          },
          "type": "line",
          "x0": 3531.469387755102,
          "x1": 3531.469387755102,
          "xref": "x",
          "y0": 0,
          "y1": 1,
          "yref": "y domain"
         }
        ],
        "template": {
         "data": {
          "bar": [
           {
            "error_x": {
             "color": "#f2f5fa"
            },
            "error_y": {
             "color": "#f2f5fa"
            },
            "marker": {
             "line": {
              "color": "rgb(17,17,17)",
              "width": 0.5
             },
             "pattern": {
              "fillmode": "overlay",
              "size": 10,
              "solidity": 0.2
             }
            },
            "type": "bar"
           }
          ],
          "barpolar": [
           {
            "marker": {
             "line": {
              "color": "rgb(17,17,17)",
              "width": 0.5
             },
             "pattern": {
              "fillmode": "overlay",
              "size": 10,
              "solidity": 0.2
             }
            },
            "type": "barpolar"
           }
          ],
          "carpet": [
           {
            "aaxis": {
             "endlinecolor": "#A2B1C6",
             "gridcolor": "#506784",
             "linecolor": "#506784",
             "minorgridcolor": "#506784",
             "startlinecolor": "#A2B1C6"
            },
            "baxis": {
             "endlinecolor": "#A2B1C6",
             "gridcolor": "#506784",
             "linecolor": "#506784",
             "minorgridcolor": "#506784",
             "startlinecolor": "#A2B1C6"
            },
            "type": "carpet"
           }
          ],
          "choropleth": [
           {
            "colorbar": {
             "outlinewidth": 0,
             "ticks": ""
            },
            "type": "choropleth"
           }
          ],
          "contour": [
           {
            "colorbar": {
             "outlinewidth": 0,
             "ticks": ""
            },
            "colorscale": [
             [
              0,
              "#0d0887"
             ],
             [
              0.1111111111111111,
              "#46039f"
             ],
             [
              0.2222222222222222,
              "#7201a8"
             ],
             [
              0.3333333333333333,
              "#9c179e"
             ],
             [
              0.4444444444444444,
              "#bd3786"
             ],
             [
              0.5555555555555556,
              "#d8576b"
             ],
             [
              0.6666666666666666,
              "#ed7953"
             ],
             [
              0.7777777777777778,
              "#fb9f3a"
             ],
             [
              0.8888888888888888,
              "#fdca26"
             ],
             [
              1,
              "#f0f921"
             ]
            ],
            "type": "contour"
           }
          ],
          "contourcarpet": [
           {
            "colorbar": {
             "outlinewidth": 0,
             "ticks": ""
            },
            "type": "contourcarpet"
           }
          ],
          "heatmap": [
           {
            "colorbar": {
             "outlinewidth": 0,
             "ticks": ""
            },
            "colorscale": [
             [
              0,
              "#0d0887"
             ],
             [
              0.1111111111111111,
              "#46039f"
             ],
             [
              0.2222222222222222,
              "#7201a8"
             ],
             [
              0.3333333333333333,
              "#9c179e"
             ],
             [
              0.4444444444444444,
              "#bd3786"
             ],
             [
              0.5555555555555556,
              "#d8576b"
             ],
             [
              0.6666666666666666,
              "#ed7953"
             ],
             [
              0.7777777777777778,
              "#fb9f3a"
             ],
             [
              0.8888888888888888,
              "#fdca26"
             ],
             [
              1,
              "#f0f921"
             ]
            ],
            "type": "heatmap"
           }
          ],
          "heatmapgl": [
           {
            "colorbar": {
             "outlinewidth": 0,
             "ticks": ""
            },
            "colorscale": [
             [
              0,
              "#0d0887"
             ],
             [
              0.1111111111111111,
              "#46039f"
             ],
             [
              0.2222222222222222,
              "#7201a8"
             ],
             [
              0.3333333333333333,
              "#9c179e"
             ],
             [
              0.4444444444444444,
              "#bd3786"
             ],
             [
              0.5555555555555556,
              "#d8576b"
             ],
             [
              0.6666666666666666,
              "#ed7953"
             ],
             [
              0.7777777777777778,
              "#fb9f3a"
             ],
             [
              0.8888888888888888,
              "#fdca26"
             ],
             [
              1,
              "#f0f921"
             ]
            ],
            "type": "heatmapgl"
           }
          ],
          "histogram": [
           {
            "marker": {
             "pattern": {
              "fillmode": "overlay",
              "size": 10,
              "solidity": 0.2
             }
            },
            "type": "histogram"
           }
          ],
          "histogram2d": [
           {
            "colorbar": {
             "outlinewidth": 0,
             "ticks": ""
            },
            "colorscale": [
             [
              0,
              "#0d0887"
             ],
             [
              0.1111111111111111,
              "#46039f"
             ],
             [
              0.2222222222222222,
              "#7201a8"
             ],
             [
              0.3333333333333333,
              "#9c179e"
             ],
             [
              0.4444444444444444,
              "#bd3786"
             ],
             [
              0.5555555555555556,
              "#d8576b"
             ],
             [
              0.6666666666666666,
              "#ed7953"
             ],
             [
              0.7777777777777778,
              "#fb9f3a"
             ],
             [
              0.8888888888888888,
              "#fdca26"
             ],
             [
              1,
              "#f0f921"
             ]
            ],
            "type": "histogram2d"
           }
          ],
          "histogram2dcontour": [
           {
            "colorbar": {
             "outlinewidth": 0,
             "ticks": ""
            },
            "colorscale": [
             [
              0,
              "#0d0887"
             ],
             [
              0.1111111111111111,
              "#46039f"
             ],
             [
              0.2222222222222222,
              "#7201a8"
             ],
             [
              0.3333333333333333,
              "#9c179e"
             ],
             [
              0.4444444444444444,
              "#bd3786"
             ],
             [
              0.5555555555555556,
              "#d8576b"
             ],
             [
              0.6666666666666666,
              "#ed7953"
             ],
             [
              0.7777777777777778,
              "#fb9f3a"
             ],
             [
              0.8888888888888888,
              "#fdca26"
             ],
             [
              1,
              "#f0f921"
             ]
            ],
            "type": "histogram2dcontour"
           }
          ],
          "mesh3d": [
           {
            "colorbar": {
             "outlinewidth": 0,
             "ticks": ""
            },
            "type": "mesh3d"
           }
          ],
          "parcoords": [
           {
            "line": {
             "colorbar": {
              "outlinewidth": 0,
              "ticks": ""
             }
            },
            "type": "parcoords"
           }
          ],
          "pie": [
           {
            "automargin": true,
            "type": "pie"
           }
          ],
          "scatter": [
           {
            "marker": {
             "line": {
              "color": "#283442"
             }
            },
            "type": "scatter"
           }
          ],
          "scatter3d": [
           {
            "line": {
             "colorbar": {
              "outlinewidth": 0,
              "ticks": ""
             }
            },
            "marker": {
             "colorbar": {
              "outlinewidth": 0,
              "ticks": ""
             }
            },
            "type": "scatter3d"
           }
          ],
          "scattercarpet": [
           {
            "marker": {
             "colorbar": {
              "outlinewidth": 0,
              "ticks": ""
             }
            },
            "type": "scattercarpet"
           }
          ],
          "scattergeo": [
           {
            "marker": {
             "colorbar": {
              "outlinewidth": 0,
              "ticks": ""
             }
            },
            "type": "scattergeo"
           }
          ],
          "scattergl": [
           {
            "marker": {
             "line": {
              "color": "#283442"
             }
            },
            "type": "scattergl"
           }
          ],
          "scattermapbox": [
           {
            "marker": {
             "colorbar": {
              "outlinewidth": 0,
              "ticks": ""
             }
            },
            "type": "scattermapbox"
           }
          ],
          "scatterpolar": [
           {
            "marker": {
             "colorbar": {
              "outlinewidth": 0,
              "ticks": ""
             }
            },
            "type": "scatterpolar"
           }
          ],
          "scatterpolargl": [
           {
            "marker": {
             "colorbar": {
              "outlinewidth": 0,
              "ticks": ""
             }
            },
            "type": "scatterpolargl"
           }
          ],
          "scatterternary": [
           {
            "marker": {
             "colorbar": {
              "outlinewidth": 0,
              "ticks": ""
             }
            },
            "type": "scatterternary"
           }
          ],
          "surface": [
           {
            "colorbar": {
             "outlinewidth": 0,
             "ticks": ""
            },
            "colorscale": [
             [
              0,
              "#0d0887"
             ],
             [
              0.1111111111111111,
              "#46039f"
             ],
             [
              0.2222222222222222,
              "#7201a8"
             ],
             [
              0.3333333333333333,
              "#9c179e"
             ],
             [
              0.4444444444444444,
              "#bd3786"
             ],
             [
              0.5555555555555556,
              "#d8576b"
             ],
             [
              0.6666666666666666,
              "#ed7953"
             ],
             [
              0.7777777777777778,
              "#fb9f3a"
             ],
             [
              0.8888888888888888,
              "#fdca26"
             ],
             [
              1,
              "#f0f921"
             ]
            ],
            "type": "surface"
           }
          ],
          "table": [
           {
            "cells": {
             "fill": {
              "color": "#506784"
             },
             "line": {
              "color": "rgb(17,17,17)"
             }
            },
            "header": {
             "fill": {
              "color": "#2a3f5f"
             },
             "line": {
              "color": "rgb(17,17,17)"
             }
            },
            "type": "table"
           }
          ]
         },
         "layout": {
          "annotationdefaults": {
           "arrowcolor": "#f2f5fa",
           "arrowhead": 0,
           "arrowwidth": 1
          },
          "autotypenumbers": "strict",
          "coloraxis": {
           "colorbar": {
            "outlinewidth": 0,
            "ticks": ""
           }
          },
          "colorscale": {
           "diverging": [
            [
             0,
             "#8e0152"
            ],
            [
             0.1,
             "#c51b7d"
            ],
            [
             0.2,
             "#de77ae"
            ],
            [
             0.3,
             "#f1b6da"
            ],
            [
             0.4,
             "#fde0ef"
            ],
            [
             0.5,
             "#f7f7f7"
            ],
            [
             0.6,
             "#e6f5d0"
            ],
            [
             0.7,
             "#b8e186"
            ],
            [
             0.8,
             "#7fbc41"
            ],
            [
             0.9,
             "#4d9221"
            ],
            [
             1,
             "#276419"
            ]
           ],
           "sequential": [
            [
             0,
             "#0d0887"
            ],
            [
             0.1111111111111111,
             "#46039f"
            ],
            [
             0.2222222222222222,
             "#7201a8"
            ],
            [
             0.3333333333333333,
             "#9c179e"
            ],
            [
             0.4444444444444444,
             "#bd3786"
            ],
            [
             0.5555555555555556,
             "#d8576b"
            ],
            [
             0.6666666666666666,
             "#ed7953"
            ],
            [
             0.7777777777777778,
             "#fb9f3a"
            ],
            [
             0.8888888888888888,
             "#fdca26"
            ],
            [
             1,
             "#f0f921"
            ]
           ],
           "sequentialminus": [
            [
             0,
             "#0d0887"
            ],
            [
             0.1111111111111111,
             "#46039f"
            ],
            [
             0.2222222222222222,
             "#7201a8"
            ],
            [
             0.3333333333333333,
             "#9c179e"
            ],
            [
             0.4444444444444444,
             "#bd3786"
            ],
            [
             0.5555555555555556,
             "#d8576b"
            ],
            [
             0.6666666666666666,
             "#ed7953"
            ],
            [
             0.7777777777777778,
             "#fb9f3a"
            ],
            [
             0.8888888888888888,
             "#fdca26"
            ],
            [
             1,
             "#f0f921"
            ]
           ]
          },
          "colorway": [
           "#636efa",
           "#EF553B",
           "#00cc96",
           "#ab63fa",
           "#FFA15A",
           "#19d3f3",
           "#FF6692",
           "#B6E880",
           "#FF97FF",
           "#FECB52"
          ],
          "font": {
           "color": "#f2f5fa"
          },
          "geo": {
           "bgcolor": "rgb(17,17,17)",
           "lakecolor": "rgb(17,17,17)",
           "landcolor": "rgb(17,17,17)",
           "showlakes": true,
           "showland": true,
           "subunitcolor": "#506784"
          },
          "hoverlabel": {
           "align": "left"
          },
          "hovermode": "closest",
          "mapbox": {
           "style": "dark"
          },
          "paper_bgcolor": "rgb(17,17,17)",
          "plot_bgcolor": "rgb(17,17,17)",
          "polar": {
           "angularaxis": {
            "gridcolor": "#506784",
            "linecolor": "#506784",
            "ticks": ""
           },
           "bgcolor": "rgb(17,17,17)",
           "radialaxis": {
            "gridcolor": "#506784",
            "linecolor": "#506784",
            "ticks": ""
           }
          },
          "scene": {
           "xaxis": {
            "backgroundcolor": "rgb(17,17,17)",
            "gridcolor": "#506784",
            "gridwidth": 2,
            "linecolor": "#506784",
            "showbackground": true,
            "ticks": "",
            "zerolinecolor": "#C8D4E3"
           },
           "yaxis": {
            "backgroundcolor": "rgb(17,17,17)",
            "gridcolor": "#506784",
            "gridwidth": 2,
            "linecolor": "#506784",
            "showbackground": true,
            "ticks": "",
            "zerolinecolor": "#C8D4E3"
           },
           "zaxis": {
            "backgroundcolor": "rgb(17,17,17)",
            "gridcolor": "#506784",
            "gridwidth": 2,
            "linecolor": "#506784",
            "showbackground": true,
            "ticks": "",
            "zerolinecolor": "#C8D4E3"
           }
          },
          "shapedefaults": {
           "line": {
            "color": "#f2f5fa"
           }
          },
          "sliderdefaults": {
           "bgcolor": "#C8D4E3",
           "bordercolor": "rgb(17,17,17)",
           "borderwidth": 1,
           "tickwidth": 0
          },
          "ternary": {
           "aaxis": {
            "gridcolor": "#506784",
            "linecolor": "#506784",
            "ticks": ""
           },
           "baxis": {
            "gridcolor": "#506784",
            "linecolor": "#506784",
            "ticks": ""
           },
           "bgcolor": "rgb(17,17,17)",
           "caxis": {
            "gridcolor": "#506784",
            "linecolor": "#506784",
            "ticks": ""
           }
          },
          "title": {
           "x": 0.05
          },
          "updatemenudefaults": {
           "bgcolor": "#506784",
           "borderwidth": 0
          },
          "xaxis": {
           "automargin": true,
           "gridcolor": "#283442",
           "linecolor": "#506784",
           "ticks": "",
           "title": {
            "standoff": 15
           },
           "zerolinecolor": "#283442",
           "zerolinewidth": 2
          },
          "yaxis": {
           "automargin": true,
           "gridcolor": "#283442",
           "linecolor": "#506784",
           "ticks": "",
           "title": {
            "standoff": 15
           },
           "zerolinecolor": "#283442",
           "zerolinewidth": 2
          }
         }
        },
        "xaxis": {
         "anchor": "y",
         "domain": [
          0,
          1
         ],
         "title": {
          "text": "mean"
         }
        },
        "yaxis": {
         "anchor": "x",
         "domain": [
          0,
          1
         ],
         "title": {
          "text": "name"
         }
        }
       }
      }
     },
     "metadata": {},
     "output_type": "display_data"
    }
   ],
   "source": [
    "fig = px.bar(count_df, x='mean', y='name', orientation='h', \n",
    "             labels={'name': 'Source', 'mean': 'Article Length (avg.)'}, template='plotly_dark')\n",
    "fig.add_vline(x=df[\"length\"].mean(), line_color=\"firebrick\", line_dash=\"dot\")\n",
    "fig.show()"
   ]
  },
  {
   "cell_type": "code",
   "execution_count": null,
   "metadata": {},
   "outputs": [],
   "source": []
  }
 ],
 "metadata": {
  "kernelspec": {
   "display_name": ".venv",
   "language": "python",
   "name": "python3"
  },
  "language_info": {
   "codemirror_mode": {
    "name": "ipython",
    "version": 3
   },
   "file_extension": ".py",
   "mimetype": "text/x-python",
   "name": "python",
   "nbconvert_exporter": "python",
   "pygments_lexer": "ipython3",
   "version": "3.9.13"
  }
 },
 "nbformat": 4,
 "nbformat_minor": 2
}
